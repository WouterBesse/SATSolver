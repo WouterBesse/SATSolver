{
 "cells": [
  {
   "cell_type": "markdown",
   "metadata": {},
   "source": [
    "# SAT Solver Assignment\n",
    "Group 69<br>\n",
    "**Knowledge Representation**<br>\n",
    "November 2024"
   ]
  },
  {
   "cell_type": "markdown",
   "metadata": {},
   "source": [
    "****\n",
    "\n",
    "## Preperations\n",
    "\n",
    "*Everything we need to have before we can build the SAT Solver.*\n",
    "\n",
    "**Imports** - Use this cell for all imports."
   ]
  },
  {
   "cell_type": "code",
   "execution_count": 2,
   "metadata": {},
   "outputs": [
    {
     "name": "stderr",
     "output_type": "stream",
     "text": [
      "C:\\Users\\woute\\AppData\\Local\\Temp\\ipykernel_14348\\964927310.py:3: TqdmExperimentalWarning: Using `tqdm.autonotebook.tqdm` in notebook mode. Use `tqdm.tqdm` instead to force console mode (e.g. in jupyter console)\n",
      "  from tqdm.autonotebook import tqdm\n"
     ]
    }
   ],
   "source": [
    "# import modules\n",
    "import math\n",
    "from tqdm.autonotebook import tqdm\n",
    "from collections import Counter\n"
   ]
  },
  {
   "cell_type": "markdown",
   "metadata": {},
   "source": [
    "**Data** - Import the needed data. The data needs to be in DIMACS format. Each clause in DIMACS CNF consists of:\n",
    "\n",
    "- A series of positive or negative literals (numbers) that represent a Boolean variable or its negation.\n",
    "- Each clause ends with 0.\n",
    "- Each variable in DIMACS CNF is a positive integer, with unique integers representing each Boolean variable.\n",
    "\n",
    "For Sudoku, we use a triplet `(r, c, n)`:\n",
    "- `r` for the row (1 to 9)\n",
    "- `c` for the column (1 to 9)\n",
    "- `n` for the number (1 to 9)"
   ]
  },
  {
   "cell_type": "code",
   "execution_count": 3,
   "metadata": {},
   "outputs": [
    {
     "ename": "FileNotFoundError",
     "evalue": "[Errno 2] No such file or directory: './top91.sdk.txt'",
     "output_type": "error",
     "traceback": [
      "\u001b[1;31m---------------------------------------------------------------------------\u001b[0m",
      "\u001b[1;31mFileNotFoundError\u001b[0m                         Traceback (most recent call last)",
      "Cell \u001b[1;32mIn[3], line 2\u001b[0m\n\u001b[0;32m      1\u001b[0m \u001b[38;5;66;03m# Geeft een file met 91 sudoku's terug, sudokus[0] is de eerste sudoku met len(sudokus[0]) == 81 (9x9=81 karakters)\u001b[39;00m\n\u001b[1;32m----> 2\u001b[0m \u001b[38;5;28;01mwith\u001b[39;00m \u001b[38;5;28mopen\u001b[39m(\u001b[38;5;124m'\u001b[39m\u001b[38;5;124m./top91.sdk.txt\u001b[39m\u001b[38;5;124m'\u001b[39m) \u001b[38;5;28;01mas\u001b[39;00m f:\n\u001b[0;32m      3\u001b[0m     sudokus \u001b[38;5;241m=\u001b[39m f\u001b[38;5;241m.\u001b[39mread()\u001b[38;5;241m.\u001b[39msplitlines()\n",
      "File \u001b[1;32mc:\\ProgramData\\anaconda3\\envs\\CUT\\Lib\\site-packages\\IPython\\core\\interactiveshell.py:310\u001b[0m, in \u001b[0;36m_modified_open\u001b[1;34m(file, *args, **kwargs)\u001b[0m\n\u001b[0;32m    303\u001b[0m \u001b[38;5;28;01mif\u001b[39;00m file \u001b[38;5;129;01min\u001b[39;00m {\u001b[38;5;241m0\u001b[39m, \u001b[38;5;241m1\u001b[39m, \u001b[38;5;241m2\u001b[39m}:\n\u001b[0;32m    304\u001b[0m     \u001b[38;5;28;01mraise\u001b[39;00m \u001b[38;5;167;01mValueError\u001b[39;00m(\n\u001b[0;32m    305\u001b[0m         \u001b[38;5;124mf\u001b[39m\u001b[38;5;124m\"\u001b[39m\u001b[38;5;124mIPython won\u001b[39m\u001b[38;5;124m'\u001b[39m\u001b[38;5;124mt let you open fd=\u001b[39m\u001b[38;5;132;01m{\u001b[39;00mfile\u001b[38;5;132;01m}\u001b[39;00m\u001b[38;5;124m by default \u001b[39m\u001b[38;5;124m\"\u001b[39m\n\u001b[0;32m    306\u001b[0m         \u001b[38;5;124m\"\u001b[39m\u001b[38;5;124mas it is likely to crash IPython. If you know what you are doing, \u001b[39m\u001b[38;5;124m\"\u001b[39m\n\u001b[0;32m    307\u001b[0m         \u001b[38;5;124m\"\u001b[39m\u001b[38;5;124myou can use builtins\u001b[39m\u001b[38;5;124m'\u001b[39m\u001b[38;5;124m open.\u001b[39m\u001b[38;5;124m\"\u001b[39m\n\u001b[0;32m    308\u001b[0m     )\n\u001b[1;32m--> 310\u001b[0m \u001b[38;5;28;01mreturn\u001b[39;00m io_open(file, \u001b[38;5;241m*\u001b[39margs, \u001b[38;5;241m*\u001b[39m\u001b[38;5;241m*\u001b[39mkwargs)\n",
      "\u001b[1;31mFileNotFoundError\u001b[0m: [Errno 2] No such file or directory: './top91.sdk.txt'"
     ]
    }
   ],
   "source": [
    "# Geeft een file met 91 sudoku's terug, sudokus[0] is de eerste sudoku met len(sudokus[0]) == 81 (9x9=81 karakters)\n",
    "with open('./top91.sdk.txt') as f:\n",
    "    sudokus = f.read().splitlines()"
   ]
  },
  {
   "cell_type": "markdown",
   "metadata": {},
   "source": [
    "*You are free to choose any programming language you fancy, but we must be able to run your SAT solver with the command SAT -Sn inputfile , for example: SAT -S2 sudoku_nr_10 , where SAT is the (compulsory) name of your program, n=1 for the basic DP and n=2 or 3 for your two other strategies, and the input file is the concatenation of all required input clauses (in your case: sudoku rules + given puzzle).*"
   ]
  },
  {
   "cell_type": "markdown",
   "metadata": {},
   "source": [
    "****\n",
    "\n",
    "## Part 1 - Building the SAT Solver"
   ]
  },
  {
   "cell_type": "markdown",
   "metadata": {},
   "source": [
    "**The Rules of Sudoku**\n",
    "1. Each number (1-9) must appear exactly once in each row.\n",
    "2. Each number must appear exactly once in each column.\n",
    "3. Each number must appear exactly once in each 3x3 subgrid.\n",
    "\n",
    "**The Data of Sudoku in DIMACS**"
   ]
  },
  {
   "cell_type": "code",
   "execution_count": 4,
   "metadata": {},
   "outputs": [],
   "source": [
    "# see util.py\n",
    "from util import *"
   ]
  },
  {
   "cell_type": "markdown",
   "metadata": {},
   "source": [
    "**Functions to Assign Obvious Values** - Fill in the single and pure literal clauses."
   ]
  },
  {
   "cell_type": "code",
   "execution_count": null,
   "metadata": {},
   "outputs": [],
   "source": [
    "# see literalmethods.py"
   ]
  },
  {
   "cell_type": "markdown",
   "metadata": {},
   "source": [
    "**Heuristics** - Two different heuristics of our choice"
   ]
  },
  {
   "cell_type": "code",
   "execution_count": null,
   "metadata": {},
   "outputs": [],
   "source": [
    "# see hueristics.py"
   ]
  },
  {
   "cell_type": "markdown",
   "metadata": {},
   "source": [
    "**DPLL Algorithm** - DPLL recursive algorithm function,  without heuristics, to perform the fucntions above and recursively gives values to literals."
   ]
  },
  {
   "cell_type": "code",
   "execution_count": null,
   "metadata": {},
   "outputs": [],
   "source": [
    "# see SAT.py"
   ]
  },
  {
   "cell_type": "markdown",
   "metadata": {},
   "source": [
    "*give (2)+(3) as input to (1) and return the solution to the given puzzle. This output should again be a DIMACS file, but containing only the truth assignment to all variables (729 for Sudoku, different for other SAT problems). If your input file is called 'filename', then make sure your outputfile is called 'filename.out'. If there is no solution (inconsistent problem), the output can be an empty file. If there are multiple solutions (eg. non-proper Sudoku) you only need to return a single solution.*"
   ]
  },
  {
   "cell_type": "markdown",
   "metadata": {},
   "source": [
    "**SAT Solver** - Solves the Sudoku\n",
    "\n",
    "Extra information about the code:\n",
    "Each cell in a Sudoku puzzle can be represented by a unique variable based on its row, column, and possible number. The encoding formula for each variable is:\n",
    "\n",
    "`variable=(i+1)×100+(j+1)×10+value`<br>\n",
    "\n",
    "where:<br>\n",
    "\n",
    "`i is the row index (0 to 8)`<br>\n",
    "`j is the column index (0 to 8)`<br>\n",
    "`value is the number in the cell (1 to 9)`<br>\n",
    "\n",
    "This formula converts each cell and its possible values into unique numbers by combining the row, column, and value in a single integer. For example, if a cell at row 0, column 0 can be a 5, the encoded variable would be:<br>\n",
    "\n",
    "`variable=(0+1)×100+(0+1)×10+5=115`<br>"
   ]
  },
  {
   "cell_type": "code",
   "execution_count": 7,
   "metadata": {},
   "outputs": [],
   "source": [
    "from SAT import solve_sudoku"
   ]
  },
  {
   "cell_type": "markdown",
   "metadata": {},
   "source": [
    "**Test Sudoku** - Try and see if it works"
   ]
  },
  {
   "cell_type": "code",
   "execution_count": null,
   "metadata": {},
   "outputs": [
    {
     "name": "stdout",
     "output_type": "stream",
     "text": [
      "puzzledim: 16\n",
      "[[1, 0, 13, 0, 0, 0, 0, 4, 0, 10, 5, 8, 0, 0, 0, 0], [0, 14, 0, 0, 0, 0, 0, 0, 0, 0, 0, 12, 0, 0, 0, 16], [0, 2, 0, 7, 6, 0, 16, 11, 15, 0, 0, 4, 0, 0, 0, 0], [3, 9, 15, 0, 1, 10, 0, 13, 7, 0, 0, 0, 0, 0, 0, 0], [0, 4, 0, 6, 0, 3, 1, 0, 0, 0, 11, 0, 5, 8, 0, 12], [8, 12, 7, 14, 0, 6, 9, 0, 0, 15, 0, 0, 0, 0, 0, 13], [0, 0, 0, 13, 0, 0, 0, 0, 0, 0, 0, 0, 0, 0, 2, 0], [0, 0, 10, 0, 16, 8, 12, 0, 0, 0, 0, 7, 14, 0, 1, 4], [2, 6, 0, 16, 4, 0, 0, 0, 0, 5, 7, 15, 0, 10, 0, 0], [0, 11, 0, 0, 0, 0, 0, 0, 0, 0, 0, 0, 8, 0, 0, 0], [15, 0, 0, 0, 0, 0, 11, 0, 0, 3, 10, 0, 4, 2, 14, 1], [10, 0, 4, 12, 0, 5, 0, 0, 0, 14, 6, 0, 7, 0, 3, 0], [0, 0, 0, 0, 0, 0, 0, 3, 13, 0, 12, 5, 0, 7, 11, 2], [0, 0, 0, 0, 9, 0, 0, 1, 16, 11, 0, 6, 3, 0, 4, 0], [12, 0, 0, 0, 2, 0, 0, 0, 0, 0, 0, 0, 0, 0, 6, 0], [0, 0, 0, 0, 8, 15, 13, 0, 3, 0, 0, 0, 0, 9, 0, 14]]\n"
     ]
    }
   ],
   "source": [
    "# Load the Sudoku rules and the puzzle\n",
    "filename = './sudoku/sudoku-rules-16x16.txt'\n",
    "rules = load_rules(filename)\n",
    "# print(rules)\n",
    "\n",
    "# Load the puzzles from the file and select the second puzzle (index 1)\n",
    "puzzles, size = load_sudoku('./sudoku/16x16.txt')\n",
    "puzzle = puzzles[0]\n",
    "print(puzzle)\n",
    "\n",
    "# Solve the Sudoku puzzle\n",
    "solution = solve_sudoku(rules, puzzle, size, heuristic='chb')\n",
    "\n",
    "print('puzzle:     ', puzzle)\n",
    "print('solution:   ', solution)\n",
    "\n",
    "# If a solution is found, print the solved Sudoku grid\n",
    "if solution:\n",
    "    for row in solution:\n",
    "        print(row)\n",
    "        if 0 in row:\n",
    "            print(\"PANIEK\")\n",
    "else:\n",
    "    print(\"No solution found\")\n",
    "    # 263 385 517 566 647\n",
    "    \n",
    "# solution:    [[1, 16, 13, 11, 12, 2, 3, 4, 9, 10, 5, 8, 6, 14, 15, 7], [4, 14, 6, 10, 5, 7, 15, 8, 1, 2, 3, 12, 11, 13, 9, 16], [5, 2, 12, 7, 6, 9, 16, 11, 15, 13, 14, 4, 10, 1, 8, 3], [3, 9, 15, 8, 1, 10, 14, 13, 7, 6, 16, 11, 2, 4, 12, 5], [9, 4, 2, 6, 13, 3, 1, 15, 10, 16, 11, 14, 5, 8, 7, 12], [8, 12, 7, 14, 11, 6, 9, 5, 4, 15, 1, 2, 16, 3, 10, 13], [16, 15, 1, 13, 14, 4, 7, 10, 5, 12, 8, 3, 9, 11, 2, 6], [11, 3, 10, 5, 16, 8, 12, 2, 6, 9, 13, 7, 14, 15, 1, 4], [2, 6, 3, 16, 4, 1, 8, 14, 11, 5, 7, 15, 12, 10, 13, 9], [7, 11, 14, 1, 3, 12, 10, 16, 2, 4, 9, 13, 8, 6, 5, 15], [15, 8, 5, 9, 7, 13, 11, 6, 12, 3, 10, 16, 4, 2, 14, 1], [10, 13, 4, 12, 15, 5, 2, 9, 8, 14, 6, 1, 7, 16, 3, 11], [14, 1, 9, 4, 10, 16, 6, 3, 13, 8, 12, 5, 15, 7, 11, 2], [13, 7, 8, 15, 9, 14, 5, 1, 16, 11, 2, 6, 3, 12, 4, 10], [12, 10, 16, 3, 2, 11, 4, 7, 14, 1, 15, 9, 13, 5, 6, 8], [6, 5, 11, 2, 8, 15, 13, 12, 3, 7, 4, 10, 1, 9, 16, 14]]\n"
   ]
  }
 ],
 "metadata": {
  "kernelspec": {
   "display_name": "CUT",
   "language": "python",
   "name": "python3"
  },
  "language_info": {
   "codemirror_mode": {
    "name": "ipython",
    "version": 3
   },
   "file_extension": ".py",
   "mimetype": "text/x-python",
   "name": "python",
   "nbconvert_exporter": "python",
   "pygments_lexer": "ipython3",
   "version": "3.12.3"
  }
 },
 "nbformat": 4,
 "nbformat_minor": 4
}
