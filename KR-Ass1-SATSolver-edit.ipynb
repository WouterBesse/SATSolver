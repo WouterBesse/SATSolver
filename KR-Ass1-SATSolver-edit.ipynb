{
 "cells": [
  {
   "cell_type": "markdown",
   "metadata": {},
   "source": [
    "# SAT Solver Assignment\n",
    "Group 69<br>\n",
    "**Knowledge Representation**<br>\n",
    "November 2024"
   ]
  },
  {
   "cell_type": "markdown",
   "metadata": {},
   "source": [
    "****\n",
    "\n",
    "## Preperations\n",
    "\n",
    "*Everything we need to have before we can build the SAT Solver.*\n",
    "\n",
    "**Imports** - Use this cell for all imports."
   ]
  },
  {
   "cell_type": "code",
   "execution_count": 71,
   "metadata": {},
   "outputs": [],
   "source": [
    "# import modules\n",
    "import math\n",
    "from tqdm import tqdm"
   ]
  },
  {
   "cell_type": "markdown",
   "metadata": {},
   "source": [
    "**Data** - Import the needed data. The data needs to be in DIMACS format. Each clause in DIMACS CNF consists of:\n",
    "\n",
    "- A series of positive or negative literals (numbers) that represent a Boolean variable or its negation.\n",
    "- Each clause ends with 0.\n",
    "- Each variable in DIMACS CNF is a positive integer, with unique integers representing each Boolean variable.\n",
    "\n",
    "For Sudoku, we use a triplet `(r, c, n)`:\n",
    "- `r` for the row (1 to 9)\n",
    "- `c` for the column (1 to 9)\n",
    "- `n` for the number (1 to 9)"
   ]
  },
  {
   "cell_type": "code",
   "execution_count": 72,
   "metadata": {},
   "outputs": [],
   "source": [
    "# Geeft een file met 91 sudoku's terug, sudokus[0] is de eerste sudoku met len(sudokus[0]) == 81 (9x9=81 karakters)\n",
    "with open('./top91.sdk.txt') as f:\n",
    "    sudokus = f.read().splitlines()"
   ]
  },
  {
   "cell_type": "markdown",
   "metadata": {},
   "source": [
    "*You are free to choose any programming language you fancy, but we must be able to run your SAT solver with the command SAT -Sn inputfile , for example: SAT -S2 sudoku_nr_10 , where SAT is the (compulsory) name of your program, n=1 for the basic DP and n=2 or 3 for your two other strategies, and the input file is the concatenation of all required input clauses (in your case: sudoku rules + given puzzle).*"
   ]
  },
  {
   "cell_type": "markdown",
   "metadata": {},
   "source": [
    "****\n",
    "\n",
    "## Part 1 - Building the SAT Solver"
   ]
  },
  {
   "cell_type": "markdown",
   "metadata": {},
   "source": [
    "**The Rules of Sudoku**\n",
    "1. Each number (1-9) must appear exactly once in each row.\n",
    "2. Each number must appear exactly once in each column.\n",
    "3. Each number must appear exactly once in each 3x3 subgrid.\n",
    "\n",
    "**The Data of Sudoku in DIMACS**"
   ]
  },
  {
   "cell_type": "code",
   "execution_count": 73,
   "metadata": {},
   "outputs": [],
   "source": [
    "def load_rules(filename: str) -> list[list[int]]:\n",
    "    with open(filename) as f:\n",
    "        raw_rules = f.read().splitlines()\n",
    "\n",
    "    rules = [list(map(int, clause.split()))[:-1] for clause in raw_rules[1:]]\n",
    "    return rules\n",
    "\n",
    "def load_sudoku(filename: str) -> list[list[list[int | str]]]:\n",
    "    with open(filename) as f:\n",
    "        sudoku = f.read().splitlines()\n",
    "\n",
    "    puzzles: list[list[list[int | str]]] = []\n",
    "    \n",
    "    puzzledim: int = math.sqrt(len(sudoku[0]))\n",
    "    assert puzzledim.is_integer(), \"The sudoku is not square\"\n",
    "    puzzledim = int(puzzledim)\n",
    "\n",
    "    for puzzle in sudoku:\n",
    "        newpuzzle = []\n",
    "        for r in range(puzzledim):\n",
    "            row = []\n",
    "            for c in range(puzzledim):\n",
    "                val = puzzle[r * puzzledim + c]\n",
    "                val = int(val) if val != '.' else 0 # convert to int if we know the value\n",
    "                row.append(val)\n",
    "            newpuzzle.append(row)\n",
    "        puzzles.append(newpuzzle)\n",
    "    return puzzles"
   ]
  },
  {
   "cell_type": "markdown",
   "metadata": {},
   "source": [
    "**Functions to Assign Obvious Values** - Fill in the single and pure literal clauses."
   ]
  },
  {
   "cell_type": "code",
   "execution_count": 74,
   "metadata": {},
   "outputs": [],
   "source": [
    "def single_literal(clauses: list[list[int]], assignment: dict[int, bool]) -> list[list[int]] | None:\n",
    "    \"\"\"\n",
    "    If a clause has only one literal, assigns it to satisfy the clause, removes satisfied clauses, \n",
    "    and removes negated literals from the remaining clauses. Repeats until no single-literal \n",
    "    clauses remain or an unsatisfiable clause (empty clause) is found.\n",
    "\n",
    "    Args:\n",
    "        clauses (list[list[int]]): List of clauses, each a list of integers (literals).\n",
    "        assignment (dict[int, bool]): Current variable assignments, aka the sudoku.\n",
    "\n",
    "    Returns:\n",
    "        list[list[int]] | None: Updated list of clauses, or None if unsatisfiable.\n",
    "    \"\"\"\n",
    "    while any(len(clause) == 1 for clause in clauses):\n",
    "        for clause in clauses:\n",
    "            if len(clause) == 1:\n",
    "                literal = clause[0]\n",
    "                assignment[abs(literal)] = literal > 0\n",
    "                print(f\"Assigning single literal: {literal} => {assignment[abs(literal)]}\")\n",
    "\n",
    "                new_clauses = []\n",
    "                for c in clauses:\n",
    "                    if literal in c:\n",
    "                        continue\n",
    "                    updated_clause = [l for l in c if l != -literal]\n",
    "                    if not updated_clause:\n",
    "                        print(f\"Conflict! Clause: {c}\")\n",
    "                        return None\n",
    "                    new_clauses.append(updated_clause)\n",
    "                clauses = new_clauses\n",
    "                break\n",
    "    return clauses\n",
    "\n",
    "\n",
    "def pure_literal(clauses: list[list[int]], assignment: dict[int, bool]) -> list[list[int]]:\n",
    "    \"\"\"\n",
    "    Assigns values to pure literals (literals with no negation in any clause) and updates clauses.\n",
    "\n",
    "    Args:\n",
    "        clauses (List[List[int]]): List of clauses, each as a list of literals.\n",
    "        assignment (Dict[int, bool]): Dictionary of current variable assignments, aka the sudoku.\n",
    "\n",
    "    Returns:\n",
    "        List[List[int]]: Updated list of clauses with pure literals removed.\n",
    "    \"\"\"\n",
    "    # Create a set of all unique literals in the clauses\n",
    "    literals = {lit for clause in clauses for lit in clause}\n",
    "    \n",
    "    # Identify pure literals (those without their negation in any clause)\n",
    "    pure_literals = [l for l in literals if -l not in literals]\n",
    "\n",
    "    # Assign values to pure literals and remove them from the clauses\n",
    "    for literal in pure_literals:\n",
    "        # Assign the value True for positive literals, False for negative ones\n",
    "        assignment[abs(literal)] = literal > 0\n",
    "        \n",
    "        # Remove clauses containing the pure literal\n",
    "        clauses = [clause for clause in clauses if literal not in clause]\n",
    "\n",
    "    return clauses"
   ]
  },
  {
   "cell_type": "markdown",
   "metadata": {},
   "source": [
    "**DPLL Algorithm** - DPLL recursive algorithm function,  without heuristics, to perform the fucntions above and recursively gives values to literals."
   ]
  },
  {
   "cell_type": "code",
   "execution_count": 75,
   "metadata": {},
   "outputs": [],
   "source": [
    "def dpll(rules: list[list[int]], unassigned: dict[int, bool], assigned: dict[int, bool], size, pbar: tqdm, history: list[int] = [0]) -> dict[int, bool] | None:\n",
    "    \"\"\"\n",
    "    Solves a set of clauses using the DPLL algorithm.\n",
    "\n",
    "    Args:\n",
    "        rules (list[list[int]]): A list of clauses, each as a list of literals.\n",
    "        unassigned (dict[int, bool]): Variables that need to be solved.\n",
    "        assigned (dict[int, bool]): Fixed variables that cannot be changed.\n",
    "        size (int): Size of the grid (e.g., for Sudoku).\n",
    "        pbar (tqdm): Progress bar for the solver.\n",
    "        history (list[int]): List of literals representing the path of the solver.\n",
    "\n",
    "    Returns:\n",
    "        dict[int, bool] | None: Satisfying assignment if one exists, otherwise None.\n",
    "    \"\"\"\n",
    "    print(\"Start DPLL with history:\", history)\n",
    "\n",
    "    puzzle_dict = dict()\n",
    "    puzzle_dict.update(unassigned)\n",
    "    puzzle_dict.update(assigned)\n",
    "\n",
    "    # Simplify the clauses using unit propagation and pure literal elimination\n",
    "    clauses = single_literal(rules, puzzle_dict)\n",
    "    if clauses is None:\n",
    "        return None  # Conflict found\n",
    "    if not clauses:\n",
    "        return puzzle_dict  # All clauses satisfied, return combined solution\n",
    "\n",
    "    clauses = pure_literal(clauses, puzzle_dict)\n",
    "    if not clauses:\n",
    "        # print(clauses)\n",
    "        return puzzle_dict  # All clauses satisfied, return combined solution\n",
    "    \n",
    "    # print('clauses are:', clauses)\n",
    "    \n",
    "    # Filter out variables that are already assigned True in the unassigned list\n",
    "    unassigned_vars = [var for var in unassigned if unassigned[var] is None]\n",
    "    unique_vars = list(set(unassigned_vars))\n",
    "\n",
    "    if not unique_vars:\n",
    "        print(\"No unassigned variables left\")\n",
    "        return None  # No unassigned variables left\n",
    "\n",
    "    # Select the first unassigned literal\n",
    "    literal = unique_vars[0]\n",
    "    print(f\"Assigning {literal} = True\")\n",
    "    \n",
    "    puzzle_dict[literal] = True\n",
    "    updated_rules = [c for c in clauses if literal in c]  # Remove satisfied clauses\n",
    "    # print(updated_rules) TODO: Something here does not work properly, but it could also be in single/pure literals\n",
    "    result = dpll(updated_rules, unassigned.copy(), assigned, size, pbar, history + [literal])\n",
    "    if result:\n",
    "        return result  # If assignment works, return it\n",
    "\n",
    "    # If assigning True doesn't work, backtrack and try False\n",
    "    puzzle_dict[literal] = False\n",
    "    updated_clauses = [c for c in clauses if -literal not in c]  # Remove satisfied clauses by -literal\n",
    "    print(f\"Assigning {literal} = False\")\n",
    "    result = dpll(updated_clauses, unassigned.copy(), assigned, size, pbar, history + [-literal])\n",
    "    if result:\n",
    "        return result  # If assignment works, return it\n",
    "\n",
    "    # Backtrack\n",
    "    print(f\"No solution for {literal}, backtracking...\")\n",
    "    unassigned.pop(literal)  # Reset unassigned value\n",
    "    return None\n"
   ]
  },
  {
   "cell_type": "markdown",
   "metadata": {},
   "source": [
    "*give (2)+(3) as input to (1) and return the solution to the given puzzle. This output should again be a DIMACS file, but containing only the truth assignment to all variables (729 for Sudoku, different for other SAT problems). If your input file is called 'filename', then make sure your outputfile is called 'filename.out'. If there is no solution (inconsistent problem), the output can be an empty file. If there are multiple solutions (eg. non-proper Sudoku) you only need to return a single solution.*"
   ]
  },
  {
   "cell_type": "markdown",
   "metadata": {},
   "source": [
    "**Heuristics** - Two different heuristics of our choice"
   ]
  },
  {
   "cell_type": "code",
   "execution_count": 76,
   "metadata": {},
   "outputs": [],
   "source": [
    "# heuristic one"
   ]
  },
  {
   "cell_type": "code",
   "execution_count": 77,
   "metadata": {},
   "outputs": [],
   "source": [
    "# heuristic two"
   ]
  },
  {
   "cell_type": "markdown",
   "metadata": {},
   "source": [
    "**SAT Solver** - Solves the Sudoku\n",
    "\n",
    "Extra information about the code:\n",
    "Each cell in a Sudoku puzzle can be represented by a unique variable based on its row, column, and possible number. The encoding formula for each variable is:\n",
    "\n",
    "`variable=(i+1)×100+(j+1)×10+value`<br>\n",
    "\n",
    "where:<br>\n",
    "\n",
    "`i is the row index (0 to 8)`<br>\n",
    "`j is the column index (0 to 8)`<br>\n",
    "`value is the number in the cell (1 to 9)`<br>\n",
    "\n",
    "This formula converts each cell and its possible values into unique numbers by combining the row, column, and value in a single integer. For example, if a cell at row 0, column 0 can be a 5, the encoded variable would be:<br>\n",
    "\n",
    "`variable=(0+1)×100+(0+1)×10+5=115`<br>"
   ]
  },
  {
   "cell_type": "code",
   "execution_count": 78,
   "metadata": {},
   "outputs": [],
   "source": [
    "def solve_sudoku(rules: list[list[int]], puzzle: list[list[int]], size) -> list[list[int]] | None:\n",
    "    \"\"\"\n",
    "    Solves a Sudoku puzzle using given rules and an initial puzzle setup.\n",
    "\n",
    "    Args:\n",
    "        rules (list[list[int]]): A list of rules in CNF form for Sudoku constraints.\n",
    "        puzzle (list[list[int]]): A grid of given size representing the puzzle, with `0` for empty cells.\n",
    "\n",
    "    Returns:\n",
    "        list[list[int]] | None: A solved Sudoku grid if a solution exists, otherwise None.\n",
    "    \"\"\"\n",
    "    assigned = {}  # Pre-filled cells\n",
    "    unassigned = {}  # To solve\n",
    "\n",
    "    for i, row in enumerate(puzzle):\n",
    "        for j, value in enumerate(row):\n",
    "            if value != 0:  # Pre-filled\n",
    "                literal = (i + 1) * 100 + (j + 1) * 10 + value\n",
    "                assigned[literal] = True\n",
    "            else:\n",
    "                for k in range(1, size + 1):\n",
    "                    literal = (i + 1) * 100 + (j + 1) * 10 + k\n",
    "                    unassigned[literal] = None  # Unsolved initially\n",
    "\n",
    "    # print(f\"Initial Assigned: {assigned}\")\n",
    "    # print(f\"Initial Unassigned: {unassigned}\")\n",
    "\n",
    "    with tqdm(total=2**len(unassigned), desc=\"Solving Sudoku\") as pbar:\n",
    "        solution = dpll(rules, unassigned, assigned, size, pbar)\n",
    "    \n",
    "    # print(\"Initial Clauses:\", rules)\n",
    "    # print(\"Initial Assigned Vars:\", assigned)\n",
    "    # print(\"Initial Unassigned Vars:\", unassigned)\n",
    "    return solution"
   ]
  },
  {
   "cell_type": "markdown",
   "metadata": {},
   "source": [
    "**Test Sudoku** - Try and see if it works"
   ]
  },
  {
   "cell_type": "code",
   "execution_count": 79,
   "metadata": {},
   "outputs": [
    {
     "data": {
      "text/plain": [
       "[[1, 2, 3, 4], [3, 4, 1, 0], [2, 1, 4, 3], [4, 3, 0, 1]]"
      ]
     },
     "execution_count": 79,
     "metadata": {},
     "output_type": "execute_result"
    }
   ],
   "source": [
    "load_sudoku('./4x4_easy.txt')[1]"
   ]
  },
  {
   "cell_type": "code",
   "execution_count": 80,
   "metadata": {},
   "outputs": [
    {
     "name": "stdout",
     "output_type": "stream",
     "text": [
      "[[1, 2, 3, 4], [3, 4, 1, 0], [2, 1, 4, 3], [4, 3, 0, 1]]\n"
     ]
    },
    {
     "name": "stderr",
     "output_type": "stream",
     "text": [
      "Solving Sudoku:   0%|          | 0/256 [00:00<?, ?it/s]"
     ]
    },
    {
     "name": "stdout",
     "output_type": "stream",
     "text": [
      "Start DPLL with history: [0]\n",
      "Assigning 431 = True\n",
      "Start DPLL with history: [0, 431]\n",
      "solution: {241: None, 242: None, 243: None, 244: None, 431: True, 432: True, 433: True, 434: True, 111: True, 122: True, 133: True, 144: True, 213: True, 224: True, 231: True, 312: True, 321: True, 334: True, 343: True, 414: True, 423: True, 441: True, 131: True, 421: True, 331: True, 341: True, 411: True}\n",
      "Solved Sudoku: [[1, 2, 1, 4], [3, 4, 1, 0], [2, 1, 1, 1], [1, 1, 4, 1]]\n"
     ]
    },
    {
     "name": "stderr",
     "output_type": "stream",
     "text": [
      "\n"
     ]
    }
   ],
   "source": [
    "# Load the Sudoku rules and the puzzle\n",
    "filename = './sudoku-rules-4x4.txt'\n",
    "rules = load_rules(filename)\n",
    "\n",
    "# Load the puzzles from the file and select the second puzzle (index 1)\n",
    "puzzle = load_sudoku('./4x4_easy.txt')[1]\n",
    "print(puzzle)\n",
    "\n",
    "size = 4  # Size of the grid (4x4 Sudoku)\n",
    "\n",
    "# Solve the Sudoku puzzle\n",
    "solution = solve_sudoku(rules, puzzle, size)\n",
    "\n",
    "print('solution:', solution)\n",
    "\n",
    "# If a solution is found, print the solved Sudoku grid\n",
    "if solution:\n",
    "    result = [[0] * size for _ in range(size)]\n",
    "    \n",
    "    for var, value in solution.items():\n",
    "        if value:\n",
    "            i = (var // 100) - 1\n",
    "            j = ((var // 10) % 10) - 1\n",
    "            num = var % 10\n",
    "\n",
    "            if 0 <= i < size and 0 <= j < size:\n",
    "                result[i][j] = num\n",
    "            else:\n",
    "                print(f\"Index out of range: i={i}, j={j}\")\n",
    "    \n",
    "    print(\"Solved Sudoku:\", result)\n",
    "else:\n",
    "    print('No solution')"
   ]
  }
 ],
 "metadata": {
  "kernelspec": {
   "display_name": "CUT",
   "language": "python",
   "name": "python3"
  },
  "language_info": {
   "codemirror_mode": {
    "name": "ipython",
    "version": 3
   },
   "file_extension": ".py",
   "mimetype": "text/x-python",
   "name": "python",
   "nbconvert_exporter": "python",
   "pygments_lexer": "ipython3",
   "version": "3.12.0"
  }
 },
 "nbformat": 4,
 "nbformat_minor": 2
}
