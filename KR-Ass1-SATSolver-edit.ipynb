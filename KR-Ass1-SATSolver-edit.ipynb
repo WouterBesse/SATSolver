{
 "cells": [
  {
   "cell_type": "markdown",
   "metadata": {},
   "source": [
    "# SAT Solver Assignment\n",
    "Group 69<br>\n",
    "**Knowledge Representation**<br>\n",
    "November 2024"
   ]
  },
  {
   "cell_type": "markdown",
   "metadata": {},
   "source": [
    "****\n",
    "\n",
    "## Preperations\n",
    "\n",
    "*Everything we need to have before we can build the SAT Solver.*\n",
    "\n",
    "**Imports** - Use this cell for all imports."
   ]
  },
  {
   "cell_type": "code",
   "execution_count": 1,
   "metadata": {},
   "outputs": [
    {
     "name": "stderr",
     "output_type": "stream",
     "text": [
      "C:\\Users\\woute\\AppData\\Local\\Temp\\ipykernel_6392\\964927310.py:3: TqdmExperimentalWarning: Using `tqdm.autonotebook.tqdm` in notebook mode. Use `tqdm.tqdm` instead to force console mode (e.g. in jupyter console)\n",
      "  from tqdm.autonotebook import tqdm\n"
     ]
    }
   ],
   "source": [
    "# import modules\n",
    "import math\n",
    "from tqdm.autonotebook import tqdm\n",
    "from collections import Counter\n"
   ]
  },
  {
   "cell_type": "markdown",
   "metadata": {},
   "source": [
    "**Data** - Import the needed data. The data needs to be in DIMACS format. Each clause in DIMACS CNF consists of:\n",
    "\n",
    "- A series of positive or negative literals (numbers) that represent a Boolean variable or its negation.\n",
    "- Each clause ends with 0.\n",
    "- Each variable in DIMACS CNF is a positive integer, with unique integers representing each Boolean variable.\n",
    "\n",
    "For Sudoku, we use a triplet `(r, c, n)`:\n",
    "- `r` for the row (1 to 9)\n",
    "- `c` for the column (1 to 9)\n",
    "- `n` for the number (1 to 9)"
   ]
  },
  {
   "cell_type": "code",
   "execution_count": 2,
   "metadata": {},
   "outputs": [],
   "source": [
    "# Geeft een file met 91 sudoku's terug, sudokus[0] is de eerste sudoku met len(sudokus[0]) == 81 (9x9=81 karakters)\n",
    "with open('./sudoku/top91.sdk.txt') as f:\n",
    "    sudokus = f.read().splitlines()"
   ]
  },
  {
   "cell_type": "markdown",
   "metadata": {},
   "source": [
    "*You are free to choose any programming language you fancy, but we must be able to run your SAT solver with the command SAT -Sn inputfile , for example: SAT -S2 sudoku_nr_10 , where SAT is the (compulsory) name of your program, n=1 for the basic DP and n=2 or 3 for your two other strategies, and the input file is the concatenation of all required input clauses (in your case: sudoku rules + given puzzle).*"
   ]
  },
  {
   "cell_type": "markdown",
   "metadata": {},
   "source": [
    "****\n",
    "\n",
    "## Part 1 - Building the SAT Solver"
   ]
  },
  {
   "cell_type": "markdown",
   "metadata": {},
   "source": [
    "**The Rules of Sudoku**\n",
    "1. Each number (1-9) must appear exactly once in each row.\n",
    "2. Each number must appear exactly once in each column.\n",
    "3. Each number must appear exactly once in each 3x3 subgrid.\n",
    "\n",
    "**The Data of Sudoku in DIMACS**"
   ]
  },
  {
   "cell_type": "code",
   "execution_count": 3,
   "metadata": {},
   "outputs": [],
   "source": [
    "# see util.py\n",
    "from util import *"
   ]
  },
  {
   "cell_type": "markdown",
   "metadata": {},
   "source": [
    "**Functions to Assign Obvious Values** - Fill in the single and pure literal clauses."
   ]
  },
  {
   "cell_type": "code",
   "execution_count": 4,
   "metadata": {},
   "outputs": [],
   "source": [
    "# see literalmethods.py"
   ]
  },
  {
   "cell_type": "markdown",
   "metadata": {},
   "source": [
    "**Heuristics** - Two different heuristics of our choice"
   ]
  },
  {
   "cell_type": "code",
   "execution_count": 5,
   "metadata": {},
   "outputs": [],
   "source": [
    "# see hueristics.py"
   ]
  },
  {
   "cell_type": "markdown",
   "metadata": {},
   "source": [
    "**DPLL Algorithm** - DPLL recursive algorithm function,  without heuristics, to perform the fucntions above and recursively gives values to literals."
   ]
  },
  {
   "cell_type": "code",
   "execution_count": 6,
   "metadata": {},
   "outputs": [],
   "source": [
    "# see SAT.py"
   ]
  },
  {
   "cell_type": "markdown",
   "metadata": {},
   "source": [
    "*give (2)+(3) as input to (1) and return the solution to the given puzzle. This output should again be a DIMACS file, but containing only the truth assignment to all variables (729 for Sudoku, different for other SAT problems). If your input file is called 'filename', then make sure your outputfile is called 'filename.out'. If there is no solution (inconsistent problem), the output can be an empty file. If there are multiple solutions (eg. non-proper Sudoku) you only need to return a single solution.*"
   ]
  },
  {
   "cell_type": "markdown",
   "metadata": {},
   "source": [
    "**SAT Solver** - Solves the Sudoku\n",
    "\n",
    "Extra information about the code:\n",
    "Each cell in a Sudoku puzzle can be represented by a unique variable based on its row, column, and possible number. The encoding formula for each variable is:\n",
    "\n",
    "`variable=(i+1)×100+(j+1)×10+value`<br>\n",
    "\n",
    "where:<br>\n",
    "\n",
    "`i is the row index (0 to 8)`<br>\n",
    "`j is the column index (0 to 8)`<br>\n",
    "`value is the number in the cell (1 to 9)`<br>\n",
    "\n",
    "This formula converts each cell and its possible values into unique numbers by combining the row, column, and value in a single integer. For example, if a cell at row 0, column 0 can be a 5, the encoded variable would be:<br>\n",
    "\n",
    "`variable=(0+1)×100+(0+1)×10+5=115`<br>"
   ]
  },
  {
   "cell_type": "code",
   "execution_count": 7,
   "metadata": {},
   "outputs": [],
   "source": [
    "from SAT import solve_sudoku"
   ]
  },
  {
   "cell_type": "markdown",
   "metadata": {},
   "source": [
    "**Test Sudoku** - Try and see if it works"
   ]
  },
  {
   "cell_type": "code",
   "execution_count": 8,
   "metadata": {},
   "outputs": [
    {
     "name": "stdout",
     "output_type": "stream",
     "text": [
      "puzzledim: 16\n",
      "[[2, 0, 0, 1, 11, 0, 8, 15, 0, 0, 0, 0, 0, 13, 0, 12], [0, 10, 0, 9, 0, 0, 0, 0, 0, 5, 0, 13, 0, 0, 1, 0], [16, 8, 0, 12, 0, 0, 0, 0, 4, 0, 7, 0, 0, 10, 2, 0], [0, 0, 0, 3, 14, 10, 13, 0, 0, 15, 0, 12, 0, 0, 0, 0], [0, 0, 6, 0, 0, 0, 0, 8, 7, 0, 0, 0, 0, 15, 0, 5], [14, 11, 0, 2, 16, 0, 0, 0, 0, 10, 4, 0, 9, 0, 0, 0], [0, 0, 4, 0, 15, 0, 10, 6, 0, 0, 14, 0, 0, 0, 0, 2], [0, 12, 0, 0, 4, 0, 0, 7, 0, 1, 0, 3, 16, 11, 6, 0], [0, 16, 8, 11, 10, 0, 3, 0, 1, 0, 0, 7, 0, 0, 13, 0], [5, 0, 0, 0, 0, 13, 0, 0, 16, 12, 0, 2, 0, 4, 0, 0], [0, 0, 0, 7, 0, 8, 12, 0, 0, 0, 0, 6, 5, 0, 15, 10], [13, 0, 9, 0, 0, 0, 0, 11, 14, 0, 0, 0, 0, 6, 0, 0], [0, 0, 0, 0, 8, 0, 6, 0, 0, 9, 2, 16, 11, 0, 0, 0], [0, 15, 5, 0, 0, 7, 0, 3, 0, 0, 0, 0, 2, 0, 9, 13], [0, 9, 0, 0, 5, 0, 11, 0, 0, 0, 0, 0, 10, 0, 14, 0], [10, 0, 3, 0, 0, 0, 0, 0, 8, 11, 0, 4, 1, 0, 0, 15]]\n"
     ]
    },
    {
     "data": {
      "application/vnd.jupyter.widget-view+json": {
       "model_id": "82c09a9514bb418f9d923b2bd09af818",
       "version_major": 2,
       "version_minor": 0
      },
      "text/plain": [
       "Starting with vsids heuristic:   0%|          | 0/10 [00:00<?, ?it/s]"
      ]
     },
     "metadata": {},
     "output_type": "display_data"
    },
    {
     "data": {
      "application/vnd.jupyter.widget-view+json": {
       "model_id": "4d9d9e8091084b7bada486eb8065373f",
       "version_major": 2,
       "version_minor": 0
      },
      "text/plain": [
       "Doing single literal:   0%|          | 0/6120 [00:00<?, ?it/s]"
      ]
     },
     "metadata": {},
     "output_type": "display_data"
    },
    {
     "data": {
      "application/vnd.jupyter.widget-view+json": {
       "model_id": "9cfd7617f67c4ea1af04e825262ffca0",
       "version_major": 2,
       "version_minor": 0
      },
      "text/plain": [
       "Recursive loop:   0%|          | 0/5 [00:00<?, ?it/s]"
      ]
     },
     "metadata": {},
     "output_type": "display_data"
    },
    {
     "data": {
      "application/vnd.jupyter.widget-view+json": {
       "model_id": "c98633c064684cfcb628459acd8547d5",
       "version_major": 2,
       "version_minor": 0
      },
      "text/plain": [
       "Doing single literal:   0%|          | 0/14 [00:00<?, ?it/s]"
      ]
     },
     "metadata": {},
     "output_type": "display_data"
    },
    {
     "data": {
      "application/vnd.jupyter.widget-view+json": {
       "model_id": "3e47782d449a4803884e0dc6db997142",
       "version_major": 2,
       "version_minor": 0
      },
      "text/plain": [
       "Doing single literal:   0%|          | 0/12 [00:00<?, ?it/s]"
      ]
     },
     "metadata": {},
     "output_type": "display_data"
    },
    {
     "data": {
      "application/vnd.jupyter.widget-view+json": {
       "model_id": "b6128d7d37a44f38aa8a9d66ccbc203f",
       "version_major": 2,
       "version_minor": 0
      },
      "text/plain": [
       "Doing single literal: 0it [00:00, ?it/s]"
      ]
     },
     "metadata": {},
     "output_type": "display_data"
    },
    {
     "data": {
      "application/vnd.jupyter.widget-view+json": {
       "model_id": "5eab9768872044508dc5a8287e7afc0c",
       "version_major": 2,
       "version_minor": 0
      },
      "text/plain": [
       "Doing single literal:   0%|          | 0/10 [00:00<?, ?it/s]"
      ]
     },
     "metadata": {},
     "output_type": "display_data"
    },
    {
     "data": {
      "application/vnd.jupyter.widget-view+json": {
       "model_id": "f5ada56a36d14a59810a9972771edca0",
       "version_major": 2,
       "version_minor": 0
      },
      "text/plain": [
       "Doing single literal:   0%|          | 0/1 [00:00<?, ?it/s]"
      ]
     },
     "metadata": {},
     "output_type": "display_data"
    },
    {
     "data": {
      "application/vnd.jupyter.widget-view+json": {
       "model_id": "3fb94c74a16b4b198de78bee9a08ed7c",
       "version_major": 2,
       "version_minor": 0
      },
      "text/plain": [
       "Doing single literal:   0%|          | 0/11 [00:00<?, ?it/s]"
      ]
     },
     "metadata": {},
     "output_type": "display_data"
    },
    {
     "data": {
      "application/vnd.jupyter.widget-view+json": {
       "model_id": "34ba5454804d41cfa57c07800feb8fd2",
       "version_major": 2,
       "version_minor": 0
      },
      "text/plain": [
       "Doing single literal:   0%|          | 0/1 [00:00<?, ?it/s]"
      ]
     },
     "metadata": {},
     "output_type": "display_data"
    },
    {
     "data": {
      "application/vnd.jupyter.widget-view+json": {
       "model_id": "0ccb65102ea34a999aeef50cd37ee992",
       "version_major": 2,
       "version_minor": 0
      },
      "text/plain": [
       "Doing single literal: 0it [00:00, ?it/s]"
      ]
     },
     "metadata": {},
     "output_type": "display_data"
    },
    {
     "data": {
      "application/vnd.jupyter.widget-view+json": {
       "model_id": "f20077ebe27a40cc9652bc1dec71651a",
       "version_major": 2,
       "version_minor": 0
      },
      "text/plain": [
       "Doing single literal:   0%|          | 0/14 [00:00<?, ?it/s]"
      ]
     },
     "metadata": {},
     "output_type": "display_data"
    },
    {
     "data": {
      "application/vnd.jupyter.widget-view+json": {
       "model_id": "8f2b9f172f1445fb84eaace0a33f5d1b",
       "version_major": 2,
       "version_minor": 0
      },
      "text/plain": [
       "Doing single literal:   0%|          | 0/12 [00:00<?, ?it/s]"
      ]
     },
     "metadata": {},
     "output_type": "display_data"
    },
    {
     "data": {
      "application/vnd.jupyter.widget-view+json": {
       "model_id": "b6ac709748df4f399034fc013d877b66",
       "version_major": 2,
       "version_minor": 0
      },
      "text/plain": [
       "Doing single literal:   0%|          | 0/9 [00:00<?, ?it/s]"
      ]
     },
     "metadata": {},
     "output_type": "display_data"
    },
    {
     "data": {
      "application/vnd.jupyter.widget-view+json": {
       "model_id": "27fe513ba1d741d08d3b64c43dd0e4ce",
       "version_major": 2,
       "version_minor": 0
      },
      "text/plain": [
       "Doing single literal: 0it [00:00, ?it/s]"
      ]
     },
     "metadata": {},
     "output_type": "display_data"
    },
    {
     "data": {
      "application/vnd.jupyter.widget-view+json": {
       "model_id": "b2007411da7245a7a6ff8eb523c90517",
       "version_major": 2,
       "version_minor": 0
      },
      "text/plain": [
       "Doing single literal:   0%|          | 0/11 [00:00<?, ?it/s]"
      ]
     },
     "metadata": {},
     "output_type": "display_data"
    },
    {
     "data": {
      "application/vnd.jupyter.widget-view+json": {
       "model_id": "869264d8908041819a9d7894e6fb2523",
       "version_major": 2,
       "version_minor": 0
      },
      "text/plain": [
       "Doing single literal:   0%|          | 0/4 [00:00<?, ?it/s]"
      ]
     },
     "metadata": {},
     "output_type": "display_data"
    },
    {
     "data": {
      "application/vnd.jupyter.widget-view+json": {
       "model_id": "a971e0fc3c724dbda97bc7b2a9c91e30",
       "version_major": 2,
       "version_minor": 0
      },
      "text/plain": [
       "Doing single literal:   0%|          | 0/4 [00:00<?, ?it/s]"
      ]
     },
     "metadata": {},
     "output_type": "display_data"
    },
    {
     "data": {
      "application/vnd.jupyter.widget-view+json": {
       "model_id": "200b919d1b00429bb96d269ad2495d9c",
       "version_major": 2,
       "version_minor": 0
      },
      "text/plain": [
       "Doing single literal:   0%|          | 0/1 [00:00<?, ?it/s]"
      ]
     },
     "metadata": {},
     "output_type": "display_data"
    },
    {
     "data": {
      "application/vnd.jupyter.widget-view+json": {
       "model_id": "8c380593943f4e6f9c4e1f0b49a784cd",
       "version_major": 2,
       "version_minor": 0
      },
      "text/plain": [
       "Doing single literal:   0%|          | 0/7 [00:00<?, ?it/s]"
      ]
     },
     "metadata": {},
     "output_type": "display_data"
    },
    {
     "data": {
      "application/vnd.jupyter.widget-view+json": {
       "model_id": "18fff7b9795d42ab800a0d2fc809da3d",
       "version_major": 2,
       "version_minor": 0
      },
      "text/plain": [
       "Doing single literal:   0%|          | 0/1 [00:00<?, ?it/s]"
      ]
     },
     "metadata": {},
     "output_type": "display_data"
    },
    {
     "data": {
      "application/vnd.jupyter.widget-view+json": {
       "model_id": "4af1b560df2245baafc406e19792cfce",
       "version_major": 2,
       "version_minor": 0
      },
      "text/plain": [
       "Doing single literal:   0%|          | 0/7 [00:00<?, ?it/s]"
      ]
     },
     "metadata": {},
     "output_type": "display_data"
    },
    {
     "data": {
      "application/vnd.jupyter.widget-view+json": {
       "model_id": "cf32db3985bd4884a65396ebb54dbb59",
       "version_major": 2,
       "version_minor": 0
      },
      "text/plain": [
       "Doing single literal:   0%|          | 0/2 [00:00<?, ?it/s]"
      ]
     },
     "metadata": {},
     "output_type": "display_data"
    },
    {
     "data": {
      "application/vnd.jupyter.widget-view+json": {
       "model_id": "c08d1b0f948844a2a27fa0fe7dfa9ecc",
       "version_major": 2,
       "version_minor": 0
      },
      "text/plain": [
       "Recursive loop:   0%|          | 0/10 [00:00<?, ?it/s]"
      ]
     },
     "metadata": {},
     "output_type": "display_data"
    },
    {
     "data": {
      "application/vnd.jupyter.widget-view+json": {
       "model_id": "c13ce49254a948a28df97cdb8a521604",
       "version_major": 2,
       "version_minor": 0
      },
      "text/plain": [
       "Doing single literal:   0%|          | 0/14 [00:00<?, ?it/s]"
      ]
     },
     "metadata": {},
     "output_type": "display_data"
    },
    {
     "data": {
      "application/vnd.jupyter.widget-view+json": {
       "model_id": "ca93e8d08488467da97b4054f774f747",
       "version_major": 2,
       "version_minor": 0
      },
      "text/plain": [
       "Doing single literal:   0%|          | 0/12 [00:00<?, ?it/s]"
      ]
     },
     "metadata": {},
     "output_type": "display_data"
    },
    {
     "data": {
      "application/vnd.jupyter.widget-view+json": {
       "model_id": "765c5269d6b54b6987de50932284dc1c",
       "version_major": 2,
       "version_minor": 0
      },
      "text/plain": [
       "Doing single literal: 0it [00:00, ?it/s]"
      ]
     },
     "metadata": {},
     "output_type": "display_data"
    },
    {
     "data": {
      "application/vnd.jupyter.widget-view+json": {
       "model_id": "0eeb7a6e9c3945b28fcd2c867cc298ea",
       "version_major": 2,
       "version_minor": 0
      },
      "text/plain": [
       "Doing single literal:   0%|          | 0/13 [00:00<?, ?it/s]"
      ]
     },
     "metadata": {},
     "output_type": "display_data"
    },
    {
     "data": {
      "application/vnd.jupyter.widget-view+json": {
       "model_id": "c4e84e61e7204a4583ca830782d288b1",
       "version_major": 2,
       "version_minor": 0
      },
      "text/plain": [
       "Doing single literal:   0%|          | 0/11 [00:00<?, ?it/s]"
      ]
     },
     "metadata": {},
     "output_type": "display_data"
    },
    {
     "data": {
      "application/vnd.jupyter.widget-view+json": {
       "model_id": "3e478b00f26c4862986b00620bba5469",
       "version_major": 2,
       "version_minor": 0
      },
      "text/plain": [
       "Doing single literal: 0it [00:00, ?it/s]"
      ]
     },
     "metadata": {},
     "output_type": "display_data"
    },
    {
     "data": {
      "application/vnd.jupyter.widget-view+json": {
       "model_id": "449bb9aad9414f009a6aee723c1e510f",
       "version_major": 2,
       "version_minor": 0
      },
      "text/plain": [
       "Doing single literal:   0%|          | 0/11 [00:00<?, ?it/s]"
      ]
     },
     "metadata": {},
     "output_type": "display_data"
    },
    {
     "data": {
      "application/vnd.jupyter.widget-view+json": {
       "model_id": "70f46b348cf244df8326fb99693244da",
       "version_major": 2,
       "version_minor": 0
      },
      "text/plain": [
       "Doing single literal:   0%|          | 0/4 [00:00<?, ?it/s]"
      ]
     },
     "metadata": {},
     "output_type": "display_data"
    },
    {
     "data": {
      "application/vnd.jupyter.widget-view+json": {
       "model_id": "6e2e7d02f7784121956e96deb92e53d4",
       "version_major": 2,
       "version_minor": 0
      },
      "text/plain": [
       "Doing single literal:   0%|          | 0/4 [00:00<?, ?it/s]"
      ]
     },
     "metadata": {},
     "output_type": "display_data"
    },
    {
     "data": {
      "application/vnd.jupyter.widget-view+json": {
       "model_id": "3b2d51219cba4c8ba6f9ed30ad30221d",
       "version_major": 2,
       "version_minor": 0
      },
      "text/plain": [
       "Doing single literal:   0%|          | 0/1 [00:00<?, ?it/s]"
      ]
     },
     "metadata": {},
     "output_type": "display_data"
    },
    {
     "data": {
      "application/vnd.jupyter.widget-view+json": {
       "model_id": "bd573333f5374230b537a64270ba0ef1",
       "version_major": 2,
       "version_minor": 0
      },
      "text/plain": [
       "Doing single literal:   0%|          | 0/4 [00:00<?, ?it/s]"
      ]
     },
     "metadata": {},
     "output_type": "display_data"
    },
    {
     "data": {
      "application/vnd.jupyter.widget-view+json": {
       "model_id": "2b9cfffe10054eeb93ebdafa1a3e23fe",
       "version_major": 2,
       "version_minor": 0
      },
      "text/plain": [
       "Doing single literal:   0%|          | 0/4 [00:00<?, ?it/s]"
      ]
     },
     "metadata": {},
     "output_type": "display_data"
    },
    {
     "data": {
      "application/vnd.jupyter.widget-view+json": {
       "model_id": "e4302de31d3748fa8911030395a96173",
       "version_major": 2,
       "version_minor": 0
      },
      "text/plain": [
       "Doing single literal:   0%|          | 0/1 [00:00<?, ?it/s]"
      ]
     },
     "metadata": {},
     "output_type": "display_data"
    },
    {
     "data": {
      "application/vnd.jupyter.widget-view+json": {
       "model_id": "e1f73638e06847529a142804336ed44c",
       "version_major": 2,
       "version_minor": 0
      },
      "text/plain": [
       "Doing single literal:   0%|          | 0/11 [00:00<?, ?it/s]"
      ]
     },
     "metadata": {},
     "output_type": "display_data"
    },
    {
     "data": {
      "application/vnd.jupyter.widget-view+json": {
       "model_id": "46a186b3fb7f4fc8aef49286c0bf7ecd",
       "version_major": 2,
       "version_minor": 0
      },
      "text/plain": [
       "Doing single literal: 0it [00:00, ?it/s]"
      ]
     },
     "metadata": {},
     "output_type": "display_data"
    },
    {
     "data": {
      "application/vnd.jupyter.widget-view+json": {
       "model_id": "7534d06fc33d4ce8b19ec34b9aa63465",
       "version_major": 2,
       "version_minor": 0
      },
      "text/plain": [
       "Doing single literal:   0%|          | 0/11 [00:00<?, ?it/s]"
      ]
     },
     "metadata": {},
     "output_type": "display_data"
    },
    {
     "data": {
      "application/vnd.jupyter.widget-view+json": {
       "model_id": "d079d7d3c2ec455e89bcc6c6c792c0fd",
       "version_major": 2,
       "version_minor": 0
      },
      "text/plain": [
       "Doing single literal:   0%|          | 0/1 [00:00<?, ?it/s]"
      ]
     },
     "metadata": {},
     "output_type": "display_data"
    },
    {
     "data": {
      "application/vnd.jupyter.widget-view+json": {
       "model_id": "3d7dc1f780604267ae85665777d9104f",
       "version_major": 2,
       "version_minor": 0
      },
      "text/plain": [
       "Doing single literal:   0%|          | 0/4 [00:00<?, ?it/s]"
      ]
     },
     "metadata": {},
     "output_type": "display_data"
    },
    {
     "data": {
      "application/vnd.jupyter.widget-view+json": {
       "model_id": "0974fc0f52804b3da505b1b5b4c9efd7",
       "version_major": 2,
       "version_minor": 0
      },
      "text/plain": [
       "Doing single literal:   0%|          | 0/11 [00:00<?, ?it/s]"
      ]
     },
     "metadata": {},
     "output_type": "display_data"
    },
    {
     "data": {
      "application/vnd.jupyter.widget-view+json": {
       "model_id": "9ddd0ce560314acd9f3d86e7b49e2abc",
       "version_major": 2,
       "version_minor": 0
      },
      "text/plain": [
       "Doing single literal:   0%|          | 0/1 [00:00<?, ?it/s]"
      ]
     },
     "metadata": {},
     "output_type": "display_data"
    },
    {
     "data": {
      "application/vnd.jupyter.widget-view+json": {
       "model_id": "c5138cf9dc9e48c9bc05f8d7825656d9",
       "version_major": 2,
       "version_minor": 0
      },
      "text/plain": [
       "Doing single literal:   0%|          | 0/4 [00:00<?, ?it/s]"
      ]
     },
     "metadata": {},
     "output_type": "display_data"
    },
    {
     "data": {
      "application/vnd.jupyter.widget-view+json": {
       "model_id": "1216bd12b5cf4c56a4377e09e6b9ae2e",
       "version_major": 2,
       "version_minor": 0
      },
      "text/plain": [
       "Recursive loop:   0%|          | 0/20 [00:00<?, ?it/s]"
      ]
     },
     "metadata": {},
     "output_type": "display_data"
    },
    {
     "data": {
      "application/vnd.jupyter.widget-view+json": {
       "model_id": "ad30e89bf7ac4b24aa8e75c5ab4e097d",
       "version_major": 2,
       "version_minor": 0
      },
      "text/plain": [
       "Doing single literal:   0%|          | 0/14 [00:00<?, ?it/s]"
      ]
     },
     "metadata": {},
     "output_type": "display_data"
    },
    {
     "data": {
      "application/vnd.jupyter.widget-view+json": {
       "model_id": "fd28ef2925914a02b11c724c258a51e8",
       "version_major": 2,
       "version_minor": 0
      },
      "text/plain": [
       "Doing single literal:   0%|          | 0/4 [00:00<?, ?it/s]"
      ]
     },
     "metadata": {},
     "output_type": "display_data"
    },
    {
     "data": {
      "application/vnd.jupyter.widget-view+json": {
       "model_id": "a94f2c04b0474908b62663e5032296d9",
       "version_major": 2,
       "version_minor": 0
      },
      "text/plain": [
       "Doing single literal:   0%|          | 0/13 [00:00<?, ?it/s]"
      ]
     },
     "metadata": {},
     "output_type": "display_data"
    },
    {
     "data": {
      "application/vnd.jupyter.widget-view+json": {
       "model_id": "324c599fd72247f7b6aa0bd07830109e",
       "version_major": 2,
       "version_minor": 0
      },
      "text/plain": [
       "Doing single literal:   0%|          | 0/1 [00:00<?, ?it/s]"
      ]
     },
     "metadata": {},
     "output_type": "display_data"
    },
    {
     "data": {
      "application/vnd.jupyter.widget-view+json": {
       "model_id": "4a9762b5ab3145a68a35dbd39e1b5426",
       "version_major": 2,
       "version_minor": 0
      },
      "text/plain": [
       "Doing single literal:   0%|          | 0/10 [00:00<?, ?it/s]"
      ]
     },
     "metadata": {},
     "output_type": "display_data"
    },
    {
     "data": {
      "application/vnd.jupyter.widget-view+json": {
       "model_id": "a4226002379a40e08059db77f6a0cbb6",
       "version_major": 2,
       "version_minor": 0
      },
      "text/plain": [
       "Doing single literal: 0it [00:00, ?it/s]"
      ]
     },
     "metadata": {},
     "output_type": "display_data"
    },
    {
     "data": {
      "application/vnd.jupyter.widget-view+json": {
       "model_id": "57c396ba4f4441e8a74c44918d989ead",
       "version_major": 2,
       "version_minor": 0
      },
      "text/plain": [
       "Doing single literal:   0%|          | 0/13 [00:00<?, ?it/s]"
      ]
     },
     "metadata": {},
     "output_type": "display_data"
    },
    {
     "data": {
      "application/vnd.jupyter.widget-view+json": {
       "model_id": "679e7674945b4d39b617d5587e5eae46",
       "version_major": 2,
       "version_minor": 0
      },
      "text/plain": [
       "Doing single literal: 0it [00:00, ?it/s]"
      ]
     },
     "metadata": {},
     "output_type": "display_data"
    },
    {
     "data": {
      "application/vnd.jupyter.widget-view+json": {
       "model_id": "9a1ce169119f4a3c85ae372d64a6d1a6",
       "version_major": 2,
       "version_minor": 0
      },
      "text/plain": [
       "Doing single literal:   0%|          | 0/12 [00:00<?, ?it/s]"
      ]
     },
     "metadata": {},
     "output_type": "display_data"
    },
    {
     "data": {
      "application/vnd.jupyter.widget-view+json": {
       "model_id": "5d8c55648b5347c89788bef66cb4e9b0",
       "version_major": 2,
       "version_minor": 0
      },
      "text/plain": [
       "Doing single literal:   0%|          | 0/9 [00:00<?, ?it/s]"
      ]
     },
     "metadata": {},
     "output_type": "display_data"
    },
    {
     "data": {
      "application/vnd.jupyter.widget-view+json": {
       "model_id": "fa730b87a303494ab2e919ca48aef4d6",
       "version_major": 2,
       "version_minor": 0
      },
      "text/plain": [
       "Doing single literal: 0it [00:00, ?it/s]"
      ]
     },
     "metadata": {},
     "output_type": "display_data"
    },
    {
     "data": {
      "application/vnd.jupyter.widget-view+json": {
       "model_id": "cdc8609f6610447dbef2b003e8a265d8",
       "version_major": 2,
       "version_minor": 0
      },
      "text/plain": [
       "Doing single literal:   0%|          | 0/9 [00:00<?, ?it/s]"
      ]
     },
     "metadata": {},
     "output_type": "display_data"
    },
    {
     "data": {
      "application/vnd.jupyter.widget-view+json": {
       "model_id": "398e2d3f81df4e738b9d10870fbb5a01",
       "version_major": 2,
       "version_minor": 0
      },
      "text/plain": [
       "Doing single literal: 0it [00:00, ?it/s]"
      ]
     },
     "metadata": {},
     "output_type": "display_data"
    },
    {
     "data": {
      "application/vnd.jupyter.widget-view+json": {
       "model_id": "e98fcfcf0464443db94027a2432a7899",
       "version_major": 2,
       "version_minor": 0
      },
      "text/plain": [
       "Doing single literal:   0%|          | 0/7 [00:00<?, ?it/s]"
      ]
     },
     "metadata": {},
     "output_type": "display_data"
    },
    {
     "data": {
      "application/vnd.jupyter.widget-view+json": {
       "model_id": "b3f24e0e5de341389e5d5c0a8d3b8fd1",
       "version_major": 2,
       "version_minor": 0
      },
      "text/plain": [
       "Doing single literal:   0%|          | 0/2 [00:00<?, ?it/s]"
      ]
     },
     "metadata": {},
     "output_type": "display_data"
    },
    {
     "data": {
      "application/vnd.jupyter.widget-view+json": {
       "model_id": "33272c1ed9ca4ef6b5d392c5435a86be",
       "version_major": 2,
       "version_minor": 0
      },
      "text/plain": [
       "Doing single literal:   0%|          | 0/1 [00:00<?, ?it/s]"
      ]
     },
     "metadata": {},
     "output_type": "display_data"
    },
    {
     "data": {
      "application/vnd.jupyter.widget-view+json": {
       "model_id": "1e548aeb90cd484c92e190a5935eb076",
       "version_major": 2,
       "version_minor": 0
      },
      "text/plain": [
       "Doing single literal:   0%|          | 0/4 [00:00<?, ?it/s]"
      ]
     },
     "metadata": {},
     "output_type": "display_data"
    },
    {
     "data": {
      "application/vnd.jupyter.widget-view+json": {
       "model_id": "9aac665f4b4741b08938df43e8c62e5f",
       "version_major": 2,
       "version_minor": 0
      },
      "text/plain": [
       "Doing single literal: 0it [00:00, ?it/s]"
      ]
     },
     "metadata": {},
     "output_type": "display_data"
    },
    {
     "data": {
      "application/vnd.jupyter.widget-view+json": {
       "model_id": "6b1bd4c62bca46da8f25a1a35f2ae6a5",
       "version_major": 2,
       "version_minor": 0
      },
      "text/plain": [
       "Doing single literal:   0%|          | 0/14 [00:00<?, ?it/s]"
      ]
     },
     "metadata": {},
     "output_type": "display_data"
    },
    {
     "data": {
      "application/vnd.jupyter.widget-view+json": {
       "model_id": "2006098a92864b9297714ad68ceafd65",
       "version_major": 2,
       "version_minor": 0
      },
      "text/plain": [
       "Doing single literal:   0%|          | 0/12 [00:00<?, ?it/s]"
      ]
     },
     "metadata": {},
     "output_type": "display_data"
    },
    {
     "data": {
      "application/vnd.jupyter.widget-view+json": {
       "model_id": "2216a4efad3d45da905ab75058e33d69",
       "version_major": 2,
       "version_minor": 0
      },
      "text/plain": [
       "Doing single literal:   0%|          | 0/1 [00:00<?, ?it/s]"
      ]
     },
     "metadata": {},
     "output_type": "display_data"
    },
    {
     "data": {
      "application/vnd.jupyter.widget-view+json": {
       "model_id": "080e9f1c770745fd9586d6b4016e4ddb",
       "version_major": 2,
       "version_minor": 0
      },
      "text/plain": [
       "Doing single literal:   0%|          | 0/13 [00:00<?, ?it/s]"
      ]
     },
     "metadata": {},
     "output_type": "display_data"
    },
    {
     "data": {
      "application/vnd.jupyter.widget-view+json": {
       "model_id": "44e1327c6e2b4840adaa1173ef27ff11",
       "version_major": 2,
       "version_minor": 0
      },
      "text/plain": [
       "Doing single literal: 0it [00:00, ?it/s]"
      ]
     },
     "metadata": {},
     "output_type": "display_data"
    },
    {
     "data": {
      "application/vnd.jupyter.widget-view+json": {
       "model_id": "ac1f5ba465cb4f43bcc582cf8d95437b",
       "version_major": 2,
       "version_minor": 0
      },
      "text/plain": [
       "Doing single literal:   0%|          | 0/10 [00:00<?, ?it/s]"
      ]
     },
     "metadata": {},
     "output_type": "display_data"
    },
    {
     "data": {
      "application/vnd.jupyter.widget-view+json": {
       "model_id": "758f7db43e4f471297221299b5ca0635",
       "version_major": 2,
       "version_minor": 0
      },
      "text/plain": [
       "Doing single literal: 0it [00:00, ?it/s]"
      ]
     },
     "metadata": {},
     "output_type": "display_data"
    },
    {
     "data": {
      "application/vnd.jupyter.widget-view+json": {
       "model_id": "688bcadb4c09466c806bfe98ed089594",
       "version_major": 2,
       "version_minor": 0
      },
      "text/plain": [
       "Doing single literal:   0%|          | 0/12 [00:00<?, ?it/s]"
      ]
     },
     "metadata": {},
     "output_type": "display_data"
    },
    {
     "data": {
      "application/vnd.jupyter.widget-view+json": {
       "model_id": "04b1337316da4f8a881f421efd7c107a",
       "version_major": 2,
       "version_minor": 0
      },
      "text/plain": [
       "Doing single literal:   0%|          | 0/1 [00:00<?, ?it/s]"
      ]
     },
     "metadata": {},
     "output_type": "display_data"
    },
    {
     "data": {
      "application/vnd.jupyter.widget-view+json": {
       "model_id": "e13b385a2f634b048621e3524455a3eb",
       "version_major": 2,
       "version_minor": 0
      },
      "text/plain": [
       "Doing single literal: 0it [00:00, ?it/s]"
      ]
     },
     "metadata": {},
     "output_type": "display_data"
    },
    {
     "data": {
      "application/vnd.jupyter.widget-view+json": {
       "model_id": "1765b2ca44594116a115dacfacb5c4e8",
       "version_major": 2,
       "version_minor": 0
      },
      "text/plain": [
       "Doing single literal:   0%|          | 0/12 [00:00<?, ?it/s]"
      ]
     },
     "metadata": {},
     "output_type": "display_data"
    },
    {
     "data": {
      "application/vnd.jupyter.widget-view+json": {
       "model_id": "ffb6f48bfcf942d580d4aae5cfb4d2b5",
       "version_major": 2,
       "version_minor": 0
      },
      "text/plain": [
       "Doing single literal:   0%|          | 0/4 [00:00<?, ?it/s]"
      ]
     },
     "metadata": {},
     "output_type": "display_data"
    },
    {
     "data": {
      "application/vnd.jupyter.widget-view+json": {
       "model_id": "524ddf5403e24307834cacb48742c30d",
       "version_major": 2,
       "version_minor": 0
      },
      "text/plain": [
       "Doing single literal:   0%|          | 0/13 [00:00<?, ?it/s]"
      ]
     },
     "metadata": {},
     "output_type": "display_data"
    },
    {
     "data": {
      "application/vnd.jupyter.widget-view+json": {
       "model_id": "f51670237fba4c4d82991e5ac8d9639b",
       "version_major": 2,
       "version_minor": 0
      },
      "text/plain": [
       "Doing single literal: 0it [00:00, ?it/s]"
      ]
     },
     "metadata": {},
     "output_type": "display_data"
    },
    {
     "data": {
      "application/vnd.jupyter.widget-view+json": {
       "model_id": "81516b56a817409aa323637fc6fdf31c",
       "version_major": 2,
       "version_minor": 0
      },
      "text/plain": [
       "Doing single literal:   0%|          | 0/10 [00:00<?, ?it/s]"
      ]
     },
     "metadata": {},
     "output_type": "display_data"
    },
    {
     "data": {
      "application/vnd.jupyter.widget-view+json": {
       "model_id": "dd70a93cb2b843b99d4847adcca12bba",
       "version_major": 2,
       "version_minor": 0
      },
      "text/plain": [
       "Doing single literal:   0%|          | 0/11 [00:00<?, ?it/s]"
      ]
     },
     "metadata": {},
     "output_type": "display_data"
    },
    {
     "data": {
      "application/vnd.jupyter.widget-view+json": {
       "model_id": "c9b900b42396438ebd50f9c80af7bc89",
       "version_major": 2,
       "version_minor": 0
      },
      "text/plain": [
       "Doing single literal:   0%|          | 0/4 [00:00<?, ?it/s]"
      ]
     },
     "metadata": {},
     "output_type": "display_data"
    },
    {
     "data": {
      "application/vnd.jupyter.widget-view+json": {
       "model_id": "b5b380fff608451985a0a303c5110bb3",
       "version_major": 2,
       "version_minor": 0
      },
      "text/plain": [
       "Doing single literal:   0%|          | 0/4 [00:00<?, ?it/s]"
      ]
     },
     "metadata": {},
     "output_type": "display_data"
    },
    {
     "data": {
      "application/vnd.jupyter.widget-view+json": {
       "model_id": "acae30fbab3041b99cd2337e4831953e",
       "version_major": 2,
       "version_minor": 0
      },
      "text/plain": [
       "Doing single literal: 0it [00:00, ?it/s]"
      ]
     },
     "metadata": {},
     "output_type": "display_data"
    },
    {
     "data": {
      "application/vnd.jupyter.widget-view+json": {
       "model_id": "af34f7dcabdf43ea8b9389745ad62f17",
       "version_major": 2,
       "version_minor": 0
      },
      "text/plain": [
       "Doing single literal:   0%|          | 0/11 [00:00<?, ?it/s]"
      ]
     },
     "metadata": {},
     "output_type": "display_data"
    },
    {
     "data": {
      "application/vnd.jupyter.widget-view+json": {
       "model_id": "8ad24b4600aa47a8a6a41e691cde4516",
       "version_major": 2,
       "version_minor": 0
      },
      "text/plain": [
       "Doing single literal: 0it [00:00, ?it/s]"
      ]
     },
     "metadata": {},
     "output_type": "display_data"
    },
    {
     "data": {
      "application/vnd.jupyter.widget-view+json": {
       "model_id": "5437ece95e424c8abca9ecfc4e332e2e",
       "version_major": 2,
       "version_minor": 0
      },
      "text/plain": [
       "Doing single literal:   0%|          | 0/9 [00:00<?, ?it/s]"
      ]
     },
     "metadata": {},
     "output_type": "display_data"
    },
    {
     "data": {
      "application/vnd.jupyter.widget-view+json": {
       "model_id": "317db8c755f44e38875b882f94f805df",
       "version_major": 2,
       "version_minor": 0
      },
      "text/plain": [
       "Doing single literal:   0%|          | 0/1 [00:00<?, ?it/s]"
      ]
     },
     "metadata": {},
     "output_type": "display_data"
    },
    {
     "data": {
      "application/vnd.jupyter.widget-view+json": {
       "model_id": "8e46d0d843dd4b11a489b6bdf28b6f9a",
       "version_major": 2,
       "version_minor": 0
      },
      "text/plain": [
       "Doing single literal: 0it [00:00, ?it/s]"
      ]
     },
     "metadata": {},
     "output_type": "display_data"
    },
    {
     "data": {
      "application/vnd.jupyter.widget-view+json": {
       "model_id": "6663af6be75c475c8640516426cf0517",
       "version_major": 2,
       "version_minor": 0
      },
      "text/plain": [
       "Doing single literal:   0%|          | 0/11 [00:00<?, ?it/s]"
      ]
     },
     "metadata": {},
     "output_type": "display_data"
    },
    {
     "data": {
      "application/vnd.jupyter.widget-view+json": {
       "model_id": "63a5777632894041a9e0cc38f31c5b7f",
       "version_major": 2,
       "version_minor": 0
      },
      "text/plain": [
       "Doing single literal:   0%|          | 0/4 [00:00<?, ?it/s]"
      ]
     },
     "metadata": {},
     "output_type": "display_data"
    },
    {
     "data": {
      "application/vnd.jupyter.widget-view+json": {
       "model_id": "7e5cba2226fc4d8d873b9640f372976d",
       "version_major": 2,
       "version_minor": 0
      },
      "text/plain": [
       "Doing single literal:   0%|          | 0/4 [00:00<?, ?it/s]"
      ]
     },
     "metadata": {},
     "output_type": "display_data"
    },
    {
     "data": {
      "application/vnd.jupyter.widget-view+json": {
       "model_id": "e1009cbb02914220afb27a5c85a7ecb1",
       "version_major": 2,
       "version_minor": 0
      },
      "text/plain": [
       "Doing single literal:   0%|          | 0/4 [00:00<?, ?it/s]"
      ]
     },
     "metadata": {},
     "output_type": "display_data"
    },
    {
     "data": {
      "application/vnd.jupyter.widget-view+json": {
       "model_id": "8ff1d7b402f24712b64ac161300698c6",
       "version_major": 2,
       "version_minor": 0
      },
      "text/plain": [
       "Doing single literal:   0%|          | 0/4 [00:00<?, ?it/s]"
      ]
     },
     "metadata": {},
     "output_type": "display_data"
    },
    {
     "data": {
      "application/vnd.jupyter.widget-view+json": {
       "model_id": "58bb5b5eb59b4164be4638317adc3485",
       "version_major": 2,
       "version_minor": 0
      },
      "text/plain": [
       "Doing single literal: 0it [00:00, ?it/s]"
      ]
     },
     "metadata": {},
     "output_type": "display_data"
    },
    {
     "data": {
      "application/vnd.jupyter.widget-view+json": {
       "model_id": "0f4357d703a947b8a216acfbdd550f6c",
       "version_major": 2,
       "version_minor": 0
      },
      "text/plain": [
       "Doing single literal:   0%|          | 0/11 [00:00<?, ?it/s]"
      ]
     },
     "metadata": {},
     "output_type": "display_data"
    },
    {
     "data": {
      "application/vnd.jupyter.widget-view+json": {
       "model_id": "313358e1b3134f0a839fd0a936c68e69",
       "version_major": 2,
       "version_minor": 0
      },
      "text/plain": [
       "Doing single literal: 0it [00:00, ?it/s]"
      ]
     },
     "metadata": {},
     "output_type": "display_data"
    },
    {
     "data": {
      "application/vnd.jupyter.widget-view+json": {
       "model_id": "97065568b8b14766b7a290685a370fab",
       "version_major": 2,
       "version_minor": 0
      },
      "text/plain": [
       "Doing single literal:   0%|          | 0/7 [00:00<?, ?it/s]"
      ]
     },
     "metadata": {},
     "output_type": "display_data"
    },
    {
     "data": {
      "application/vnd.jupyter.widget-view+json": {
       "model_id": "d17d816fabba4afbaa62898d14cfad26",
       "version_major": 2,
       "version_minor": 0
      },
      "text/plain": [
       "Doing single literal:   0%|          | 0/9 [00:00<?, ?it/s]"
      ]
     },
     "metadata": {},
     "output_type": "display_data"
    },
    {
     "data": {
      "application/vnd.jupyter.widget-view+json": {
       "model_id": "16dc21d812fe4dc1a2e686fc38975466",
       "version_major": 2,
       "version_minor": 0
      },
      "text/plain": [
       "Doing single literal: 0it [00:00, ?it/s]"
      ]
     },
     "metadata": {},
     "output_type": "display_data"
    },
    {
     "data": {
      "application/vnd.jupyter.widget-view+json": {
       "model_id": "58133c5441584089b06fb9a9284d86c3",
       "version_major": 2,
       "version_minor": 0
      },
      "text/plain": [
       "Doing single literal:   0%|          | 0/9 [00:00<?, ?it/s]"
      ]
     },
     "metadata": {},
     "output_type": "display_data"
    },
    {
     "data": {
      "application/vnd.jupyter.widget-view+json": {
       "model_id": "409357d8302d456eb562cc0f60281b91",
       "version_major": 2,
       "version_minor": 0
      },
      "text/plain": [
       "Doing single literal: 0it [00:00, ?it/s]"
      ]
     },
     "metadata": {},
     "output_type": "display_data"
    },
    {
     "data": {
      "application/vnd.jupyter.widget-view+json": {
       "model_id": "39fc0b8f98924ba194bc4c370e448ff3",
       "version_major": 2,
       "version_minor": 0
      },
      "text/plain": [
       "Doing single literal:   0%|          | 0/8 [00:00<?, ?it/s]"
      ]
     },
     "metadata": {},
     "output_type": "display_data"
    },
    {
     "data": {
      "application/vnd.jupyter.widget-view+json": {
       "model_id": "a0429545563845c29e2123d6637b770d",
       "version_major": 2,
       "version_minor": 0
      },
      "text/plain": [
       "Doing single literal:   0%|          | 0/1 [00:00<?, ?it/s]"
      ]
     },
     "metadata": {},
     "output_type": "display_data"
    },
    {
     "name": "stdout",
     "output_type": "stream",
     "text": [
      "Found logic solution\n",
      "{308: True, 307: False, 309: False, 310: False, 311: False, 312: False, 313: False, 314: False, 315: False, 316: False, 317: False, 318: False, 319: False, 320: False, 321: False, 322: False, 358: True, 359: False, 360: False, 361: False, 362: False, 363: False, 364: False, 365: False, 366: False, 367: False, 368: False, 369: False, 370: False, 371: False, 372: False, 373: False, 385: True, 375: False, 376: False, 377: False, 378: False, 379: False, 380: False, 381: False, 382: False, 383: False, 384: False, 386: False, 387: False, 388: False, 389: False, 390: False, 416: True, 409: False, 410: False, 411: False, 412: False, 413: False, 414: False, 415: False, 417: False, 418: False, 419: False, 420: False, 421: False, 422: False, 423: False, 424: False, 440: True, 426: False, 427: False, 428: False, 429: False, 430: False, 431: False, 432: False, 433: False, 434: False, 435: False, 436: False, 437: False, 438: False, 439: False, 441: False, 540: True, 528: False, 529: False, 530: False, 531: False, 532: False, 533: False, 534: False, 535: False, 536: False, 537: False, 538: False, 539: False, 541: False, 542: False, 543: False, 573: True, 562: False, 563: False, 564: False, 565: False, 566: False, 567: False, 568: False, 569: False, 570: False, 571: False, 572: False, 574: False, 575: False, 576: False, 577: False, 622: True, 613: False, 614: False, 615: False, 616: False, 617: False, 618: False, 619: False, 620: False, 621: False, 623: False, 624: False, 625: False, 626: False, 627: False, 628: False, 655: True, 647: False, 648: False, 649: False, 650: False, 651: False, 652: False, 653: False, 654: False, 656: False, 657: False, 658: False, 659: False, 660: False, 661: False, 662: False, 753: True, 749: False, 750: False, 751: False, 752: False, 754: False, 755: False, 756: False, 757: False, 758: False, 759: False, 760: False, 761: False, 762: False, 763: False, 764: False, 795: True, 783: False, 784: False, 785: False, 786: False, 787: False, 788: False, 789: False, 790: False, 791: False, 792: False, 793: False, 794: False, 796: False, 797: False, 798: False, 834: True, 835: False, 836: False, 837: False, 838: False, 839: False, 840: False, 841: False, 842: False, 843: False, 844: False, 845: False, 846: False, 847: False, 848: False, 849: False, 900: True, 885: False, 886: False, 887: False, 888: False, 889: False, 890: False, 891: False, 892: False, 893: False, 894: False, 895: False, 896: False, 897: False, 898: False, 899: False, 909: True, 902: False, 903: False, 904: False, 905: False, 906: False, 907: False, 908: False, 910: False, 911: False, 912: False, 913: False, 914: False, 915: False, 916: False, 917: False, 947: True, 936: False, 937: False, 938: False, 939: False, 940: False, 941: False, 942: False, 943: False, 944: False, 945: False, 946: False, 948: False, 949: False, 950: False, 951: False, 1024: True, 1021: False, 1022: False, 1023: False, 1025: False, 1026: False, 1027: False, 1028: False, 1029: False, 1030: False, 1031: False, 1032: False, 1033: False, 1034: False, 1035: False, 1036: False, 1061: True, 1055: False, 1056: False, 1057: False, 1058: False, 1059: False, 1060: False, 1062: False, 1063: False, 1064: False, 1065: False, 1066: False, 1067: False, 1068: False, 1069: False, 1070: False, 1115: True, 1106: False, 1107: False, 1108: False, 1109: False, 1110: False, 1111: False, 1112: False, 1113: False, 1114: False, 1116: False, 1117: False, 1118: False, 1119: False, 1120: False, 1121: False, 1124: True, 1123: False, 1125: False, 1126: False, 1127: False, 1128: False, 1129: False, 1130: False, 1131: False, 1132: False, 1133: False, 1134: False, 1135: False, 1136: False, 1137: False, 1138: False, 1227: True, 1225: False, 1226: False, 1228: False, 1229: False, 1230: False, 1231: False, 1232: False, 1233: False, 1234: False, 1235: False, 1236: False, 1237: False, 1238: False, 1239: False, 1240: False, 1255: True, 1242: False, 1243: False, 1244: False, 1245: False, 1246: False, 1247: False, 1248: False, 1249: False, 1250: False, 1251: False, 1252: False, 1253: False, 1254: False, 1256: False, 1257: False, 1268: True, 1259: False, 1260: False, 1261: False, 1262: False, 1263: False, 1264: False, 1265: False, 1266: False, 1267: False, 1269: False, 1270: False, 1271: False, 1272: False, 1273: False, 1274: False, 1288: True, 1276: False, 1277: False, 1278: False, 1279: False, 1280: False, 1281: False, 1282: False, 1283: False, 1284: False, 1285: False, 1286: False, 1287: False, 1289: False, 1290: False, 1291: False, 1341: True, 1327: False, 1328: False, 1329: False, 1330: False, 1331: False, 1332: False, 1333: False, 1334: False, 1335: False, 1336: False, 1337: False, 1338: False, 1339: False, 1340: False, 1342: False, 1372: True, 1361: False, 1362: False, 1363: False, 1364: False, 1365: False, 1366: False, 1367: False, 1368: False, 1369: False, 1370: False, 1371: False, 1373: False, 1374: False, 1375: False, 1376: False, 1502: True, 1497: False, 1498: False, 1499: False, 1500: False, 1501: False, 1503: False, 1504: False, 1505: False, 1506: False, 1507: False, 1508: False, 1509: False, 1510: False, 1511: False, 1512: False, 1589: True, 1582: False, 1583: False, 1584: False, 1585: False, 1586: False, 1587: False, 1588: False, 1590: False, 1591: False, 1592: False, 1593: False, 1594: False, 1595: False, 1596: False, 1597: False, 1605: True, 1599: False, 1600: False, 1601: False, 1602: False, 1603: False, 1604: False, 1606: False, 1607: False, 1608: False, 1609: False, 1610: False, 1611: False, 1612: False, 1613: False, 1614: False, 1698: True, 1684: False, 1685: False, 1686: False, 1687: False, 1688: False, 1689: False, 1690: False, 1691: False, 1692: False, 1693: False, 1694: False, 1695: False, 1696: False, 1697: False, 1699: False, 1722: True, 1718: False, 1719: False, 1720: False, 1721: False, 1723: False, 1724: False, 1725: False, 1726: False, 1727: False, 1728: False, 1729: False, 1730: False, 1731: False, 1732: False, 1733: False, 1765: True, 1752: False, 1753: False, 1754: False, 1755: False, 1756: False, 1757: False, 1758: False, 1759: False, 1760: False, 1761: False, 1762: False, 1763: False, 1764: False, 1766: False, 1767: False, 1779: True, 1769: False, 1770: False, 1771: False, 1772: False, 1773: False, 1774: False, 1775: False, 1776: False, 1777: False, 1778: False, 1780: False, 1781: False, 1782: False, 1783: False, 1784: False, 1804: True, 1803: False, 1805: False, 1806: False, 1807: False, 1808: False, 1809: False, 1810: False, 1811: False, 1812: False, 1813: False, 1814: False, 1815: False, 1816: False, 1817: False, 1818: False, 1835: True, 1820: False, 1821: False, 1822: False, 1823: False, 1824: False, 1825: False, 1826: False, 1827: False, 1828: False, 1829: False, 1830: False, 1831: False, 1832: False, 1833: False, 1834: False, 1914: True, 1905: False, 1906: False, 1907: False, 1908: False, 1909: False, 1910: False, 1911: False, 1912: False, 1913: False, 1915: False, 1916: False, 1917: False, 1918: False, 1919: False, 1920: False, 1925: True, 1922: False, 1923: False, 1924: False, 1926: False, 1927: False, 1928: False, 1929: False, 1930: False, 1931: False, 1932: False, 1933: False, 1934: False, 1935: False, 1936: False, 1937: False, 1964: True, 1956: False, 1957: False, 1958: False, 1959: False, 1960: False, 1961: False, 1962: False, 1963: False, 1965: False, 1966: False, 1967: False, 1968: False, 1969: False, 1970: False, 1971: False, 2078: True, 2075: False, 2076: False, 2077: False, 2079: False, 2080: False, 2081: False, 2082: False, 2083: False, 2084: False, 2085: False, 2086: False, 2087: False, 2088: False, 2089: False, 2090: False, 2123: True, 2109: False, 2110: False, 2111: False, 2112: False, 2113: False, 2114: False, 2115: False, 2116: False, 2117: False, 2118: False, 2119: False, 2120: False, 2121: False, 2122: False, 2124: False, 2152: True, 2143: False, 2144: False, 2145: False, 2146: False, 2147: False, 2148: False, 2149: False, 2150: False, 2151: False, 2153: False, 2154: False, 2155: False, 2156: False, 2157: False, 2158: False, 2165: True, 2160: False, 2161: False, 2162: False, 2163: False, 2164: False, 2166: False, 2167: False, 2168: False, 2169: False, 2170: False, 2171: False, 2172: False, 2173: False, 2174: False, 2175: False, 2224: True, 2211: False, 2212: False, 2213: False, 2214: False, 2215: False, 2216: False, 2217: False, 2218: False, 2219: False, 2220: False, 2221: False, 2222: False, 2223: False, 2225: False, 2226: False, 2297: True, 2296: False, 2298: False, 2299: False, 2300: False, 2301: False, 2302: False, 2303: False, 2304: False, 2305: False, 2306: False, 2307: False, 2308: False, 2309: False, 2310: False, 2311: False, 2358: True, 2347: False, 2348: False, 2349: False, 2350: False, 2351: False, 2352: False, 2353: False, 2354: False, 2355: False, 2356: False, 2357: False, 2359: False, 2360: False, 2361: False, 2362: False, 2401: True, 2398: False, 2399: False, 2400: False, 2402: False, 2403: False, 2404: False, 2405: False, 2406: False, 2407: False, 2408: False, 2409: False, 2410: False, 2411: False, 2412: False, 2413: False, 2455: True, 2449: False, 2450: False, 2451: False, 2452: False, 2453: False, 2454: False, 2456: False, 2457: False, 2458: False, 2459: False, 2460: False, 2461: False, 2462: False, 2463: False, 2464: False, 2483: True, 2484: False, 2485: False, 2486: False, 2487: False, 2488: False, 2489: False, 2490: False, 2491: False, 2492: False, 2493: False, 2494: False, 2495: False, 2496: False, 2497: False, 2498: False, 2519: True, 2517: False, 2518: False, 2520: False, 2521: False, 2522: False, 2523: False, 2524: False, 2525: False, 2526: False, 2527: False, 2528: False, 2529: False, 2530: False, 2531: False, 2532: False, 2549: True, 2534: False, 2535: False, 2536: False, 2537: False, 2538: False, 2539: False, 2540: False, 2541: False, 2542: False, 2543: False, 2544: False, 2545: False, 2546: False, 2547: False, 2548: False, 2561: True, 2551: False, 2552: False, 2553: False, 2554: False, 2555: False, 2556: False, 2557: False, 2558: False, 2559: False, 2560: False, 2562: False, 2563: False, 2564: False, 2565: False, 2566: False, 2573: True, 2568: False, 2569: False, 2570: False, 2571: False, 2572: False, 2574: False, 2575: False, 2576: False, 2577: False, 2578: False, 2579: False, 2580: False, 2581: False, 2582: False, 2583: False, 2651: True, 2636: False, 2637: False, 2638: False, 2639: False, 2640: False, 2641: False, 2642: False, 2643: False, 2644: False, 2645: False, 2646: False, 2647: False, 2648: False, 2649: False, 2650: False, 2660: True, 2653: False, 2654: False, 2655: False, 2656: False, 2657: False, 2658: False, 2659: False, 2661: False, 2662: False, 2663: False, 2664: False, 2665: False, 2666: False, 2667: False, 2668: False, 2680: True, 2670: False, 2671: False, 2672: False, 2673: False, 2674: False, 2675: False, 2676: False, 2677: False, 2678: False, 2679: False, 2681: False, 2682: False, 2683: False, 2684: False, 2685: False, 2696: True, 2687: False, 2688: False, 2689: False, 2690: False, 2691: False, 2692: False, 2693: False, 2694: False, 2695: False, 2697: False, 2698: False, 2699: False, 2700: False, 2701: False, 2702: False, 2723: True, 2721: False, 2722: False, 2724: False, 2725: False, 2726: False, 2727: False, 2728: False, 2729: False, 2730: False, 2731: False, 2732: False, 2733: False, 2734: False, 2735: False, 2736: False, 2755: True, 2756: False, 2757: False, 2758: False, 2759: False, 2760: False, 2761: False, 2762: False, 2763: False, 2764: False, 2765: False, 2766: False, 2767: False, 2768: False, 2769: False, 2770: False, 2812: True, 2806: False, 2807: False, 2808: False, 2809: False, 2810: False, 2811: False, 2813: False, 2814: False, 2815: False, 2816: False, 2817: False, 2818: False, 2819: False, 2820: False, 2821: False, 2869: True, 2857: False, 2858: False, 2859: False, 2860: False, 2861: False, 2862: False, 2863: False, 2864: False, 2865: False, 2866: False, 2867: False, 2868: False, 2870: False, 2871: False, 2872: False, 2912: True, 2908: False, 2909: False, 2910: False, 2911: False, 2913: False, 2914: False, 2915: False, 2916: False, 2917: False, 2918: False, 2919: False, 2920: False, 2921: False, 2922: False, 2923: False, 3005: True, 2993: False, 2994: False, 2995: False, 2996: False, 2997: False, 2998: False, 2999: False, 3000: False, 3001: False, 3002: False, 3003: False, 3004: False, 3006: False, 3007: False, 3008: False, 3059: True, 3044: False, 3045: False, 3046: False, 3047: False, 3048: False, 3049: False, 3050: False, 3051: False, 3052: False, 3053: False, 3054: False, 3055: False, 3056: False, 3057: False, 3058: False, 3072: True, 3061: False, 3062: False, 3063: False, 3064: False, 3065: False, 3066: False, 3067: False, 3068: False, 3069: False, 3070: False, 3071: False, 3073: False, 3074: False, 3075: False, 3076: False, 3096: True, 3095: False, 3097: False, 3098: False, 3099: False, 3100: False, 3101: False, 3102: False, 3103: False, 3104: False, 3105: False, 3106: False, 3107: False, 3108: False, 3109: False, 3110: False, 3132: True, 3129: False, 3130: False, 3131: False, 3133: False, 3134: False, 3135: False, 3136: False, 3137: False, 3138: False, 3139: False, 3140: False, 3141: False, 3142: False, 3143: False, 3144: False, 3254: True, 3248: False, 3249: False, 3250: False, 3251: False, 3252: False, 3253: False, 3255: False, 3256: False, 3257: False, 3258: False, 3259: False, 3260: False, 3261: False, 3262: False, 3263: False, 3289: True, 3282: False, 3283: False, 3284: False, 3285: False, 3286: False, 3287: False, 3288: False, 3290: False, 3291: False, 3292: False, 3293: False, 3294: False, 3295: False, 3296: False, 3297: False, 3310: True, 3299: False, 3300: False, 3301: False, 3302: False, 3303: False, 3304: False, 3305: False, 3306: False, 3307: False, 3308: False, 3309: False, 3311: False, 3312: False, 3313: False, 3314: False, 3389: True, 3384: False, 3385: False, 3386: False, 3387: False, 3388: False, 3390: False, 3391: False, 3392: False, 3393: False, 3394: False, 3395: False, 3396: False, 3397: False, 3398: False, 3399: False, 3405: True, 3401: False, 3402: False, 3403: False, 3404: False, 3406: False, 3407: False, 3408: False, 3409: False, 3410: False, 3411: False, 3412: False, 3413: False, 3414: False, 3415: False, 3416: False, 3449: True, 3435: False, 3436: False, 3437: False, 3438: False, 3439: False, 3440: False, 3441: False, 3442: False, 3443: False, 3444: False, 3445: False, 3446: False, 3447: False, 3448: False, 3450: False, 3461: True, 3452: False, 3453: False, 3454: False, 3455: False, 3456: False, 3457: False, 3458: False, 3459: False, 3460: False, 3462: False, 3463: False, 3464: False, 3465: False, 3466: False, 3467: False, 3498: True, 3486: False, 3487: False, 3488: False, 3489: False, 3490: False, 3491: False, 3492: False, 3493: False, 3494: False, 3495: False, 3496: False, 3497: False, 3499: False, 3500: False, 3501: False, 3528: True, 3520: False, 3521: False, 3522: False, 3523: False, 3524: False, 3525: False, 3526: False, 3527: False, 3529: False, 3530: False, 3531: False, 3532: False, 3533: False, 3534: False, 3535: False, 3615: True, 3605: False, 3606: False, 3607: False, 3608: False, 3609: False, 3610: False, 3611: False, 3612: False, 3613: False, 3614: False, 3616: False, 3617: False, 3618: False, 3619: False, 3620: False, 3635: True, 3622: False, 3623: False, 3624: False, 3625: False, 3626: False, 3627: False, 3628: False, 3629: False, 3630: False, 3631: False, 3632: False, 3633: False, 3634: False, 3636: False, 3637: False, 3712: True, 3707: False, 3708: False, 3709: False, 3710: False, 3711: False, 3713: False, 3714: False, 3715: False, 3716: False, 3717: False, 3718: False, 3719: False, 3720: False, 3721: False, 3722: False, 3850: True, 3843: False, 3844: False, 3845: False, 3846: False, 3847: False, 3848: False, 3849: False, 3851: False, 3852: False, 3853: False, 3854: False, 3855: False, 3856: False, 3857: False, 3858: False, 3882: True, 3877: False, 3878: False, 3879: False, 3880: False, 3881: False, 3883: False, 3884: False, 3885: False, 3886: False, 3887: False, 3888: False, 3889: False, 3890: False, 3891: False, 3892: False, 3936: True, 3928: False, 3929: False, 3930: False, 3931: False, 3932: False, 3933: False, 3934: False, 3935: False, 3937: False, 3938: False, 3939: False, 3940: False, 3941: False, 3942: False, 3943: False, 3946: True, 3945: False, 3947: False, 3948: False, 3949: False, 3950: False, 3951: False, 3952: False, 3953: False, 3954: False, 3955: False, 3956: False, 3957: False, 3958: False, 3959: False, 3960: False, 3977: True, 3962: False, 3963: False, 3964: False, 3965: False, 3966: False, 3967: False, 3968: False, 3969: False, 3970: False, 3971: False, 3972: False, 3973: False, 3974: False, 3975: False, 3976: False, 3989: True, 3979: False, 3980: False, 3981: False, 3982: False, 3983: False, 3984: False, 3985: False, 3986: False, 3987: False, 3988: False, 3990: False, 3991: False, 3992: False, 3993: False, 3994: False, 4095: True, 4081: False, 4082: False, 4083: False, 4084: False, 4085: False, 4086: False, 4087: False, 4088: False, 4089: False, 4090: False, 4091: False, 4092: False, 4093: False, 4094: False, 4096: False, 4102: True, 4098: False, 4099: False, 4100: False, 4101: False, 4103: False, 4104: False, 4105: False, 4106: False, 4107: False, 4108: False, 4109: False, 4110: False, 4111: False, 4112: False, 4113: False, 4155: True, 4149: False, 4150: False, 4151: False, 4152: False, 4153: False, 4154: False, 4156: False, 4157: False, 4158: False, 4159: False, 4160: False, 4161: False, 4162: False, 4163: False, 4164: False, 4185: True, 4183: False, 4184: False, 4186: False, 4187: False, 4188: False, 4189: False, 4190: False, 4191: False, 4192: False, 4193: False, 4194: False, 4195: False, 4196: False, 4197: False, 4198: False, 4269: True, 4268: False, 4270: False, 4271: False, 4272: False, 4273: False, 4274: False, 4275: False, 4276: False, 4277: False, 4278: False, 4279: False, 4280: False, 4281: False, 4282: False, 4283: False, 4310: True, 4302: False, 4303: False, 4304: False, 4305: False, 4306: False, 4307: False, 4308: False, 4309: False, 4311: False, 4312: False, 4313: False, 4314: False, 4315: False, 4316: False, 4317: False, 4331: True, 4319: False, 4320: False, 4321: False, 4322: False, 4323: False, 4324: False, 4325: False, 4326: False, 4327: False, 4328: False, 4329: False, 4330: False, 4332: False, 4333: False, 4334: False, 4378: True, 4370: False, 4371: False, 4372: False, 4373: False, 4374: False, 4375: False, 4376: False, 4377: False, 4379: False, 4380: False, 4381: False, 4382: False, 4383: False, 4384: False, 4385: False, 4425: True, 4421: False, 4422: False, 4423: False, 4424: False, 4426: False, 4427: False, 4428: False, 4429: False, 4430: False, 4431: False, 4432: False, 4433: False, 4434: False, 4435: False, 4436: False, 4465: True, 4455: False, 4456: False, 4457: False, 4458: False, 4459: False, 4460: False, 4461: False, 4462: False, 4463: False, 4464: False, 4466: False, 4467: False, 4468: False, 4469: False, 4470: False, 4566: True, 4557: False, 4558: False, 4559: False, 4560: False, 4561: False, 4562: False, 4563: False, 4564: False, 4565: False, 4567: False, 4568: False, 4569: False, 4570: False, 4571: False, 4572: False, 4604: True, 4591: False, 4592: False, 4593: False, 4594: False, 4595: False, 4596: False, 4597: False, 4598: False, 4599: False, 4600: False, 4601: False, 4602: False, 4603: False, 4605: False, 4606: False, 4651: True, 4642: False, 4643: False, 4644: False, 4645: False, 4646: False, 4647: False, 4648: False, 4649: False, 4650: False, 4652: False, 4653: False, 4654: False, 4655: False, 4656: False, 4657: False, 4678: True, 4676: False, 4677: False, 4679: False, 4680: False, 4681: False, 4682: False, 4683: False, 4684: False, 4685: False, 4686: False, 4687: False, 4688: False, 4689: False, 4690: False, 4691: False, 4785: True, 4778: False, 4779: False, 4780: False, 4781: False, 4782: False, 4783: False, 4784: False, 4786: False, 4787: False, 4788: False, 4789: False, 4790: False, 4791: False, 4792: False, 4793: False, 4805: True, 4795: False, 4796: False, 4797: False, 4798: False, 4799: False, 4800: False, 4801: False, 4802: False, 4803: False, 4804: False, 4806: False, 4807: False, 4808: False, 4809: False, 4810: False, 4832: True, 4829: False, 4830: False, 4831: False, 4833: False, 4834: False, 4835: False, 4836: False, 4837: False, 4838: False, 4839: False, 4840: False, 4841: False, 4842: False, 4843: False, 4844: False, 4846: True, 4847: False, 4848: False, 4849: False, 4850: False, 4851: False, 4852: False, 4853: False, 4854: False, 4855: False, 4856: False, 4857: False, 4858: False, 4859: False, 4860: False, 4861: False, 4911: True, 4897: False, 4898: False, 4899: False, 4900: False, 4901: False, 4902: False, 4903: False, 4904: False, 4905: False, 4906: False, 4907: False, 4908: False, 4909: False, 4910: False, 4912: False, 324: False, 341: False, 596: False, 630: False, 919: False, 1174: False, 1191: False, 1208: False, 325: False, 342: False, 597: False, 631: False, 920: False, 1175: False, 1192: False, 1209: False, 326: False, 343: False, 598: False, 632: False, 921: False, 1176: False, 1193: False, 1210: False, 331: False, 348: False, 603: False, 637: False, 926: False, 1181: False, 1198: False, 1215: False, 332: False, 349: False, 604: False, 638: False, 927: False, 1182: False, 1199: False, 1216: False, 333: False, 350: False, 605: False, 639: False, 928: False, 1183: False, 1200: False, 1217: False, 335: False, 352: False, 607: False, 641: False, 930: False, 1185: False, 1202: False, 1219: False, 339: False, 356: False, 611: False, 645: False, 934: False, 1189: False, 1206: False, 1223: False, 399: False, 671: False, 688: False, 705: False, 722: False, 960: False, 977: False, 994: False, 1011: False, 1300: False, 401: False, 673: False, 690: False, 707: False, 724: False, 962: False, 979: False, 996: False, 1013: False, 1302: False, 402: False, 674: False, 691: False, 708: False, 725: False, 963: False, 980: False, 997: False, 1014: False, 1303: False, 404: False, 676: False, 693: False, 710: False, 727: False, 965: False, 982: False, 999: False, 1016: False, 1305: False, 405: False, 677: False, 694: False, 711: False, 728: False, 966: False, 983: False, 1000: False, 1017: False, 1306: False, 406: False, 678: False, 695: False, 712: False, 729: False, 967: False, 984: False, 1001: False, 1018: False, 1307: False, 446: False, 463: False, 480: False, 497: False, 735: False, 769: False, 1041: False, 1075: False, 1313: False, 1347: False, 447: False, 464: False, 481: False, 498: False, 736: False, 770: False, 1042: False, 1076: False, 1314: False, 1348: False, 449: False, 466: False, 483: False, 500: False, 738: False, 772: False, 1044: False, 1078: False, 1316: False, 1350: False, 454: False, 471: False, 488: False, 505: False, 743: False, 777: False, 1049: False, 1083: False, 1321: False, 1355: False, 455: False, 472: False, 489: False, 506: False, 744: False, 778: False, 1050: False, 1084: False, 1322: False, 1356: False, 457: False, 474: False, 491: False, 508: False, 746: False, 780: False, 1052: False, 1086: False, 1324: False, 1358: False, 511: False, 545: False, 800: False, 817: False, 851: False, 1089: False, 1140: False, 1378: False, 1395: False, 1412: False, 1429: False, 512: False, 546: False, 801: False, 818: False, 852: False, 1090: False, 1141: False, 1379: False, 1396: False, 1413: False, 1430: False, 520: False, 554: False, 809: False, 826: False, 860: False, 1098: False, 1149: False, 1387: False, 1404: False, 1421: False, 1438: False, 522: False, 556: False, 811: False, 828: False, 862: False, 1100: False, 1151: False, 1389: False, 1406: False, 1423: False, 1440: False, 523: False, 557: False, 812: False, 829: False, 863: False, 1101: False, 1152: False, 1390: False, 1407: False, 1424: False, 1441: False, 1464: False, 1481: False, 1515: False, 1787: False, 2042: False, 2059: False, 2093: False, 2331: False, 2365: False, 2382: False, 1466: False, 1483: False, 1517: False, 1789: False, 2044: False, 2061: False, 2095: False, 2333: False, 2367: False, 2384: False, 1468: False, 1485: False, 1519: False, 1791: False, 2046: False, 2063: False, 2097: False, 2335: False, 2369: False, 2386: False, 1473: False, 1490: False, 1524: False, 1796: False, 2051: False, 2068: False, 2102: False, 2340: False, 2374: False, 2391: False, 1474: False, 1491: False, 1525: False, 1797: False, 2052: False, 2069: False, 2103: False, 2341: False, 2375: False, 2392: False, 1476: False, 1493: False, 1527: False, 1799: False, 2054: False, 2071: False, 2105: False, 2343: False, 2377: False, 2394: False, 1534: False, 1551: False, 1568: False, 1840: False, 1857: False, 1874: False, 2129: False, 2418: False, 2435: False, 1536: False, 1553: False, 1570: False, 1842: False, 1859: False, 1876: False, 2131: False, 2420: False, 2437: False, 1537: False, 1554: False, 1571: False, 1843: False, 1860: False, 1877: False, 2132: False, 2421: False, 2438: False, 1538: False, 1555: False, 1572: False, 1844: False, 1861: False, 1878: False, 2133: False, 2422: False, 2439: False, 1540: False, 1557: False, 1574: False, 1846: False, 1863: False, 1880: False, 2135: False, 2424: False, 2441: False, 1545: False, 1562: False, 1579: False, 1851: False, 1868: False, 1885: False, 2140: False, 2429: False, 2446: False, 1546: False, 1563: False, 1580: False, 1852: False, 1869: False, 1886: False, 2141: False, 2430: False, 2447: False, 1616: False, 1633: False, 1650: False, 1888: False, 1939: False, 2177: False, 2194: False, 2228: False, 2466: False, 2500: False, 1618: False, 1635: False, 1652: False, 1890: False, 1941: False, 2179: False, 2196: False, 2230: False, 2468: False, 2502: False, 1619: False, 1636: False, 1653: False, 1891: False, 1942: False, 2180: False, 2197: False, 2231: False, 2469: False, 2503: False, 1622: False, 1639: False, 1656: False, 1894: False, 1945: False, 2183: False, 2200: False, 2234: False, 2472: False, 2506: False, 1625: False, 1642: False, 1659: False, 1897: False, 1948: False, 2186: False, 2203: False, 2237: False, 2475: False, 2509: False, 1629: False, 1646: False, 1663: False, 1901: False, 1952: False, 2190: False, 2207: False, 2241: False, 2479: False, 2513: False, 1668: False, 1702: False, 1974: False, 1991: False, 2008: False, 2246: False, 2263: False, 2280: False, 2586: False, 1671: False, 1705: False, 1977: False, 1994: False, 2011: False, 2249: False, 2266: False, 2283: False, 2589: False, 1672: False, 1706: False, 1978: False, 1995: False, 2012: False, 2250: False, 2267: False, 2284: False, 2590: False, 1675: False, 1709: False, 1981: False, 1998: False, 2015: False, 2253: False, 2270: False, 2287: False, 2593: False, 1677: False, 1711: False, 1983: False, 2000: False, 2017: False, 2255: False, 2272: False, 2289: False, 2595: False, 1681: False, 1715: False, 1987: False, 2004: False, 2021: False, 2259: False, 2276: False, 2293: False, 2599: False, 1682: False, 1716: False, 1988: False, 2005: False, 2022: False, 2260: False, 2277: False, 2294: False, 2600: False, 2623: False, 2929: False, 2946: False, 2963: False, 3201: False, 3218: False, 3235: False, 3507: False, 3541: False, 2625: False, 2931: False, 2948: False, 2965: False, 3203: False, 3220: False, 3237: False, 3509: False, 3543: False, 2626: False, 2932: False, 2949: False, 2966: False, 3204: False, 3221: False, 3238: False, 3510: False, 3544: False, 2627: False, 2933: False, 2950: False, 2967: False, 3205: False, 3222: False, 3239: False, 3511: False, 3545: False, 2629: False, 2935: False, 2952: False, 2969: False, 3207: False, 3224: False, 3241: False, 3513: False, 3547: False, 2631: False, 2937: False, 2954: False, 2971: False, 3209: False, 3226: False, 3243: False, 3515: False, 3549: False, 2634: False, 2940: False, 2957: False, 2974: False, 3212: False, 3229: False, 3246: False, 3518: False, 3552: False, 2706: False, 2740: False, 2978: False, 3012: False, 3029: False, 3267: False, 3318: False, 3556: False, 3573: False, 3590: False, 2711: False, 2745: False, 2983: False, 3017: False, 3034: False, 3272: False, 3323: False, 3561: False, 3578: False, 3595: False, 2713: False, 2747: False, 2985: False, 3019: False, 3036: False, 3274: False, 3325: False, 3563: False, 3580: False, 3597: False, 2714: False, 2748: False, 2986: False, 3020: False, 3037: False, 3275: False, 3326: False, 3564: False, 3581: False, 3598: False, 2715: False, 2749: False, 2987: False, 3021: False, 3038: False, 3276: False, 3327: False, 3565: False, 3582: False, 3599: False, 2716: False, 2750: False, 2988: False, 3022: False, 3039: False, 3277: False, 3328: False, 3566: False, 3583: False, 3600: False, 2772: False, 2789: False, 3078: False, 3333: False, 3350: False, 3367: False, 3639: False, 3656: False, 3673: False, 2773: False, 2790: False, 3079: False, 3334: False, 3351: False, 3368: False, 3640: False, 3657: False, 3674: False, 2777: False, 2794: False, 3083: False, 3338: False, 3355: False, 3372: False, 3644: False, 3661: False, 3678: False, 2778: False, 2795: False, 3084: False, 3339: False, 3356: False, 3373: False, 3645: False, 3662: False, 3679: False, 2783: False, 2800: False, 3089: False, 3344: False, 3361: False, 3378: False, 3650: False, 3667: False, 3684: False, 2785: False, 2802: False, 3091: False, 3346: False, 3363: False, 3380: False, 3652: False, 3669: False, 3686: False, 2787: False, 2804: False, 3093: False, 3348: False, 3365: False, 3382: False, 3654: False, 3671: False, 3688: False, 2826: False, 2843: False, 2877: False, 3115: False, 3149: False, 3166: False, 3421: False, 3693: False, 3727: False, 3744: False, 2827: False, 2844: False, 2878: False, 3116: False, 3150: False, 3167: False, 3422: False, 3694: False, 3728: False, 3745: False, 2828: False, 2845: False, 2879: False, 3117: False, 3151: False, 3168: False, 3423: False, 3695: False, 3729: False, 3746: False, 2832: False, 2849: False, 2883: False, 3121: False, 3155: False, 3172: False, 3427: False, 3699: False, 3733: False, 3750: False, 2835: False, 2852: False, 2886: False, 3124: False, 3158: False, 3175: False, 3430: False, 3702: False, 3736: False, 3753: False, 2837: False, 2854: False, 2888: False, 3126: False, 3160: False, 3177: False, 3432: False, 3704: False, 3738: False, 3755: False, 3777: False, 3794: False, 3811: False, 3828: False, 4066: False, 4117: False, 4355: False, 4389: False, 4406: False, 4661: False, 4695: False, 3779: False, 3796: False, 3813: False, 3830: False, 4068: False, 4119: False, 4357: False, 4391: False, 4408: False, 4663: False, 4697: False, 3783: False, 3800: False, 3817: False, 3834: False, 4072: False, 4123: False, 4361: False, 4395: False, 4412: False, 4667: False, 4701: False, 3784: False, 3801: False, 3818: False, 3835: False, 4073: False, 4124: False, 4362: False, 4396: False, 4413: False, 4668: False, 4702: False, 3789: False, 3806: False, 3823: False, 3840: False, 4078: False, 4129: False, 4367: False, 4401: False, 4418: False, 4673: False, 4707: False, 3862: False, 3896: False, 4134: False, 4168: False, 4440: False, 4474: False, 4712: False, 4729: False, 4746: False, 4763: False, 3864: False, 3898: False, 4136: False, 4170: False, 4442: False, 4476: False, 4714: False, 4731: False, 4748: False, 4765: False, 3865: False, 3899: False, 4137: False, 4171: False, 4443: False, 4477: False, 4715: False, 4732: False, 4749: False, 4766: False, 3866: False, 3900: False, 4138: False, 4172: False, 4444: False, 4478: False, 4716: False, 4733: False, 4750: False, 4767: False, 3867: False, 3901: False, 4139: False, 4173: False, 4445: False, 4479: False, 4717: False, 4734: False, 4751: False, 4768: False, 3870: False, 3904: False, 4142: False, 4176: False, 4448: False, 4482: False, 4720: False, 4737: False, 4754: False, 4771: False, 3912: False, 4201: False, 4218: False, 4235: False, 4252: False, 4490: False, 4507: False, 4524: False, 4541: False, 4813: False, 3914: False, 4203: False, 4220: False, 4237: False, 4254: False, 4492: False, 4509: False, 4526: False, 4543: False, 4815: False, 3918: False, 4207: False, 4224: False, 4241: False, 4258: False, 4496: False, 4513: False, 4530: False, 4547: False, 4819: False, 3919: False, 4208: False, 4225: False, 4242: False, 4259: False, 4497: False, 4514: False, 4531: False, 4548: False, 4820: False, 3921: False, 4210: False, 4227: False, 4244: False, 4261: False, 4499: False, 4516: False, 4533: False, 4550: False, 4822: False, 3926: False, 4215: False, 4232: False, 4249: False, 4266: False, 4504: False, 4521: False, 4538: False, 4555: False, 4827: False, 3996: False, 4013: False, 4030: False, 4285: False, 4574: False, 4608: False, 4863: False, 4880: False, 3997: False, 4014: False, 4031: False, 4286: False, 4575: False, 4609: False, 4864: False, 4881: False, 4004: False, 4021: False, 4038: False, 4293: False, 4582: False, 4616: False, 4871: False, 4888: False, 4005: False, 4022: False, 4039: False, 4294: False, 4583: False, 4617: False, 4872: False, 4889: False, 4006: False, 4023: False, 4040: False, 4295: False, 4584: False, 4618: False, 4873: False, 4890: False, 4008: False, 4025: False, 4042: False, 4297: False, 4586: False, 4620: False, 4875: False, 4892: False, 4009: False, 4026: False, 4043: False, 4298: False, 4587: False, 4621: False, 4876: False, 4893: False, 4010: False, 4027: False, 4044: False, 4299: False, 4588: False, 4622: False, 4877: False, 4894: False, 392: False, 443: False, 460: False, 477: False, 494: False, 393: False, 444: False, 461: False, 478: False, 495: False, 450: False, 467: False, 484: False, 501: False, 518: False, 552: False, 334: False, 351: False, 453: False, 470: False, 487: False, 504: False, 521: False, 555: False, 403: False, 336: False, 353: False, 338: False, 355: False, 525: False, 559: False, 664: False, 681: False, 698: False, 715: False, 732: False, 766: False, 600: False, 634: False, 668: False, 685: False, 702: False, 719: False, 804: False, 821: False, 855: False, 672: False, 689: False, 706: False, 723: False, 740: False, 774: False, 808: False, 825: False, 859: False, 741: False, 775: False, 608: False, 642: False, 954: False, 971: False, 988: False, 1005: False, 1039: False, 1073: False, 922: False, 956: False, 973: False, 990: False, 1007: False, 1092: False, 1143: False, 925: False, 959: False, 976: False, 993: False, 1010: False, 1095: False, 1146: False, 1045: False, 1079: False, 1096: False, 1147: False, 1047: False, 1081: False, 964: False, 981: False, 998: False, 1015: False, 968: False, 985: False, 1002: False, 1019: False, 1053: False, 1087: False, 1104: False, 1155: False, 1295: False, 1312: False, 1346: False, 1380: False, 1397: False, 1414: False, 1431: False, 1319: False, 1353: False, 1304: False, 1186: False, 1203: False, 1220: False, 1187: False, 1204: False, 1221: False, 1323: False, 1357: False, 1391: False, 1408: False, 1425: False, 1442: False, 1188: False, 1205: False, 1222: False, 1392: False, 1409: False, 1426: False, 1443: False, 1467: False, 1484: False, 1518: False, 1535: False, 1552: False, 1569: False, 1620: False, 1637: False, 1654: False, 1621: False, 1638: False, 1655: False, 1469: False, 1486: False, 1520: False, 1673: False, 1707: False, 1470: False, 1487: False, 1521: False, 1623: False, 1640: False, 1657: False, 1674: False, 1708: False, 1477: False, 1494: False, 1528: False, 1630: False, 1647: False, 1664: False, 1838: False, 1855: False, 1872: False, 1889: False, 1940: False, 1976: False, 1993: False, 2010: False, 1794: False, 1845: False, 1862: False, 1879: False, 1896: False, 1947: False, 1795: False, 1982: False, 1999: False, 2016: False, 1847: False, 1864: False, 1881: False, 1898: False, 1949: False, 1850: False, 1867: False, 1884: False, 1986: False, 2003: False, 2020: False, 1801: False, 1903: False, 1954: False, 2127: False, 2178: False, 2195: False, 2229: False, 2248: False, 2265: False, 2282: False, 2182: False, 2199: False, 2233: False, 2050: False, 2067: False, 2101: False, 2254: False, 2271: False, 2288: False, 2139: False, 2258: False, 2275: False, 2292: False, 2055: False, 2072: False, 2106: False, 2191: False, 2208: False, 2242: False, 2330: False, 2364: False, 2381: False, 2415: False, 2432: False, 2585: False, 2332: False, 2366: False, 2383: False, 2417: False, 2434: False, 2587: False, 2588: False, 2471: False, 2505: False, 2336: False, 2370: False, 2387: False, 2591: False, 2425: False, 2442: False, 2476: False, 2510: False, 2426: False, 2443: False, 2477: False, 2511: False, 2596: False, 2345: False, 2379: False, 2396: False, 2481: False, 2515: False, 2619: False, 2704: False, 2738: False, 2823: False, 2840: False, 2874: False, 2621: False, 2774: False, 2791: False, 2825: False, 2842: False, 2876: False, 2710: False, 2744: False, 2829: False, 2846: False, 2880: False, 2779: False, 2796: False, 2830: False, 2847: False, 2881: False, 2628: False, 2781: False, 2798: False, 2782: False, 2799: False, 2833: False, 2850: False, 2884: False, 2784: False, 2801: False, 2719: False, 2753: False, 2838: False, 2855: False, 2889: False, 2926: False, 2943: False, 2960: False, 2977: False, 3011: False, 3028: False, 3113: False, 3147: False, 3164: False, 2928: False, 2945: False, 2962: False, 2979: False, 3013: False, 3030: False, 3081: False, 2980: False, 3014: False, 3031: False, 3082: False, 2936: False, 2953: False, 2970: False, 3123: False, 3157: False, 3174: False, 3090: False, 2991: False, 3025: False, 3042: False, 3127: False, 3161: False, 3178: False, 3269: False, 3320: False, 3337: False, 3354: False, 3371: False, 3202: False, 3219: False, 3236: False, 3270: False, 3321: False, 3271: False, 3322: False, 3424: False, 3340: False, 3357: False, 3374: False, 3425: False, 3206: False, 3223: False, 3240: False, 3342: False, 3359: False, 3376: False, 3208: False, 3225: False, 3242: False, 3429: False, 3211: False, 3228: False, 3245: False, 3279: False, 3330: False, 3347: False, 3364: False, 3381: False, 3508: False, 3542: False, 3559: False, 3576: False, 3593: False, 3562: False, 3579: False, 3596: False, 3647: False, 3664: False, 3681: False, 3698: False, 3732: False, 3749: False, 3649: False, 3666: False, 3683: False, 3700: False, 3734: False, 3751: False, 3651: False, 3668: False, 3685: False, 3516: False, 3550: False, 3567: False, 3584: False, 3601: False, 3703: False, 3737: False, 3754: False, 3776: False, 3793: False, 3810: False, 3827: False, 3861: False, 3895: False, 3780: False, 3797: False, 3814: False, 3831: False, 3916: False, 4001: False, 4018: False, 4035: False, 3782: False, 3799: False, 3816: False, 3833: False, 4003: False, 4020: False, 4037: False, 3868: False, 3902: False, 3785: False, 3802: False, 3819: False, 3836: False, 3790: False, 3807: False, 3824: False, 3841: False, 3875: False, 3909: False, 4011: False, 4028: False, 4045: False, 4065: False, 4116: False, 4133: False, 4167: False, 4202: False, 4219: False, 4236: False, 4253: False, 4287: False, 4204: False, 4221: False, 4238: False, 4255: False, 4289: False, 4070: False, 4121: False, 4206: False, 4223: False, 4240: False, 4257: False, 4291: False, 4140: False, 4174: False, 4076: False, 4127: False, 4144: False, 4178: False, 4212: False, 4229: False, 4246: False, 4263: False, 4146: False, 4180: False, 4214: False, 4231: False, 4248: False, 4265: False, 4493: False, 4510: False, 4527: False, 4544: False, 4578: False, 4612: False, 4446: False, 4480: False, 4447: False, 4481: False, 4498: False, 4515: False, 4532: False, 4549: False, 4363: False, 4397: False, 4414: False, 4366: False, 4400: False, 4417: False, 4451: False, 4485: False, 4502: False, 4519: False, 4536: False, 4553: False, 4659: False, 4693: False, 4710: False, 4727: False, 4744: False, 4761: False, 4812: False, 4814: False, 4865: False, 4882: False, 4662: False, 4696: False, 4713: False, 4730: False, 4747: False, 4764: False, 4866: False, 4883: False, 4666: False, 4700: False, 4870: False, 4887: False, 4719: False, 4736: False, 4753: False, 4770: False, 4821: False, 4669: False, 4703: False, 4724: False, 4741: False, 4758: False, 4775: False, 4826: False, 2620: False, 3198: False, 4354: False, 1178: False, 2045: False, 2334: False, 1472: False, 2339: False, 1475: False, 2053: False, 2342: False, 3787: False, 4365: False, 609: False, 2632: False, 3210: False, 3788: False, 4077: False, 1478: False, 2056: False, 4079: False, 4368: False, 2065: False, 1488: False, 2066: False, 1489: False, 2934: False, 3512: False, 1201: False, 3514: False, 3803: False, 4670: False, 2939: False, 3517: False, 1495: False, 2073: False, 4674: False, 1788: False, 2944: False, 3233: False, 344: False, 633: False, 1211: False, 3234: False, 3812: False, 4390: False, 345: False, 923: False, 1212: False, 1790: False, 2368: False, 346: False, 635: False, 924: False, 1213: False, 2947: False, 4392: False, 1793: False, 2371: False, 4394: False, 2372: False, 1514: False, 2092: False, 2959: False, 3537: False, 3826: False, 4115: False, 4404: False, 3538: False, 4405: False, 4694: False, 1516: False, 2094: False, 2961: False, 3539: False, 2098: False, 3832: False, 4410: False, 4699: False, 1522: False, 2100: False, 2389: False, 4125: False, 3548: False, 3837: False, 4126: False, 4415: False, 4704: False, 667: False, 3268: False, 3557: False, 4135: False, 957: False, 3558: False, 4141: False, 1541: False, 1544: False, 2989: False, 3278: False, 4145: False, 4723: False, 2990: False, 3568: False, 679: False, 3280: False, 3569: False, 4147: False, 4725: False, 398: False, 687: False, 3577: False, 3869: False, 1560: False, 1849: False, 2138: False, 2427: False, 3872: False, 4450: False, 4739: False, 700: False, 989: False, 1567: False, 1856: False, 703: False, 992: False, 3015: False, 4175: False, 1575: False, 709: False, 1576: False, 1865: False, 4177: False, 4755: False, 1577: False, 1866: False, 2444: False, 4756: False, 717: False, 1006: False, 1873: False, 720: False, 1009: False, 1298: False, 2743: False, 3032: False, 721: False, 1299: False, 3033: False, 2752: False, 3041: False, 3908: False, 4486: False, 1310: False, 3911: False, 4200: False, 4489: False, 3336: False, 3917: False, 4495: False, 739: False, 1317: False, 1895: False, 2184: False, 2473: False, 456: False, 745: False, 3924: False, 4213: False, 458: False, 747: False, 1325: False, 2192: False, 1038: False, 4217: False, 4506: False, 2198: False, 2776: False, 3643: False, 468: False, 1046: False, 1624: False, 2202: False, 2780: False, 3358: False, 469: False, 3648: False, 4226: False, 1048: False, 1626: False, 2204: False, 3360: False, 1627: False, 2205: False, 4228: False, 4517: False, 2786: False, 3653: False, 4520: False, 767: False, 1345: False, 1634: False, 2501: False, 2792: False, 3370: False, 3659: False, 4529: False, 4818: False, 490: False, 779: False, 4247: False, 4825: False, 1651: False, 496: False, 1074: False, 3675: False, 4542: False, 3676: False, 499: False, 1077: False, 1944: False, 4256: False, 4545: False, 4546: False, 1661: False, 1950: False, 2239: False, 4262: False, 4551: False, 1662: False, 1951: False, 2240: False, 4552: False, 509: False, 1665: False, 2243: False, 1667: False, 2245: False, 3112: False, 3690: False, 2824: False, 3691: False, 515: False, 1093: False, 1382: False, 519: False, 1097: False, 1386: False, 2831: False, 3120: False, 1676: False, 810: False, 1099: False, 1388: False, 3122: False, 526: False, 815: False, 1393: False, 3705: False, 820: False, 1398: False, 3999: False, 4288: False, 4577: False, 822: False, 1400: False, 4290: False, 4579: False, 4868: False, 827: False, 1405: False, 3428: False, 1985: False, 2274: False, 831: False, 1701: False, 1990: False, 2279: False, 3146: False, 3724: False, 3725: False, 550: False, 1417: False, 4885: False, 553: False, 1420: False, 3154: False, 1713: False, 2002: False, 2291: False, 558: False, 1714: False, 3159: False, 2875: False, 3742: False, 1144: False, 1433: False, 4034: False, 2594: False, 2018: False, 2885: False, 3752: False, 4041: False, 4619: False, 2019: False, 2597: False, 865: False, 1154: False, 931: True, 1617: True, 1710: True, 4402: True, 4512: True, 3903: True, 4074: True, 2630: True, 2775: True, 1893: True, 4613: True, 929: False, 932: False, 933: False, 1798: False, 2376: False, 3821: False, 4399: False, 1628: False, 1631: False, 2467: False, 1532: False, 1549: False, 1566: False, 1703: False, 1704: False, 1712: False, 1523: False, 4387: False, 4388: False, 4393: False, 4398: False, 4130: False, 4419: False, 4708: False, 4453: False, 4487: False, 4589: False, 4623: False, 4508: False, 4511: False, 4518: False, 4359: False, 4580: False, 4614: False, 3894: False, 3897: False, 3905: False, 3906: False, 3907: False, 3920: False, 4064: False, 4067: False, 4069: False, 4071: False, 4075: False, 606: False, 1184: False, 2622: False, 2624: False, 2633: False, 2834: False, 2851: False, 3786: False, 4364: False, 3353: False, 3642: False, 2707: False, 2741: False, 1892: False, 1899: False, 1900: False, 1902: False, 448: False, 737: False, 1315: False, 4205: False, 4494: False, 4610: False, 4611: False, 4615: False, 4358: False, 4409: False, 4528: False, 856: False, 1145: False, 1434: False, 1103: True, 1670: True, 4660: True, 3232: True, 3820: True, 2709: True, 2836: True, 1883: True, 1091: False, 1094: False, 1102: False, 814: False, 1669: False, 1678: False, 1679: False, 1680: False, 514: False, 803: False, 1381: False, 4664: False, 4665: False, 4671: False, 4672: False, 4711: False, 4728: False, 4745: False, 4762: False, 3215: False, 3504: False, 3231: False, 3244: False, 3266: False, 3317: False, 3419: False, 3809: False, 3815: False, 3822: False, 3871: False, 3922: False, 4007: False, 4024: False, 2705: False, 2708: False, 2712: False, 2717: False, 2718: False, 2981: False, 397: False, 686: False, 975: False, 2853: False, 2887: False, 3125: False, 3176: False, 3431: False, 2751: False, 524: False, 813: False, 1871: False, 1875: False, 1882: False, 1543: False, 4484: False, 4773: False, 2257: True, 2598: True, 2841: True, 2803: True, 2882: True, 830: True, 4722: True, 2247: False, 2251: False, 2252: False, 2256: False, 2070: False, 2104: False, 2189: False, 2206: False, 2592: False, 2428: False, 2445: False, 864: False, 1153: False, 2848: False, 2739: False, 2793: False, 2797: False, 3092: False, 3670: False, 3687: False, 2514: False, 4537: False, 3171: False, 3426: False, 2746: False, 1148: False, 1437: False, 819: False, 823: False, 824: False, 832: False, 643: False, 4718: False, 4721: False, 4705: False, 4824: False, 3701: True, 3362: True, 2742: True, 1403: True, 3692: False, 3696: False, 3697: False, 3735: False, 3352: False, 3345: False, 3379: False, 3575: False, 3592: False, 1008: False, 1297: False, 1399: False, 1401: False, 1402: False, 1410: False, 1301: False, 1318: False, 1352: False, 2060: False, 2058: False, 4475: True, 4472: False, 4473: False, 4483: False, 3863: False, 4169: False, 4441: False, 4356: False, 4407: False, 718: False, 1296: False, 3319: False, 4439: True, 4118: True, 4438: False, 4449: False, 4452: False, 682: False, 2416: False, 3572: False, 4120: False, 4122: False, 4128: False, 3778: False, 3795: False, 3829: False, 3540: False, 3874: True, 2433: True, 4698: True, 4292: True, 3860: False, 3873: False, 3925: False, 3585: False, 2436: False, 2440: False, 699: False, 3589: False, 4706: False, 4817: False, 2964: False, 4296: False, 4300: False, 4581: False, 1980: False, 2269: False, 3555: True, 2930: True, 4181: True, 3554: False, 3560: False, 665: False, 2925: False, 2927: False, 2938: False, 329: False, 1196: False, 4166: False, 4179: False, 4742: False, 4759: False, 4776: False, 713: False, 3603: False, 4132: True, 4143: False, 4234: False, 4251: False, 953: False, 1531: False, 2976: False, 3265: False, 3273: True, 2984: False, 3018: False, 3035: False, 3324: False, 3341: False, 3375: False, 961: False, 1539: False, 2982: True, 3086: True, 3016: False, 3594: False, 3118: False, 3152: False, 3169: False, 670: False, 3080: False, 3085: False, 3087: False, 3088: False, 485: False, 1641: False, 2508: False, 704: True, 701: False, 602: False, 636: False, 806: False, 857: False, 3591: True, 3588: False, 3602: False, 3574: False, 3506: False, 3024: True, 3551: True, 3010: False, 3023: False, 2956: False, 2973: False, 3546: False, 2395: False, 2373: True, 2378: False, 2390: False, 2951: False, 2968: True, 2972: False, 3839: True, 3838: False, 3805: False, 2048: False, 2049: False, 548: False, 4891: False, 4740: True, 4735: False, 4738: False, 4757: False, 4774: False, 1561: False, 4772: True, 4752: True, 1578: True, 4769: False, 4823: False, 4874: False, 726: False, 995: False, 1573: False, 1565: False, 1012: True, 4816: True, 4585: True, 1004: False, 400: False, 978: False, 1080: False, 3915: False, 4867: False, 4884: False, 2504: False, 3660: False, 4576: False, 4500: False, 4534: False, 1984: False, 2273: False, 4000: True, 3677: True, 3998: False, 4002: False, 4017: False, 3680: False, 3682: False, 1943: False, 2232: False, 3665: True, 3658: False, 3663: False, 486: False, 4243: False, 3646: True, 3641: False, 3731: False, 3748: False, 2201: False, 2209: True, 1648: False, 2107: False, 475: False, 1529: True, 1526: False, 2047: False, 2238: False, 2062: False, 2064: True, 1792: False, 2268: False, 2285: False, 330: False, 1197: False, 3798: False, 3781: True, 3775: False, 4019: False, 4036: False, 1180: False, 3792: True, 3804: False, 4353: False, 1480: False, 3214: False, 3503: False, 4416: True, 3923: True, 1492: True, 4360: True, 3505: True, 4411: False, 4501: False, 4535: False, 2393: False, 3913: False, 2478: False, 1482: False, 1645: False, 2337: False, 3199: False, 3216: False, 3726: False, 3743: False, 2512: True, 2507: False, 2388: True, 2385: False, 2099: False, 2096: True, 2130: False, 2181: False, 2470: True, 2474: False, 2480: False, 2419: False, 1953: True, 2344: True, 4503: True, 2423: True, 1946: False, 1800: False, 4554: False, 2338: False, 610: False, 4491: False, 1556: False, 2134: False, 2235: True, 1786: True, 644: True, 4540: True, 1471: True, 4525: True, 2236: False, 2286: False, 1463: False, 2041: False, 1837: False, 1854: False, 1973: False, 2007: False, 2942: False, 640: False, 4523: False, 1072: False, 1465: False, 1658: False, 479: False, 768: False, 3369: False, 2185: True, 1548: True, 2043: True, 3197: True, 1858: True, 987: True, 2262: True, 2955: True, 1218: True, 1344: True, 1660: True, 502: True, 3377: True, 3335: True, 2187: False, 2188: False, 451: False, 1550: False, 1558: False, 1559: False, 2126: False, 970: False, 3571: False, 2128: False, 2264: False, 2281: False, 3200: False, 3316: False, 3418: False, 1841: False, 991: False, 1293: False, 3227: False, 3040: False, 354: False, 1214: False, 1320: False, 1354: False, 1422: False, 1439: False, 1349: False, 1351: False, 1359: False, 1643: False, 1082: False, 503: False, 507: False, 3343: False, 776: False, 3420: False, 445: False, 734: False, 2136: True, 1644: True, 4211: True, 1533: True, 3586: True, 3741: True, 2290: True, 3217: True, 3027: True, 974: True, 3329: True, 337: True, 347: True, 1311: True, 3156: True, 773: True, 1085: True, 1150: True, 452: True, 4260: True, 742: True, 3433: True, 1975: True, 2137: False, 1542: False, 4245: False, 4209: False, 1839: False, 666: False, 955: False, 3331: False, 3739: False, 3756: False, 407: False, 696: False, 3747: False, 3163: False, 2001: False, 327: False, 1194: False, 972: False, 396: False, 328: False, 473: False, 517: False, 551: False, 733: False, 1294: False, 3148: False, 3153: False, 3173: False, 771: False, 781: False, 807: False, 858: False, 1051: False, 4264: False, 1142: False, 861: False, 4878: False, 1979: False, 1992: False, 2009: False, 1848: True, 675: True, 4239: True, 958: True, 3730: True, 395: True, 1195: True, 549: True, 1384: True, 716: True, 1308: True, 492: True, 4230: True, 1040: True, 4869: True, 4895: True, 692: False, 669: False, 4222: False, 482: False, 1043: False, 1418: False, 1996: False, 4886: False, 394: False, 684: False, 1416: False, 547: False, 560: False, 1383: False, 1385: False, 1435: False, 730: False, 1427: False, 1444: False, 462: False, 465: True, 1997: True, 2013: True, 683: True, 4015: True, 1179: True, 3119: True, 866: True, 513: True, 516: False, 2014: False, 1419: False, 802: False, 853: False, 4016: False, 4032: False, 1177: False, 601: False, 3114: False, 3170: False, 854: False, 805: True, 1415: True, 1436: True, 4033: True, 3165: True, 599: True, 1432: False}\n",
      "puzzle:      [[2, 0, 0, 1, 11, 0, 8, 15, 0, 0, 0, 0, 0, 13, 0, 12], [0, 10, 0, 9, 0, 0, 0, 0, 0, 5, 0, 13, 0, 0, 1, 0], [16, 8, 0, 12, 0, 0, 0, 0, 4, 0, 7, 0, 0, 10, 2, 0], [0, 0, 0, 3, 14, 10, 13, 0, 0, 15, 0, 12, 0, 0, 0, 0], [0, 0, 6, 0, 0, 0, 0, 8, 7, 0, 0, 0, 0, 15, 0, 5], [14, 11, 0, 2, 16, 0, 0, 0, 0, 10, 4, 0, 9, 0, 0, 0], [0, 0, 4, 0, 15, 0, 10, 6, 0, 0, 14, 0, 0, 0, 0, 2], [0, 12, 0, 0, 4, 0, 0, 7, 0, 1, 0, 3, 16, 11, 6, 0], [0, 16, 8, 11, 10, 0, 3, 0, 1, 0, 0, 7, 0, 0, 13, 0], [5, 0, 0, 0, 0, 13, 0, 0, 16, 12, 0, 2, 0, 4, 0, 0], [0, 0, 0, 7, 0, 8, 12, 0, 0, 0, 0, 6, 5, 0, 15, 10], [13, 0, 9, 0, 0, 0, 0, 11, 14, 0, 0, 0, 0, 6, 0, 0], [0, 0, 0, 0, 8, 0, 6, 0, 0, 9, 2, 16, 11, 0, 0, 0], [0, 15, 5, 0, 0, 7, 0, 3, 0, 0, 0, 0, 2, 0, 9, 13], [0, 9, 0, 0, 5, 0, 11, 0, 0, 0, 0, 0, 10, 0, 14, 0], [10, 0, 3, 0, 0, 0, 0, 0, 8, 11, 0, 4, 1, 0, 0, 15]]\n",
      "solution:    [[2, 14, 7, 1, 11, 4, 8, 15, 10, 6, 16, 9, 3, 13, 5, 12], [4, 10, 15, 9, 12, 3, 7, 2, 11, 5, 8, 13, 6, 14, 1, 16], [16, 8, 13, 12, 6, 5, 1, 9, 4, 3, 7, 14, 15, 10, 2, 11], [6, 5, 11, 3, 14, 10, 13, 16, 2, 15, 1, 12, 7, 9, 4, 8], [9, 13, 6, 16, 3, 1, 14, 8, 7, 2, 12, 11, 4, 15, 10, 5], [14, 11, 1, 2, 16, 12, 5, 13, 6, 10, 4, 15, 9, 3, 8, 7], [3, 7, 4, 5, 15, 11, 10, 6, 9, 16, 14, 8, 13, 1, 12, 2], [15, 12, 10, 8, 4, 9, 2, 7, 5, 1, 13, 3, 16, 11, 6, 14], [12, 16, 8, 11, 10, 6, 3, 5, 1, 4, 15, 7, 14, 2, 13, 9], [5, 6, 14, 10, 7, 13, 15, 1, 16, 12, 9, 2, 8, 4, 11, 3], [1, 4, 2, 7, 9, 8, 12, 14, 3, 13, 11, 6, 5, 16, 15, 10], [13, 3, 9, 15, 2, 16, 4, 11, 14, 8, 10, 5, 12, 6, 7, 1], [7, 1, 12, 14, 8, 15, 6, 10, 13, 9, 2, 16, 11, 5, 3, 4], [11, 15, 5, 4, 1, 7, 16, 3, 12, 14, 6, 10, 2, 8, 9, 13], [8, 9, 16, 13, 5, 2, 11, 4, 15, 7, 3, 1, 10, 12, 14, 6], [10, 2, 3, 6, 13, 14, 9, 12, 8, 11, 5, 4, 1, 7, 16, 15]]\n",
      "[2, 14, 7, 1, 11, 4, 8, 15, 10, 6, 16, 9, 3, 13, 5, 12]\n",
      "[4, 10, 15, 9, 12, 3, 7, 2, 11, 5, 8, 13, 6, 14, 1, 16]\n",
      "[16, 8, 13, 12, 6, 5, 1, 9, 4, 3, 7, 14, 15, 10, 2, 11]\n",
      "[6, 5, 11, 3, 14, 10, 13, 16, 2, 15, 1, 12, 7, 9, 4, 8]\n",
      "[9, 13, 6, 16, 3, 1, 14, 8, 7, 2, 12, 11, 4, 15, 10, 5]\n",
      "[14, 11, 1, 2, 16, 12, 5, 13, 6, 10, 4, 15, 9, 3, 8, 7]\n",
      "[3, 7, 4, 5, 15, 11, 10, 6, 9, 16, 14, 8, 13, 1, 12, 2]\n",
      "[15, 12, 10, 8, 4, 9, 2, 7, 5, 1, 13, 3, 16, 11, 6, 14]\n",
      "[12, 16, 8, 11, 10, 6, 3, 5, 1, 4, 15, 7, 14, 2, 13, 9]\n",
      "[5, 6, 14, 10, 7, 13, 15, 1, 16, 12, 9, 2, 8, 4, 11, 3]\n",
      "[1, 4, 2, 7, 9, 8, 12, 14, 3, 13, 11, 6, 5, 16, 15, 10]\n",
      "[13, 3, 9, 15, 2, 16, 4, 11, 14, 8, 10, 5, 12, 6, 7, 1]\n",
      "[7, 1, 12, 14, 8, 15, 6, 10, 13, 9, 2, 16, 11, 5, 3, 4]\n",
      "[11, 15, 5, 4, 1, 7, 16, 3, 12, 14, 6, 10, 2, 8, 9, 13]\n",
      "[8, 9, 16, 13, 5, 2, 11, 4, 15, 7, 3, 1, 10, 12, 14, 6]\n",
      "[10, 2, 3, 6, 13, 14, 9, 12, 8, 11, 5, 4, 1, 7, 16, 15]\n"
     ]
    }
   ],
   "source": [
    "# Load the Sudoku rules and the puzzle\n",
    "filename = './sudoku/sudoku-rules-16x16.txt'\n",
    "rules = load_rules(filename)\n",
    "# print(rules)\n",
    "\n",
    "# Load the puzzles from the file and select the second puzzle (index 1)\n",
    "puzzles, size = load_sudoku('./sudoku/16x16.txt')\n",
    "puzzle = puzzles[9]\n",
    "print(puzzle)\n",
    "\n",
    "# Solve the Sudoku puzzle\n",
    "solution = solve_sudoku(rules, puzzle, size, schedulere='split')\n",
    "\n",
    "print('puzzle:     ', puzzle)\n",
    "print('solution:   ', solution)\n",
    "\n",
    "# If a solution is found, print the solved Sudoku grid\n",
    "if solution:\n",
    "    for row in solution:\n",
    "        print(row)\n",
    "        if 0 in row:\n",
    "            print(\"PANIEK\")\n",
    "else:\n",
    "    print(\"No solution found\")\n",
    "    # 263 385 517 566 647\n",
    "    \n",
    "# solution:    [[1, 16, 13, 11, 12, 2, 3, 4, 9, 10, 5, 8, 6, 14, 15, 7], [4, 14, 6, 10, 5, 7, 15, 8, 1, 2, 3, 12, 11, 13, 9, 16], [5, 2, 12, 7, 6, 9, 16, 11, 15, 13, 14, 4, 10, 1, 8, 3], [3, 9, 15, 8, 1, 10, 14, 13, 7, 6, 16, 11, 2, 4, 12, 5], [9, 4, 2, 6, 13, 3, 1, 15, 10, 16, 11, 14, 5, 8, 7, 12], [8, 12, 7, 14, 11, 6, 9, 5, 4, 15, 1, 2, 16, 3, 10, 13], [16, 15, 1, 13, 14, 4, 7, 10, 5, 12, 8, 3, 9, 11, 2, 6], [11, 3, 10, 5, 16, 8, 12, 2, 6, 9, 13, 7, 14, 15, 1, 4], [2, 6, 3, 16, 4, 1, 8, 14, 11, 5, 7, 15, 12, 10, 13, 9], [7, 11, 14, 1, 3, 12, 10, 16, 2, 4, 9, 13, 8, 6, 5, 15], [15, 8, 5, 9, 7, 13, 11, 6, 12, 3, 10, 16, 4, 2, 14, 1], [10, 13, 4, 12, 15, 5, 2, 9, 8, 14, 6, 1, 7, 16, 3, 11], [14, 1, 9, 4, 10, 16, 6, 3, 13, 8, 12, 5, 15, 7, 11, 2], [13, 7, 8, 15, 9, 14, 5, 1, 16, 11, 2, 6, 3, 12, 4, 10], [12, 10, 16, 3, 2, 11, 4, 7, 14, 1, 15, 9, 13, 5, 6, 8], [6, 5, 11, 2, 8, 15, 13, 12, 3, 7, 4, 10, 1, 9, 16, 14]]\n"
   ]
  }
 ],
 "metadata": {
  "kernelspec": {
   "display_name": "CUT",
   "language": "python",
   "name": "python3"
  },
  "language_info": {
   "codemirror_mode": {
    "name": "ipython",
    "version": 3
   },
   "file_extension": ".py",
   "mimetype": "text/x-python",
   "name": "python",
   "nbconvert_exporter": "python",
   "pygments_lexer": "ipython3",
   "version": "3.12.3"
  }
 },
 "nbformat": 4,
 "nbformat_minor": 4
}
