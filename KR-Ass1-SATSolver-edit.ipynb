{
 "cells": [
  {
   "cell_type": "markdown",
   "metadata": {},
   "source": [
    "# SAT Solver Assignment\n",
    "Group 69<br>\n",
    "**Knowledge Representation**<br>\n",
    "November 2024"
   ]
  },
  {
   "cell_type": "markdown",
   "metadata": {},
   "source": [
    "****\n",
    "\n",
    "## Preperations\n",
    "\n",
    "*Everything we need to have before we can build the SAT Solver.*\n",
    "\n",
    "**Imports** - Use this cell for all imports."
   ]
  },
  {
   "cell_type": "code",
   "execution_count": 101,
   "metadata": {},
   "outputs": [],
   "source": [
    "# import modules\n",
    "import math\n",
    "from tqdm import tqdm"
   ]
  },
  {
   "cell_type": "markdown",
   "metadata": {},
   "source": [
    "**Data** - Import the needed data. The data needs to be in DIMACS format. Each clause in DIMACS CNF consists of:\n",
    "\n",
    "- A series of positive or negative literals (numbers) that represent a Boolean variable or its negation.\n",
    "- Each clause ends with 0.\n",
    "- Each variable in DIMACS CNF is a positive integer, with unique integers representing each Boolean variable.\n",
    "\n",
    "For Sudoku, we use a triplet `(r, c, n)`:\n",
    "- `r` for the row (1 to 9)\n",
    "- `c` for the column (1 to 9)\n",
    "- `n` for the number (1 to 9)"
   ]
  },
  {
   "cell_type": "code",
   "execution_count": 102,
   "metadata": {},
   "outputs": [],
   "source": [
    "# Geeft een file met 91 sudoku's terug, sudokus[0] is de eerste sudoku met len(sudokus[0]) == 81 (9x9=81 karakters)\n",
    "with open('./top91.sdk.txt') as f:\n",
    "    sudokus = f.read().splitlines()"
   ]
  },
  {
   "cell_type": "markdown",
   "metadata": {},
   "source": [
    "*You are free to choose any programming language you fancy, but we must be able to run your SAT solver with the command SAT -Sn inputfile , for example: SAT -S2 sudoku_nr_10 , where SAT is the (compulsory) name of your program, n=1 for the basic DP and n=2 or 3 for your two other strategies, and the input file is the concatenation of all required input clauses (in your case: sudoku rules + given puzzle).*"
   ]
  },
  {
   "cell_type": "markdown",
   "metadata": {},
   "source": [
    "****\n",
    "\n",
    "## Part 1 - Building the SAT Solver"
   ]
  },
  {
   "cell_type": "markdown",
   "metadata": {},
   "source": [
    "**The Rules of Sudoku**\n",
    "1. Each number (1-9) must appear exactly once in each row.\n",
    "2. Each number must appear exactly once in each column.\n",
    "3. Each number must appear exactly once in each 3x3 subgrid.\n",
    "\n",
    "**The Data of Sudoku in DIMACS**"
   ]
  },
  {
   "cell_type": "code",
   "execution_count": 103,
   "metadata": {},
   "outputs": [],
   "source": [
    "def load_rules(filename: str) -> list[list[int]]:\n",
    "    with open(filename) as f:\n",
    "        raw_rules = f.read().splitlines()\n",
    "\n",
    "    rules = [list(map(int, clause.split()))[:-1] for clause in raw_rules[1:]]\n",
    "    return rules\n",
    "\n",
    "def load_sudoku(filename: str) -> list[list[list[int | str]]]:\n",
    "    with open(filename) as f:\n",
    "        sudoku = f.read().splitlines()\n",
    "\n",
    "    puzzles: list[list[list[int | str]]] = []\n",
    "    \n",
    "    puzzledim: int = math.sqrt(len(sudoku[0]))\n",
    "    assert puzzledim.is_integer(), \"The sudoku is not square\"\n",
    "    puzzledim = int(puzzledim)\n",
    "\n",
    "    for puzzle in sudoku:\n",
    "        newpuzzle = []\n",
    "        for r in range(puzzledim):\n",
    "            row = []\n",
    "            for c in range(puzzledim):\n",
    "                val = puzzle[r * puzzledim + c]\n",
    "                val = int(val) if val != '.' else 0 # convert to int if we know the value\n",
    "                row.append(val)\n",
    "            newpuzzle.append(row)\n",
    "        puzzles.append(newpuzzle)\n",
    "    return puzzles"
   ]
  },
  {
   "cell_type": "markdown",
   "metadata": {},
   "source": [
    "**Functions to Assign Obvious Values** - Fill in the single and pure literal clauses."
   ]
  },
  {
   "cell_type": "code",
   "execution_count": 104,
   "metadata": {},
   "outputs": [],
   "source": [
    "def single_literal(clauses: list[list[int]], assignment: dict[int, bool]) -> list[list[int]] | None:\n",
    "    while any(len(clause) == 1 for clause in clauses):\n",
    "        new_clauses = []\n",
    "        for clause in clauses:\n",
    "            if len(clause) != 1:\n",
    "                new_clauses.append(clause)\n",
    "                continue\n",
    "            \n",
    "            literal = clause[0]\n",
    "            assignment[abs(literal)] = literal > 0\n",
    "            # Remove satisfied clauses and update remaining clauses\n",
    "            for c in clauses:\n",
    "                if literal in c:\n",
    "                    continue\n",
    "                updated_clause = [l for l in c if l != -literal]\n",
    "                if not updated_clause:\n",
    "                    return None  # conflict (empty clause found)\n",
    "                new_clauses.append(updated_clause)\n",
    "            clauses = new_clauses\n",
    "            break\n",
    "    return clauses\n",
    "\n",
    "def pure_literal(clauses: list[list[int]], assignment: dict[int, bool]) -> list[list[int]]:\n",
    "    while True:\n",
    "        literals = {lit for clause in clauses for lit in clause}\n",
    "        pure_literals = [l for l in literals if -l not in literals]\n",
    "        if not pure_literals:\n",
    "            break\n",
    "        for literal in pure_literals:\n",
    "            assignment[abs(literal)] = literal > 0\n",
    "            # Remove all clauses containing this pure literal\n",
    "            clauses = [clause for clause in clauses if literal not in clause]\n",
    "    return clauses"
   ]
  },
  {
   "cell_type": "markdown",
   "metadata": {},
   "source": [
    "**DPLL Algorithm** - DPLL recursive algorithm function,  without heuristics, to perform the fucntions above and recursively gives values to literals."
   ]
  },
  {
   "cell_type": "code",
   "execution_count": 105,
   "metadata": {},
   "outputs": [],
   "source": [
    "def print_ass(assignment: dict) -> None:\n",
    "    for key in assignment.keys():\n",
    "        dimac = key if assignment[key] else -key\n",
    "        print(dimac, end=' ')\n",
    "    print('')\n",
    "\n",
    "def dpll(clauses: list[list[int]], assignment: dict[int, bool], pbar, history: list[int] = [0]) -> dict[int, bool] | None:\n",
    "    print(\"Start DPLL\", history)\n",
    "    print(print_ass(assignment))\n",
    "    \n",
    "    clauses = single_literal(clauses, assignment)\n",
    "    if clauses is None:\n",
    "        return None  # conflict\n",
    "    if not clauses:\n",
    "        return assignment  # all clauses satisfied\n",
    "\n",
    "    clauses = pure_literal(clauses, assignment)\n",
    "    if not clauses:\n",
    "        return assignment  # all clauses satisfied\n",
    "\n",
    "    # Select an unassigned literal\n",
    "    literal = next((lit for clause in clauses for lit in clause if abs(lit) not in assignment), None)\n",
    "    if literal is None:\n",
    "        return assignment  # assignment is complete\n",
    "\n",
    "    # Update progress bar\n",
    "    pbar.update(1)\n",
    "\n",
    "    # Check both true and false assignments\n",
    "    for booly in [True, False]:\n",
    "        updated_assignment = assignment.copy()\n",
    "        updated_assignment[abs(literal)] = booly\n",
    "        # Generate new clauses based on the current choice\n",
    "        updated_clauses = [c for c in clauses if (literal if booly else -literal) not in c]\n",
    "        \n",
    "        result = dpll(updated_clauses, updated_assignment, pbar, history + [literal if booly else -literal])\n",
    "        if result:  # If a satisfying assignment is found\n",
    "            return result\n",
    "\n",
    "    return None"
   ]
  },
  {
   "cell_type": "markdown",
   "metadata": {},
   "source": [
    "*give (2)+(3) as input to (1) and return the solution to the given puzzle. This output should again be a DIMACS file, but containing only the truth assignment to all variables (729 for Sudoku, different for other SAT problems). If your input file is called 'filename', then make sure your outputfile is called 'filename.out'. If there is no solution (inconsistent problem), the output can be an empty file. If there are multiple solutions (eg. non-proper Sudoku) you only need to return a single solution.*"
   ]
  },
  {
   "cell_type": "markdown",
   "metadata": {},
   "source": [
    "**Heuristics** - Two different heuristics of our choice"
   ]
  },
  {
   "cell_type": "code",
   "execution_count": 106,
   "metadata": {},
   "outputs": [],
   "source": [
    "# heuristic one"
   ]
  },
  {
   "cell_type": "code",
   "execution_count": 107,
   "metadata": {},
   "outputs": [],
   "source": [
    "# heuristic two"
   ]
  },
  {
   "cell_type": "markdown",
   "metadata": {},
   "source": [
    "**SAT Solver** - Solves the Sudoku\n",
    "\n",
    "Extra information about the code:\n",
    "Each cell in a Sudoku puzzle can be represented by a unique variable based on its row, column, and possible number. The encoding formula for each variable is:\n",
    "\n",
    "`variable=(i+1)×100+(j+1)×10+value`<br>\n",
    "\n",
    "where:<br>\n",
    "\n",
    "`i is the row index (0 to 8)`<br>\n",
    "`j is the column index (0 to 8)`<br>\n",
    "`value is the number in the cell (1 to 9)`<br>\n",
    "\n",
    "This formula converts each cell and its possible values into unique numbers by combining the row, column, and value in a single integer. For example, if a cell at row 0, column 0 can be a 5, the encoded variable would be:<br>\n",
    "\n",
    "`variable=(0+1)×100+(0+1)×10+5=115`<br>"
   ]
  },
  {
   "cell_type": "code",
   "execution_count": 108,
   "metadata": {},
   "outputs": [],
   "source": [
    "def solve_sudoku(rules: list[list[int]], puzzle: list[list[int]], size: int) -> list[list[int]] | None:\n",
    "    \"\"\"\n",
    "    Solves a Sudoku puzzle using given rules and an initial puzzle setup.\n",
    "\n",
    "    Args:\n",
    "        rules (list[list[int]]): A list of rules in CNF form for Sudoku constraints.\n",
    "        puzzle (list[list[int]]): A 9x9 grid representing the puzzle, with `0` for empty cells.\n",
    "        size (int): The size of the Sudoku puzzle (e.g. 9 for a 9x9 puzzle).\n",
    "\n",
    "    Returns:\n",
    "        list[list[int]] | None: A solved 9x9 Sudoku grid if a solution exists, otherwise None.\n",
    "    \"\"\"\n",
    "    assignment = {} # the sudoku\n",
    "    amt_unknown = 0\n",
    "    for i, row in enumerate(puzzle):\n",
    "        for j, value in enumerate(row):\n",
    "            if value != 0:  # if 0, cell is empty, if not 0, it is a pre-filled cell\n",
    "                # Make the value in row i, column j True if it is the value from the sudoku, all other numbers in that place False\n",
    "                assignment[(i + 1) * 100 + (j + 1) * 10 + value] = True\n",
    "                for k in range(1, size+1):\n",
    "                    if k != value:\n",
    "                        assignment[(i + 1) * 100 + (j + 1) * 10 + k] = False\n",
    "                    \n",
    "            else:\n",
    "                amt_unknown += 1\n",
    "    print(assignment)\n",
    "    with tqdm(total=amt_unknown * size,desc='Trying to find logic solution') as pbar:\n",
    "        solution = dpll(rules, assignment, pbar)\n",
    "    if not solution:\n",
    "        return None\n",
    "    \n",
    "    # parse the solution back to a 9x9 grid\n",
    "    result = [[0] * 9 for _ in range(9)]\n",
    "    for var, value in solution.items():\n",
    "        if value:\n",
    "            i = (var // 100) - 1\n",
    "            j = ((var // 10) % 10) - 1\n",
    "            num = var % 10\n",
    "            result[i][j] = num\n",
    "    return result"
   ]
  },
  {
   "cell_type": "markdown",
   "metadata": {},
   "source": [
    "**Test Sudoku** - Try and see if it works"
   ]
  },
  {
   "cell_type": "code",
   "execution_count": 109,
   "metadata": {},
   "outputs": [
    {
     "data": {
      "text/plain": [
       "[[1, 2, 3, 4], [3, 4, 1, 0], [2, 1, 4, 3], [4, 3, 0, 1]]"
      ]
     },
     "execution_count": 109,
     "metadata": {},
     "output_type": "execute_result"
    }
   ],
   "source": [
    "load_sudoku('./4x4_easy.txt')[1]"
   ]
  },
  {
   "cell_type": "code",
   "execution_count": 110,
   "metadata": {},
   "outputs": [
    {
     "name": "stdout",
     "output_type": "stream",
     "text": [
      "[[9, 8, 4, 5, 2, 7, 3, 1, 6], [5, 2, 7, 1, 6, 3, 8, 4, 9], [6, 1, 3, 8, 9, 4, 7, 5, 2], [1, 6, 2, 9, 4, 8, 5, 3, 7], [7, 5, 8, 3, 1, 6, 2, 9, 4], [3, 4, 9, 7, 5, 2, 6, 8, 1], [0, 9, 1, 2, 7, 5, 4, 6, 3], [4, 7, 5, 6, 3, 9, 1, 2, 8], [2, 3, 6, 4, 8, 1, 9, 7, 5]]\n",
      "{119: True, 111: False, 112: False, 113: False, 114: False, 115: False, 116: False, 117: False, 118: False, 128: True, 121: False, 122: False, 123: False, 124: False, 125: False, 126: False, 127: False, 129: False, 134: True, 131: False, 132: False, 133: False, 135: False, 136: False, 137: False, 138: False, 139: False, 145: True, 141: False, 142: False, 143: False, 144: False, 146: False, 147: False, 148: False, 149: False, 152: True, 151: False, 153: False, 154: False, 155: False, 156: False, 157: False, 158: False, 159: False, 167: True, 161: False, 162: False, 163: False, 164: False, 165: False, 166: False, 168: False, 169: False, 173: True, 171: False, 172: False, 174: False, 175: False, 176: False, 177: False, 178: False, 179: False, 181: True, 182: False, 183: False, 184: False, 185: False, 186: False, 187: False, 188: False, 189: False, 196: True, 191: False, 192: False, 193: False, 194: False, 195: False, 197: False, 198: False, 199: False, 215: True, 211: False, 212: False, 213: False, 214: False, 216: False, 217: False, 218: False, 219: False, 222: True, 221: False, 223: False, 224: False, 225: False, 226: False, 227: False, 228: False, 229: False, 237: True, 231: False, 232: False, 233: False, 234: False, 235: False, 236: False, 238: False, 239: False, 241: True, 242: False, 243: False, 244: False, 245: False, 246: False, 247: False, 248: False, 249: False, 256: True, 251: False, 252: False, 253: False, 254: False, 255: False, 257: False, 258: False, 259: False, 263: True, 261: False, 262: False, 264: False, 265: False, 266: False, 267: False, 268: False, 269: False, 278: True, 271: False, 272: False, 273: False, 274: False, 275: False, 276: False, 277: False, 279: False, 284: True, 281: False, 282: False, 283: False, 285: False, 286: False, 287: False, 288: False, 289: False, 299: True, 291: False, 292: False, 293: False, 294: False, 295: False, 296: False, 297: False, 298: False, 316: True, 311: False, 312: False, 313: False, 314: False, 315: False, 317: False, 318: False, 319: False, 321: True, 322: False, 323: False, 324: False, 325: False, 326: False, 327: False, 328: False, 329: False, 333: True, 331: False, 332: False, 334: False, 335: False, 336: False, 337: False, 338: False, 339: False, 348: True, 341: False, 342: False, 343: False, 344: False, 345: False, 346: False, 347: False, 349: False, 359: True, 351: False, 352: False, 353: False, 354: False, 355: False, 356: False, 357: False, 358: False, 364: True, 361: False, 362: False, 363: False, 365: False, 366: False, 367: False, 368: False, 369: False, 377: True, 371: False, 372: False, 373: False, 374: False, 375: False, 376: False, 378: False, 379: False, 385: True, 381: False, 382: False, 383: False, 384: False, 386: False, 387: False, 388: False, 389: False, 392: True, 391: False, 393: False, 394: False, 395: False, 396: False, 397: False, 398: False, 399: False, 411: True, 412: False, 413: False, 414: False, 415: False, 416: False, 417: False, 418: False, 419: False, 426: True, 421: False, 422: False, 423: False, 424: False, 425: False, 427: False, 428: False, 429: False, 432: True, 431: False, 433: False, 434: False, 435: False, 436: False, 437: False, 438: False, 439: False, 449: True, 441: False, 442: False, 443: False, 444: False, 445: False, 446: False, 447: False, 448: False, 454: True, 451: False, 452: False, 453: False, 455: False, 456: False, 457: False, 458: False, 459: False, 468: True, 461: False, 462: False, 463: False, 464: False, 465: False, 466: False, 467: False, 469: False, 475: True, 471: False, 472: False, 473: False, 474: False, 476: False, 477: False, 478: False, 479: False, 483: True, 481: False, 482: False, 484: False, 485: False, 486: False, 487: False, 488: False, 489: False, 497: True, 491: False, 492: False, 493: False, 494: False, 495: False, 496: False, 498: False, 499: False, 517: True, 511: False, 512: False, 513: False, 514: False, 515: False, 516: False, 518: False, 519: False, 525: True, 521: False, 522: False, 523: False, 524: False, 526: False, 527: False, 528: False, 529: False, 538: True, 531: False, 532: False, 533: False, 534: False, 535: False, 536: False, 537: False, 539: False, 543: True, 541: False, 542: False, 544: False, 545: False, 546: False, 547: False, 548: False, 549: False, 551: True, 552: False, 553: False, 554: False, 555: False, 556: False, 557: False, 558: False, 559: False, 566: True, 561: False, 562: False, 563: False, 564: False, 565: False, 567: False, 568: False, 569: False, 572: True, 571: False, 573: False, 574: False, 575: False, 576: False, 577: False, 578: False, 579: False, 589: True, 581: False, 582: False, 583: False, 584: False, 585: False, 586: False, 587: False, 588: False, 594: True, 591: False, 592: False, 593: False, 595: False, 596: False, 597: False, 598: False, 599: False, 613: True, 611: False, 612: False, 614: False, 615: False, 616: False, 617: False, 618: False, 619: False, 624: True, 621: False, 622: False, 623: False, 625: False, 626: False, 627: False, 628: False, 629: False, 639: True, 631: False, 632: False, 633: False, 634: False, 635: False, 636: False, 637: False, 638: False, 647: True, 641: False, 642: False, 643: False, 644: False, 645: False, 646: False, 648: False, 649: False, 655: True, 651: False, 652: False, 653: False, 654: False, 656: False, 657: False, 658: False, 659: False, 662: True, 661: False, 663: False, 664: False, 665: False, 666: False, 667: False, 668: False, 669: False, 676: True, 671: False, 672: False, 673: False, 674: False, 675: False, 677: False, 678: False, 679: False, 688: True, 681: False, 682: False, 683: False, 684: False, 685: False, 686: False, 687: False, 689: False, 691: True, 692: False, 693: False, 694: False, 695: False, 696: False, 697: False, 698: False, 699: False, 729: True, 721: False, 722: False, 723: False, 724: False, 725: False, 726: False, 727: False, 728: False, 731: True, 732: False, 733: False, 734: False, 735: False, 736: False, 737: False, 738: False, 739: False, 742: True, 741: False, 743: False, 744: False, 745: False, 746: False, 747: False, 748: False, 749: False, 757: True, 751: False, 752: False, 753: False, 754: False, 755: False, 756: False, 758: False, 759: False, 765: True, 761: False, 762: False, 763: False, 764: False, 766: False, 767: False, 768: False, 769: False, 774: True, 771: False, 772: False, 773: False, 775: False, 776: False, 777: False, 778: False, 779: False, 786: True, 781: False, 782: False, 783: False, 784: False, 785: False, 787: False, 788: False, 789: False, 793: True, 791: False, 792: False, 794: False, 795: False, 796: False, 797: False, 798: False, 799: False, 814: True, 811: False, 812: False, 813: False, 815: False, 816: False, 817: False, 818: False, 819: False, 827: True, 821: False, 822: False, 823: False, 824: False, 825: False, 826: False, 828: False, 829: False, 835: True, 831: False, 832: False, 833: False, 834: False, 836: False, 837: False, 838: False, 839: False, 846: True, 841: False, 842: False, 843: False, 844: False, 845: False, 847: False, 848: False, 849: False, 853: True, 851: False, 852: False, 854: False, 855: False, 856: False, 857: False, 858: False, 859: False, 869: True, 861: False, 862: False, 863: False, 864: False, 865: False, 866: False, 867: False, 868: False, 871: True, 872: False, 873: False, 874: False, 875: False, 876: False, 877: False, 878: False, 879: False, 882: True, 881: False, 883: False, 884: False, 885: False, 886: False, 887: False, 888: False, 889: False, 898: True, 891: False, 892: False, 893: False, 894: False, 895: False, 896: False, 897: False, 899: False, 912: True, 911: False, 913: False, 914: False, 915: False, 916: False, 917: False, 918: False, 919: False, 923: True, 921: False, 922: False, 924: False, 925: False, 926: False, 927: False, 928: False, 929: False, 936: True, 931: False, 932: False, 933: False, 934: False, 935: False, 937: False, 938: False, 939: False, 944: True, 941: False, 942: False, 943: False, 945: False, 946: False, 947: False, 948: False, 949: False, 958: True, 951: False, 952: False, 953: False, 954: False, 955: False, 956: False, 957: False, 959: False, 961: True, 962: False, 963: False, 964: False, 965: False, 966: False, 967: False, 968: False, 969: False, 979: True, 971: False, 972: False, 973: False, 974: False, 975: False, 976: False, 977: False, 978: False, 987: True, 981: False, 982: False, 983: False, 984: False, 985: False, 986: False, 988: False, 989: False, 995: True, 991: False, 992: False, 993: False, 994: False, 996: False, 997: False, 998: False, 999: False}\n"
     ]
    },
    {
     "name": "stderr",
     "output_type": "stream",
     "text": [
      "Trying to find logic solution:   0%|          | 0/9 [00:00<?, ?it/s]"
     ]
    },
    {
     "name": "stderr",
     "output_type": "stream",
     "text": [
      "Trying to find logic solution: 100%|██████████| 9/9 [00:00<00:00, 87.71it/s]"
     ]
    },
    {
     "name": "stdout",
     "output_type": "stream",
     "text": [
      "Start DPLL [0]\n",
      "119 -111 -112 -113 -114 -115 -116 -117 -118 128 -121 -122 -123 -124 -125 -126 -127 -129 134 -131 -132 -133 -135 -136 -137 -138 -139 145 -141 -142 -143 -144 -146 -147 -148 -149 152 -151 -153 -154 -155 -156 -157 -158 -159 167 -161 -162 -163 -164 -165 -166 -168 -169 173 -171 -172 -174 -175 -176 -177 -178 -179 181 -182 -183 -184 -185 -186 -187 -188 -189 196 -191 -192 -193 -194 -195 -197 -198 -199 215 -211 -212 -213 -214 -216 -217 -218 -219 222 -221 -223 -224 -225 -226 -227 -228 -229 237 -231 -232 -233 -234 -235 -236 -238 -239 241 -242 -243 -244 -245 -246 -247 -248 -249 256 -251 -252 -253 -254 -255 -257 -258 -259 263 -261 -262 -264 -265 -266 -267 -268 -269 278 -271 -272 -273 -274 -275 -276 -277 -279 284 -281 -282 -283 -285 -286 -287 -288 -289 299 -291 -292 -293 -294 -295 -296 -297 -298 316 -311 -312 -313 -314 -315 -317 -318 -319 321 -322 -323 -324 -325 -326 -327 -328 -329 333 -331 -332 -334 -335 -336 -337 -338 -339 348 -341 -342 -343 -344 -345 -346 -347 -349 359 -351 -352 -353 -354 -355 -356 -357 -358 364 -361 -362 -363 -365 -366 -367 -368 -369 377 -371 -372 -373 -374 -375 -376 -378 -379 385 -381 -382 -383 -384 -386 -387 -388 -389 392 -391 -393 -394 -395 -396 -397 -398 -399 411 -412 -413 -414 -415 -416 -417 -418 -419 426 -421 -422 -423 -424 -425 -427 -428 -429 432 -431 -433 -434 -435 -436 -437 -438 -439 449 -441 -442 -443 -444 -445 -446 -447 -448 454 -451 -452 -453 -455 -456 -457 -458 -459 468 -461 -462 -463 -464 -465 -466 -467 -469 475 -471 -472 -473 -474 -476 -477 -478 -479 483 -481 -482 -484 -485 -486 -487 -488 -489 497 -491 -492 -493 -494 -495 -496 -498 -499 517 -511 -512 -513 -514 -515 -516 -518 -519 525 -521 -522 -523 -524 -526 -527 -528 -529 538 -531 -532 -533 -534 -535 -536 -537 -539 543 -541 -542 -544 -545 -546 -547 -548 -549 551 -552 -553 -554 -555 -556 -557 -558 -559 566 -561 -562 -563 -564 -565 -567 -568 -569 572 -571 -573 -574 -575 -576 -577 -578 -579 589 -581 -582 -583 -584 -585 -586 -587 -588 594 -591 -592 -593 -595 -596 -597 -598 -599 613 -611 -612 -614 -615 -616 -617 -618 -619 624 -621 -622 -623 -625 -626 -627 -628 -629 639 -631 -632 -633 -634 -635 -636 -637 -638 647 -641 -642 -643 -644 -645 -646 -648 -649 655 -651 -652 -653 -654 -656 -657 -658 -659 662 -661 -663 -664 -665 -666 -667 -668 -669 676 -671 -672 -673 -674 -675 -677 -678 -679 688 -681 -682 -683 -684 -685 -686 -687 -689 691 -692 -693 -694 -695 -696 -697 -698 -699 729 -721 -722 -723 -724 -725 -726 -727 -728 731 -732 -733 -734 -735 -736 -737 -738 -739 742 -741 -743 -744 -745 -746 -747 -748 -749 757 -751 -752 -753 -754 -755 -756 -758 -759 765 -761 -762 -763 -764 -766 -767 -768 -769 774 -771 -772 -773 -775 -776 -777 -778 -779 786 -781 -782 -783 -784 -785 -787 -788 -789 793 -791 -792 -794 -795 -796 -797 -798 -799 814 -811 -812 -813 -815 -816 -817 -818 -819 827 -821 -822 -823 -824 -825 -826 -828 -829 835 -831 -832 -833 -834 -836 -837 -838 -839 846 -841 -842 -843 -844 -845 -847 -848 -849 853 -851 -852 -854 -855 -856 -857 -858 -859 869 -861 -862 -863 -864 -865 -866 -867 -868 871 -872 -873 -874 -875 -876 -877 -878 -879 882 -881 -883 -884 -885 -886 -887 -888 -889 898 -891 -892 -893 -894 -895 -896 -897 -899 912 -911 -913 -914 -915 -916 -917 -918 -919 923 -921 -922 -924 -925 -926 -927 -928 -929 936 -931 -932 -933 -934 -935 -937 -938 -939 944 -941 -942 -943 -945 -946 -947 -948 -949 958 -951 -952 -953 -954 -955 -956 -957 -959 961 -962 -963 -964 -965 -966 -967 -968 -969 979 -971 -972 -973 -974 -975 -976 -977 -978 987 -981 -982 -983 -984 -985 -986 -988 -989 995 -991 -992 -993 -994 -996 -997 -998 -999 \n",
      "None\n",
      "Start DPLL [0, 711]\n",
      "119 -111 -112 -113 -114 -115 -116 -117 -118 128 -121 -122 -123 -124 -125 -126 -127 -129 134 -131 -132 -133 -135 -136 -137 -138 -139 145 -141 -142 -143 -144 -146 -147 -148 -149 152 -151 -153 -154 -155 -156 -157 -158 -159 167 -161 -162 -163 -164 -165 -166 -168 -169 173 -171 -172 -174 -175 -176 -177 -178 -179 181 -182 -183 -184 -185 -186 -187 -188 -189 196 -191 -192 -193 -194 -195 -197 -198 -199 215 -211 -212 -213 -214 -216 -217 -218 -219 222 -221 -223 -224 -225 -226 -227 -228 -229 237 -231 -232 -233 -234 -235 -236 -238 -239 241 -242 -243 -244 -245 -246 -247 -248 -249 256 -251 -252 -253 -254 -255 -257 -258 -259 263 -261 -262 -264 -265 -266 -267 -268 -269 278 -271 -272 -273 -274 -275 -276 -277 -279 284 -281 -282 -283 -285 -286 -287 -288 -289 299 -291 -292 -293 -294 -295 -296 -297 -298 316 -311 -312 -313 -314 -315 -317 -318 -319 321 -322 -323 -324 -325 -326 -327 -328 -329 333 -331 -332 -334 -335 -336 -337 -338 -339 348 -341 -342 -343 -344 -345 -346 -347 -349 359 -351 -352 -353 -354 -355 -356 -357 -358 364 -361 -362 -363 -365 -366 -367 -368 -369 377 -371 -372 -373 -374 -375 -376 -378 -379 385 -381 -382 -383 -384 -386 -387 -388 -389 392 -391 -393 -394 -395 -396 -397 -398 -399 411 -412 -413 -414 -415 -416 -417 -418 -419 426 -421 -422 -423 -424 -425 -427 -428 -429 432 -431 -433 -434 -435 -436 -437 -438 -439 449 -441 -442 -443 -444 -445 -446 -447 -448 454 -451 -452 -453 -455 -456 -457 -458 -459 468 -461 -462 -463 -464 -465 -466 -467 -469 475 -471 -472 -473 -474 -476 -477 -478 -479 483 -481 -482 -484 -485 -486 -487 -488 -489 497 -491 -492 -493 -494 -495 -496 -498 -499 517 -511 -512 -513 -514 -515 -516 -518 -519 525 -521 -522 -523 -524 -526 -527 -528 -529 538 -531 -532 -533 -534 -535 -536 -537 -539 543 -541 -542 -544 -545 -546 -547 -548 -549 551 -552 -553 -554 -555 -556 -557 -558 -559 566 -561 -562 -563 -564 -565 -567 -568 -569 572 -571 -573 -574 -575 -576 -577 -578 -579 589 -581 -582 -583 -584 -585 -586 -587 -588 594 -591 -592 -593 -595 -596 -597 -598 -599 613 -611 -612 -614 -615 -616 -617 -618 -619 624 -621 -622 -623 -625 -626 -627 -628 -629 639 -631 -632 -633 -634 -635 -636 -637 -638 647 -641 -642 -643 -644 -645 -646 -648 -649 655 -651 -652 -653 -654 -656 -657 -658 -659 662 -661 -663 -664 -665 -666 -667 -668 -669 676 -671 -672 -673 -674 -675 -677 -678 -679 688 -681 -682 -683 -684 -685 -686 -687 -689 691 -692 -693 -694 -695 -696 -697 -698 -699 729 -721 -722 -723 -724 -725 -726 -727 -728 731 -732 -733 -734 -735 -736 -737 -738 -739 742 -741 -743 -744 -745 -746 -747 -748 -749 757 -751 -752 -753 -754 -755 -756 -758 -759 765 -761 -762 -763 -764 -766 -767 -768 -769 774 -771 -772 -773 -775 -776 -777 -778 -779 786 -781 -782 -783 -784 -785 -787 -788 -789 793 -791 -792 -794 -795 -796 -797 -798 -799 814 -811 -812 -813 -815 -816 -817 -818 -819 827 -821 -822 -823 -824 -825 -826 -828 -829 835 -831 -832 -833 -834 -836 -837 -838 -839 846 -841 -842 -843 -844 -845 -847 -848 -849 853 -851 -852 -854 -855 -856 -857 -858 -859 869 -861 -862 -863 -864 -865 -866 -867 -868 871 -872 -873 -874 -875 -876 -877 -878 -879 882 -881 -883 -884 -885 -886 -887 -888 -889 898 -891 -892 -893 -894 -895 -896 -897 -899 912 -911 -913 -914 -915 -916 -917 -918 -919 923 -921 -922 -924 -925 -926 -927 -928 -929 936 -931 -932 -933 -934 -935 -937 -938 -939 944 -941 -942 -943 -945 -946 -947 -948 -949 958 -951 -952 -953 -954 -955 -956 -957 -959 961 -962 -963 -964 -965 -966 -967 -968 -969 979 -971 -972 -973 -974 -975 -976 -977 -978 987 -981 -982 -983 -984 -985 -986 -988 -989 995 -991 -992 -993 -994 -996 -997 -998 -999 711 \n",
      "None\n",
      "Start DPLL [0, 711, -712]\n",
      "119 -111 -112 -113 -114 -115 -116 -117 -118 128 -121 -122 -123 -124 -125 -126 -127 -129 134 -131 -132 -133 -135 -136 -137 -138 -139 145 -141 -142 -143 -144 -146 -147 -148 -149 152 -151 -153 -154 -155 -156 -157 -158 -159 167 -161 -162 -163 -164 -165 -166 -168 -169 173 -171 -172 -174 -175 -176 -177 -178 -179 181 -182 -183 -184 -185 -186 -187 -188 -189 196 -191 -192 -193 -194 -195 -197 -198 -199 215 -211 -212 -213 -214 -216 -217 -218 -219 222 -221 -223 -224 -225 -226 -227 -228 -229 237 -231 -232 -233 -234 -235 -236 -238 -239 241 -242 -243 -244 -245 -246 -247 -248 -249 256 -251 -252 -253 -254 -255 -257 -258 -259 263 -261 -262 -264 -265 -266 -267 -268 -269 278 -271 -272 -273 -274 -275 -276 -277 -279 284 -281 -282 -283 -285 -286 -287 -288 -289 299 -291 -292 -293 -294 -295 -296 -297 -298 316 -311 -312 -313 -314 -315 -317 -318 -319 321 -322 -323 -324 -325 -326 -327 -328 -329 333 -331 -332 -334 -335 -336 -337 -338 -339 348 -341 -342 -343 -344 -345 -346 -347 -349 359 -351 -352 -353 -354 -355 -356 -357 -358 364 -361 -362 -363 -365 -366 -367 -368 -369 377 -371 -372 -373 -374 -375 -376 -378 -379 385 -381 -382 -383 -384 -386 -387 -388 -389 392 -391 -393 -394 -395 -396 -397 -398 -399 411 -412 -413 -414 -415 -416 -417 -418 -419 426 -421 -422 -423 -424 -425 -427 -428 -429 432 -431 -433 -434 -435 -436 -437 -438 -439 449 -441 -442 -443 -444 -445 -446 -447 -448 454 -451 -452 -453 -455 -456 -457 -458 -459 468 -461 -462 -463 -464 -465 -466 -467 -469 475 -471 -472 -473 -474 -476 -477 -478 -479 483 -481 -482 -484 -485 -486 -487 -488 -489 497 -491 -492 -493 -494 -495 -496 -498 -499 517 -511 -512 -513 -514 -515 -516 -518 -519 525 -521 -522 -523 -524 -526 -527 -528 -529 538 -531 -532 -533 -534 -535 -536 -537 -539 543 -541 -542 -544 -545 -546 -547 -548 -549 551 -552 -553 -554 -555 -556 -557 -558 -559 566 -561 -562 -563 -564 -565 -567 -568 -569 572 -571 -573 -574 -575 -576 -577 -578 -579 589 -581 -582 -583 -584 -585 -586 -587 -588 594 -591 -592 -593 -595 -596 -597 -598 -599 613 -611 -612 -614 -615 -616 -617 -618 -619 624 -621 -622 -623 -625 -626 -627 -628 -629 639 -631 -632 -633 -634 -635 -636 -637 -638 647 -641 -642 -643 -644 -645 -646 -648 -649 655 -651 -652 -653 -654 -656 -657 -658 -659 662 -661 -663 -664 -665 -666 -667 -668 -669 676 -671 -672 -673 -674 -675 -677 -678 -679 688 -681 -682 -683 -684 -685 -686 -687 -689 691 -692 -693 -694 -695 -696 -697 -698 -699 729 -721 -722 -723 -724 -725 -726 -727 -728 731 -732 -733 -734 -735 -736 -737 -738 -739 742 -741 -743 -744 -745 -746 -747 -748 -749 757 -751 -752 -753 -754 -755 -756 -758 -759 765 -761 -762 -763 -764 -766 -767 -768 -769 774 -771 -772 -773 -775 -776 -777 -778 -779 786 -781 -782 -783 -784 -785 -787 -788 -789 793 -791 -792 -794 -795 -796 -797 -798 -799 814 -811 -812 -813 -815 -816 -817 -818 -819 827 -821 -822 -823 -824 -825 -826 -828 -829 835 -831 -832 -833 -834 -836 -837 -838 -839 846 -841 -842 -843 -844 -845 -847 -848 -849 853 -851 -852 -854 -855 -856 -857 -858 -859 869 -861 -862 -863 -864 -865 -866 -867 -868 871 -872 -873 -874 -875 -876 -877 -878 -879 882 -881 -883 -884 -885 -886 -887 -888 -889 898 -891 -892 -893 -894 -895 -896 -897 -899 912 -911 -913 -914 -915 -916 -917 -918 -919 923 -921 -922 -924 -925 -926 -927 -928 -929 936 -931 -932 -933 -934 -935 -937 -938 -939 944 -941 -942 -943 -945 -946 -947 -948 -949 958 -951 -952 -953 -954 -955 -956 -957 -959 961 -962 -963 -964 -965 -966 -967 -968 -969 979 -971 -972 -973 -974 -975 -976 -977 -978 987 -981 -982 -983 -984 -985 -986 -988 -989 995 -991 -992 -993 -994 -996 -997 -998 -999 -711 712 \n",
      "None\n",
      "Start DPLL [0, 711, -712, -713]\n",
      "119 -111 -112 -113 -114 -115 -116 -117 -118 128 -121 -122 -123 -124 -125 -126 -127 -129 134 -131 -132 -133 -135 -136 -137 -138 -139 145 -141 -142 -143 -144 -146 -147 -148 -149 152 -151 -153 -154 -155 -156 -157 -158 -159 167 -161 -162 -163 -164 -165 -166 -168 -169 173 -171 -172 -174 -175 -176 -177 -178 -179 181 -182 -183 -184 -185 -186 -187 -188 -189 196 -191 -192 -193 -194 -195 -197 -198 -199 215 -211 -212 -213 -214 -216 -217 -218 -219 222 -221 -223 -224 -225 -226 -227 -228 -229 237 -231 -232 -233 -234 -235 -236 -238 -239 241 -242 -243 -244 -245 -246 -247 -248 -249 256 -251 -252 -253 -254 -255 -257 -258 -259 263 -261 -262 -264 -265 -266 -267 -268 -269 278 -271 -272 -273 -274 -275 -276 -277 -279 284 -281 -282 -283 -285 -286 -287 -288 -289 299 -291 -292 -293 -294 -295 -296 -297 -298 316 -311 -312 -313 -314 -315 -317 -318 -319 321 -322 -323 -324 -325 -326 -327 -328 -329 333 -331 -332 -334 -335 -336 -337 -338 -339 348 -341 -342 -343 -344 -345 -346 -347 -349 359 -351 -352 -353 -354 -355 -356 -357 -358 364 -361 -362 -363 -365 -366 -367 -368 -369 377 -371 -372 -373 -374 -375 -376 -378 -379 385 -381 -382 -383 -384 -386 -387 -388 -389 392 -391 -393 -394 -395 -396 -397 -398 -399 411 -412 -413 -414 -415 -416 -417 -418 -419 426 -421 -422 -423 -424 -425 -427 -428 -429 432 -431 -433 -434 -435 -436 -437 -438 -439 449 -441 -442 -443 -444 -445 -446 -447 -448 454 -451 -452 -453 -455 -456 -457 -458 -459 468 -461 -462 -463 -464 -465 -466 -467 -469 475 -471 -472 -473 -474 -476 -477 -478 -479 483 -481 -482 -484 -485 -486 -487 -488 -489 497 -491 -492 -493 -494 -495 -496 -498 -499 517 -511 -512 -513 -514 -515 -516 -518 -519 525 -521 -522 -523 -524 -526 -527 -528 -529 538 -531 -532 -533 -534 -535 -536 -537 -539 543 -541 -542 -544 -545 -546 -547 -548 -549 551 -552 -553 -554 -555 -556 -557 -558 -559 566 -561 -562 -563 -564 -565 -567 -568 -569 572 -571 -573 -574 -575 -576 -577 -578 -579 589 -581 -582 -583 -584 -585 -586 -587 -588 594 -591 -592 -593 -595 -596 -597 -598 -599 613 -611 -612 -614 -615 -616 -617 -618 -619 624 -621 -622 -623 -625 -626 -627 -628 -629 639 -631 -632 -633 -634 -635 -636 -637 -638 647 -641 -642 -643 -644 -645 -646 -648 -649 655 -651 -652 -653 -654 -656 -657 -658 -659 662 -661 -663 -664 -665 -666 -667 -668 -669 676 -671 -672 -673 -674 -675 -677 -678 -679 688 -681 -682 -683 -684 -685 -686 -687 -689 691 -692 -693 -694 -695 -696 -697 -698 -699 729 -721 -722 -723 -724 -725 -726 -727 -728 731 -732 -733 -734 -735 -736 -737 -738 -739 742 -741 -743 -744 -745 -746 -747 -748 -749 757 -751 -752 -753 -754 -755 -756 -758 -759 765 -761 -762 -763 -764 -766 -767 -768 -769 774 -771 -772 -773 -775 -776 -777 -778 -779 786 -781 -782 -783 -784 -785 -787 -788 -789 793 -791 -792 -794 -795 -796 -797 -798 -799 814 -811 -812 -813 -815 -816 -817 -818 -819 827 -821 -822 -823 -824 -825 -826 -828 -829 835 -831 -832 -833 -834 -836 -837 -838 -839 846 -841 -842 -843 -844 -845 -847 -848 -849 853 -851 -852 -854 -855 -856 -857 -858 -859 869 -861 -862 -863 -864 -865 -866 -867 -868 871 -872 -873 -874 -875 -876 -877 -878 -879 882 -881 -883 -884 -885 -886 -887 -888 -889 898 -891 -892 -893 -894 -895 -896 -897 -899 912 -911 -913 -914 -915 -916 -917 -918 -919 923 -921 -922 -924 -925 -926 -927 -928 -929 936 -931 -932 -933 -934 -935 -937 -938 -939 944 -941 -942 -943 -945 -946 -947 -948 -949 958 -951 -952 -953 -954 -955 -956 -957 -959 961 -962 -963 -964 -965 -966 -967 -968 -969 979 -971 -972 -973 -974 -975 -976 -977 -978 987 -981 -982 -983 -984 -985 -986 -988 -989 995 -991 -992 -993 -994 -996 -997 -998 -999 -711 712 713 \n",
      "None\n",
      "Start DPLL [0, 711, -712, -713, -714]\n",
      "119 -111 -112 -113 -114 -115 -116 -117 -118 128 -121 -122 -123 -124 -125 -126 -127 -129 134 -131 -132 -133 -135 -136 -137 -138 -139 145 -141 -142 -143 -144 -146 -147 -148 -149 152 -151 -153 -154 -155 -156 -157 -158 -159 167 -161 -162 -163 -164 -165 -166 -168 -169 173 -171 -172 -174 -175 -176 -177 -178 -179 181 -182 -183 -184 -185 -186 -187 -188 -189 196 -191 -192 -193 -194 -195 -197 -198 -199 215 -211 -212 -213 -214 -216 -217 -218 -219 222 -221 -223 -224 -225 -226 -227 -228 -229 237 -231 -232 -233 -234 -235 -236 -238 -239 241 -242 -243 -244 -245 -246 -247 -248 -249 256 -251 -252 -253 -254 -255 -257 -258 -259 263 -261 -262 -264 -265 -266 -267 -268 -269 278 -271 -272 -273 -274 -275 -276 -277 -279 284 -281 -282 -283 -285 -286 -287 -288 -289 299 -291 -292 -293 -294 -295 -296 -297 -298 316 -311 -312 -313 -314 -315 -317 -318 -319 321 -322 -323 -324 -325 -326 -327 -328 -329 333 -331 -332 -334 -335 -336 -337 -338 -339 348 -341 -342 -343 -344 -345 -346 -347 -349 359 -351 -352 -353 -354 -355 -356 -357 -358 364 -361 -362 -363 -365 -366 -367 -368 -369 377 -371 -372 -373 -374 -375 -376 -378 -379 385 -381 -382 -383 -384 -386 -387 -388 -389 392 -391 -393 -394 -395 -396 -397 -398 -399 411 -412 -413 -414 -415 -416 -417 -418 -419 426 -421 -422 -423 -424 -425 -427 -428 -429 432 -431 -433 -434 -435 -436 -437 -438 -439 449 -441 -442 -443 -444 -445 -446 -447 -448 454 -451 -452 -453 -455 -456 -457 -458 -459 468 -461 -462 -463 -464 -465 -466 -467 -469 475 -471 -472 -473 -474 -476 -477 -478 -479 483 -481 -482 -484 -485 -486 -487 -488 -489 497 -491 -492 -493 -494 -495 -496 -498 -499 517 -511 -512 -513 -514 -515 -516 -518 -519 525 -521 -522 -523 -524 -526 -527 -528 -529 538 -531 -532 -533 -534 -535 -536 -537 -539 543 -541 -542 -544 -545 -546 -547 -548 -549 551 -552 -553 -554 -555 -556 -557 -558 -559 566 -561 -562 -563 -564 -565 -567 -568 -569 572 -571 -573 -574 -575 -576 -577 -578 -579 589 -581 -582 -583 -584 -585 -586 -587 -588 594 -591 -592 -593 -595 -596 -597 -598 -599 613 -611 -612 -614 -615 -616 -617 -618 -619 624 -621 -622 -623 -625 -626 -627 -628 -629 639 -631 -632 -633 -634 -635 -636 -637 -638 647 -641 -642 -643 -644 -645 -646 -648 -649 655 -651 -652 -653 -654 -656 -657 -658 -659 662 -661 -663 -664 -665 -666 -667 -668 -669 676 -671 -672 -673 -674 -675 -677 -678 -679 688 -681 -682 -683 -684 -685 -686 -687 -689 691 -692 -693 -694 -695 -696 -697 -698 -699 729 -721 -722 -723 -724 -725 -726 -727 -728 731 -732 -733 -734 -735 -736 -737 -738 -739 742 -741 -743 -744 -745 -746 -747 -748 -749 757 -751 -752 -753 -754 -755 -756 -758 -759 765 -761 -762 -763 -764 -766 -767 -768 -769 774 -771 -772 -773 -775 -776 -777 -778 -779 786 -781 -782 -783 -784 -785 -787 -788 -789 793 -791 -792 -794 -795 -796 -797 -798 -799 814 -811 -812 -813 -815 -816 -817 -818 -819 827 -821 -822 -823 -824 -825 -826 -828 -829 835 -831 -832 -833 -834 -836 -837 -838 -839 846 -841 -842 -843 -844 -845 -847 -848 -849 853 -851 -852 -854 -855 -856 -857 -858 -859 869 -861 -862 -863 -864 -865 -866 -867 -868 871 -872 -873 -874 -875 -876 -877 -878 -879 882 -881 -883 -884 -885 -886 -887 -888 -889 898 -891 -892 -893 -894 -895 -896 -897 -899 912 -911 -913 -914 -915 -916 -917 -918 -919 923 -921 -922 -924 -925 -926 -927 -928 -929 936 -931 -932 -933 -934 -935 -937 -938 -939 944 -941 -942 -943 -945 -946 -947 -948 -949 958 -951 -952 -953 -954 -955 -956 -957 -959 961 -962 -963 -964 -965 -966 -967 -968 -969 979 -971 -972 -973 -974 -975 -976 -977 -978 987 -981 -982 -983 -984 -985 -986 -988 -989 995 -991 -992 -993 -994 -996 -997 -998 -999 -711 712 713 714 \n",
      "None\n",
      "Start DPLL [0, 711, -712, -713, -714, -715]\n",
      "119 -111 -112 -113 -114 -115 -116 -117 -118 128 -121 -122 -123 -124 -125 -126 -127 -129 134 -131 -132 -133 -135 -136 -137 -138 -139 145 -141 -142 -143 -144 -146 -147 -148 -149 152 -151 -153 -154 -155 -156 -157 -158 -159 167 -161 -162 -163 -164 -165 -166 -168 -169 173 -171 -172 -174 -175 -176 -177 -178 -179 181 -182 -183 -184 -185 -186 -187 -188 -189 196 -191 -192 -193 -194 -195 -197 -198 -199 215 -211 -212 -213 -214 -216 -217 -218 -219 222 -221 -223 -224 -225 -226 -227 -228 -229 237 -231 -232 -233 -234 -235 -236 -238 -239 241 -242 -243 -244 -245 -246 -247 -248 -249 256 -251 -252 -253 -254 -255 -257 -258 -259 263 -261 -262 -264 -265 -266 -267 -268 -269 278 -271 -272 -273 -274 -275 -276 -277 -279 284 -281 -282 -283 -285 -286 -287 -288 -289 299 -291 -292 -293 -294 -295 -296 -297 -298 316 -311 -312 -313 -314 -315 -317 -318 -319 321 -322 -323 -324 -325 -326 -327 -328 -329 333 -331 -332 -334 -335 -336 -337 -338 -339 348 -341 -342 -343 -344 -345 -346 -347 -349 359 -351 -352 -353 -354 -355 -356 -357 -358 364 -361 -362 -363 -365 -366 -367 -368 -369 377 -371 -372 -373 -374 -375 -376 -378 -379 385 -381 -382 -383 -384 -386 -387 -388 -389 392 -391 -393 -394 -395 -396 -397 -398 -399 411 -412 -413 -414 -415 -416 -417 -418 -419 426 -421 -422 -423 -424 -425 -427 -428 -429 432 -431 -433 -434 -435 -436 -437 -438 -439 449 -441 -442 -443 -444 -445 -446 -447 -448 454 -451 -452 -453 -455 -456 -457 -458 -459 468 -461 -462 -463 -464 -465 -466 -467 -469 475 -471 -472 -473 -474 -476 -477 -478 -479 483 -481 -482 -484 -485 -486 -487 -488 -489 497 -491 -492 -493 -494 -495 -496 -498 -499 517 -511 -512 -513 -514 -515 -516 -518 -519 525 -521 -522 -523 -524 -526 -527 -528 -529 538 -531 -532 -533 -534 -535 -536 -537 -539 543 -541 -542 -544 -545 -546 -547 -548 -549 551 -552 -553 -554 -555 -556 -557 -558 -559 566 -561 -562 -563 -564 -565 -567 -568 -569 572 -571 -573 -574 -575 -576 -577 -578 -579 589 -581 -582 -583 -584 -585 -586 -587 -588 594 -591 -592 -593 -595 -596 -597 -598 -599 613 -611 -612 -614 -615 -616 -617 -618 -619 624 -621 -622 -623 -625 -626 -627 -628 -629 639 -631 -632 -633 -634 -635 -636 -637 -638 647 -641 -642 -643 -644 -645 -646 -648 -649 655 -651 -652 -653 -654 -656 -657 -658 -659 662 -661 -663 -664 -665 -666 -667 -668 -669 676 -671 -672 -673 -674 -675 -677 -678 -679 688 -681 -682 -683 -684 -685 -686 -687 -689 691 -692 -693 -694 -695 -696 -697 -698 -699 729 -721 -722 -723 -724 -725 -726 -727 -728 731 -732 -733 -734 -735 -736 -737 -738 -739 742 -741 -743 -744 -745 -746 -747 -748 -749 757 -751 -752 -753 -754 -755 -756 -758 -759 765 -761 -762 -763 -764 -766 -767 -768 -769 774 -771 -772 -773 -775 -776 -777 -778 -779 786 -781 -782 -783 -784 -785 -787 -788 -789 793 -791 -792 -794 -795 -796 -797 -798 -799 814 -811 -812 -813 -815 -816 -817 -818 -819 827 -821 -822 -823 -824 -825 -826 -828 -829 835 -831 -832 -833 -834 -836 -837 -838 -839 846 -841 -842 -843 -844 -845 -847 -848 -849 853 -851 -852 -854 -855 -856 -857 -858 -859 869 -861 -862 -863 -864 -865 -866 -867 -868 871 -872 -873 -874 -875 -876 -877 -878 -879 882 -881 -883 -884 -885 -886 -887 -888 -889 898 -891 -892 -893 -894 -895 -896 -897 -899 912 -911 -913 -914 -915 -916 -917 -918 -919 923 -921 -922 -924 -925 -926 -927 -928 -929 936 -931 -932 -933 -934 -935 -937 -938 -939 944 -941 -942 -943 -945 -946 -947 -948 -949 958 -951 -952 -953 -954 -955 -956 -957 -959 961 -962 -963 -964 -965 -966 -967 -968 -969 979 -971 -972 -973 -974 -975 -976 -977 -978 987 -981 -982 -983 -984 -985 -986 -988 -989 995 -991 -992 -993 -994 -996 -997 -998 -999 -711 712 713 714 715 \n",
      "None\n",
      "Start DPLL [0, 711, -712, -713, -714, -715, -716]\n",
      "119 -111 -112 -113 -114 -115 -116 -117 -118 128 -121 -122 -123 -124 -125 -126 -127 -129 134 -131 -132 -133 -135 -136 -137 -138 -139 145 -141 -142 -143 -144 -146 -147 -148 -149 152 -151 -153 -154 -155 -156 -157 -158 -159 167 -161 -162 -163 -164 -165 -166 -168 -169 173 -171 -172 -174 -175 -176 -177 -178 -179 181 -182 -183 -184 -185 -186 -187 -188 -189 196 -191 -192 -193 -194 -195 -197 -198 -199 215 -211 -212 -213 -214 -216 -217 -218 -219 222 -221 -223 -224 -225 -226 -227 -228 -229 237 -231 -232 -233 -234 -235 -236 -238 -239 241 -242 -243 -244 -245 -246 -247 -248 -249 256 -251 -252 -253 -254 -255 -257 -258 -259 263 -261 -262 -264 -265 -266 -267 -268 -269 278 -271 -272 -273 -274 -275 -276 -277 -279 284 -281 -282 -283 -285 -286 -287 -288 -289 299 -291 -292 -293 -294 -295 -296 -297 -298 316 -311 -312 -313 -314 -315 -317 -318 -319 321 -322 -323 -324 -325 -326 -327 -328 -329 333 -331 -332 -334 -335 -336 -337 -338 -339 348 -341 -342 -343 -344 -345 -346 -347 -349 359 -351 -352 -353 -354 -355 -356 -357 -358 364 -361 -362 -363 -365 -366 -367 -368 -369 377 -371 -372 -373 -374 -375 -376 -378 -379 385 -381 -382 -383 -384 -386 -387 -388 -389 392 -391 -393 -394 -395 -396 -397 -398 -399 411 -412 -413 -414 -415 -416 -417 -418 -419 426 -421 -422 -423 -424 -425 -427 -428 -429 432 -431 -433 -434 -435 -436 -437 -438 -439 449 -441 -442 -443 -444 -445 -446 -447 -448 454 -451 -452 -453 -455 -456 -457 -458 -459 468 -461 -462 -463 -464 -465 -466 -467 -469 475 -471 -472 -473 -474 -476 -477 -478 -479 483 -481 -482 -484 -485 -486 -487 -488 -489 497 -491 -492 -493 -494 -495 -496 -498 -499 517 -511 -512 -513 -514 -515 -516 -518 -519 525 -521 -522 -523 -524 -526 -527 -528 -529 538 -531 -532 -533 -534 -535 -536 -537 -539 543 -541 -542 -544 -545 -546 -547 -548 -549 551 -552 -553 -554 -555 -556 -557 -558 -559 566 -561 -562 -563 -564 -565 -567 -568 -569 572 -571 -573 -574 -575 -576 -577 -578 -579 589 -581 -582 -583 -584 -585 -586 -587 -588 594 -591 -592 -593 -595 -596 -597 -598 -599 613 -611 -612 -614 -615 -616 -617 -618 -619 624 -621 -622 -623 -625 -626 -627 -628 -629 639 -631 -632 -633 -634 -635 -636 -637 -638 647 -641 -642 -643 -644 -645 -646 -648 -649 655 -651 -652 -653 -654 -656 -657 -658 -659 662 -661 -663 -664 -665 -666 -667 -668 -669 676 -671 -672 -673 -674 -675 -677 -678 -679 688 -681 -682 -683 -684 -685 -686 -687 -689 691 -692 -693 -694 -695 -696 -697 -698 -699 729 -721 -722 -723 -724 -725 -726 -727 -728 731 -732 -733 -734 -735 -736 -737 -738 -739 742 -741 -743 -744 -745 -746 -747 -748 -749 757 -751 -752 -753 -754 -755 -756 -758 -759 765 -761 -762 -763 -764 -766 -767 -768 -769 774 -771 -772 -773 -775 -776 -777 -778 -779 786 -781 -782 -783 -784 -785 -787 -788 -789 793 -791 -792 -794 -795 -796 -797 -798 -799 814 -811 -812 -813 -815 -816 -817 -818 -819 827 -821 -822 -823 -824 -825 -826 -828 -829 835 -831 -832 -833 -834 -836 -837 -838 -839 846 -841 -842 -843 -844 -845 -847 -848 -849 853 -851 -852 -854 -855 -856 -857 -858 -859 869 -861 -862 -863 -864 -865 -866 -867 -868 871 -872 -873 -874 -875 -876 -877 -878 -879 882 -881 -883 -884 -885 -886 -887 -888 -889 898 -891 -892 -893 -894 -895 -896 -897 -899 912 -911 -913 -914 -915 -916 -917 -918 -919 923 -921 -922 -924 -925 -926 -927 -928 -929 936 -931 -932 -933 -934 -935 -937 -938 -939 944 -941 -942 -943 -945 -946 -947 -948 -949 958 -951 -952 -953 -954 -955 -956 -957 -959 961 -962 -963 -964 -965 -966 -967 -968 -969 979 -971 -972 -973 -974 -975 -976 -977 -978 987 -981 -982 -983 -984 -985 -986 -988 -989 995 -991 -992 -993 -994 -996 -997 -998 -999 -711 712 713 714 715 716 \n",
      "None\n",
      "Start DPLL [0, 711, -712, -713, -714, -715, -716, -717]\n",
      "119 -111 -112 -113 -114 -115 -116 -117 -118 128 -121 -122 -123 -124 -125 -126 -127 -129 134 -131 -132 -133 -135 -136 -137 -138 -139 145 -141 -142 -143 -144 -146 -147 -148 -149 152 -151 -153 -154 -155 -156 -157 -158 -159 167 -161 -162 -163 -164 -165 -166 -168 -169 173 -171 -172 -174 -175 -176 -177 -178 -179 181 -182 -183 -184 -185 -186 -187 -188 -189 196 -191 -192 -193 -194 -195 -197 -198 -199 215 -211 -212 -213 -214 -216 -217 -218 -219 222 -221 -223 -224 -225 -226 -227 -228 -229 237 -231 -232 -233 -234 -235 -236 -238 -239 241 -242 -243 -244 -245 -246 -247 -248 -249 256 -251 -252 -253 -254 -255 -257 -258 -259 263 -261 -262 -264 -265 -266 -267 -268 -269 278 -271 -272 -273 -274 -275 -276 -277 -279 284 -281 -282 -283 -285 -286 -287 -288 -289 299 -291 -292 -293 -294 -295 -296 -297 -298 316 -311 -312 -313 -314 -315 -317 -318 -319 321 -322 -323 -324 -325 -326 -327 -328 -329 333 -331 -332 -334 -335 -336 -337 -338 -339 348 -341 -342 -343 -344 -345 -346 -347 -349 359 -351 -352 -353 -354 -355 -356 -357 -358 364 -361 -362 -363 -365 -366 -367 -368 -369 377 -371 -372 -373 -374 -375 -376 -378 -379 385 -381 -382 -383 -384 -386 -387 -388 -389 392 -391 -393 -394 -395 -396 -397 -398 -399 411 -412 -413 -414 -415 -416 -417 -418 -419 426 -421 -422 -423 -424 -425 -427 -428 -429 432 -431 -433 -434 -435 -436 -437 -438 -439 449 -441 -442 -443 -444 -445 -446 -447 -448 454 -451 -452 -453 -455 -456 -457 -458 -459 468 -461 -462 -463 -464 -465 -466 -467 -469 475 -471 -472 -473 -474 -476 -477 -478 -479 483 -481 -482 -484 -485 -486 -487 -488 -489 497 -491 -492 -493 -494 -495 -496 -498 -499 517 -511 -512 -513 -514 -515 -516 -518 -519 525 -521 -522 -523 -524 -526 -527 -528 -529 538 -531 -532 -533 -534 -535 -536 -537 -539 543 -541 -542 -544 -545 -546 -547 -548 -549 551 -552 -553 -554 -555 -556 -557 -558 -559 566 -561 -562 -563 -564 -565 -567 -568 -569 572 -571 -573 -574 -575 -576 -577 -578 -579 589 -581 -582 -583 -584 -585 -586 -587 -588 594 -591 -592 -593 -595 -596 -597 -598 -599 613 -611 -612 -614 -615 -616 -617 -618 -619 624 -621 -622 -623 -625 -626 -627 -628 -629 639 -631 -632 -633 -634 -635 -636 -637 -638 647 -641 -642 -643 -644 -645 -646 -648 -649 655 -651 -652 -653 -654 -656 -657 -658 -659 662 -661 -663 -664 -665 -666 -667 -668 -669 676 -671 -672 -673 -674 -675 -677 -678 -679 688 -681 -682 -683 -684 -685 -686 -687 -689 691 -692 -693 -694 -695 -696 -697 -698 -699 729 -721 -722 -723 -724 -725 -726 -727 -728 731 -732 -733 -734 -735 -736 -737 -738 -739 742 -741 -743 -744 -745 -746 -747 -748 -749 757 -751 -752 -753 -754 -755 -756 -758 -759 765 -761 -762 -763 -764 -766 -767 -768 -769 774 -771 -772 -773 -775 -776 -777 -778 -779 786 -781 -782 -783 -784 -785 -787 -788 -789 793 -791 -792 -794 -795 -796 -797 -798 -799 814 -811 -812 -813 -815 -816 -817 -818 -819 827 -821 -822 -823 -824 -825 -826 -828 -829 835 -831 -832 -833 -834 -836 -837 -838 -839 846 -841 -842 -843 -844 -845 -847 -848 -849 853 -851 -852 -854 -855 -856 -857 -858 -859 869 -861 -862 -863 -864 -865 -866 -867 -868 871 -872 -873 -874 -875 -876 -877 -878 -879 882 -881 -883 -884 -885 -886 -887 -888 -889 898 -891 -892 -893 -894 -895 -896 -897 -899 912 -911 -913 -914 -915 -916 -917 -918 -919 923 -921 -922 -924 -925 -926 -927 -928 -929 936 -931 -932 -933 -934 -935 -937 -938 -939 944 -941 -942 -943 -945 -946 -947 -948 -949 958 -951 -952 -953 -954 -955 -956 -957 -959 961 -962 -963 -964 -965 -966 -967 -968 -969 979 -971 -972 -973 -974 -975 -976 -977 -978 987 -981 -982 -983 -984 -985 -986 -988 -989 995 -991 -992 -993 -994 -996 -997 -998 -999 -711 712 713 714 715 716 717 \n",
      "None\n",
      "Start DPLL [0, 711, -712, -713, -714, -715, -716, -717, -718]\n",
      "119 -111 -112 -113 -114 -115 -116 -117 -118 128 -121 -122 -123 -124 -125 -126 -127 -129 134 -131 -132 -133 -135 -136 -137 -138 -139 145 -141 -142 -143 -144 -146 -147 -148 -149 152 -151 -153 -154 -155 -156 -157 -158 -159 167 -161 -162 -163 -164 -165 -166 -168 -169 173 -171 -172 -174 -175 -176 -177 -178 -179 181 -182 -183 -184 -185 -186 -187 -188 -189 196 -191 -192 -193 -194 -195 -197 -198 -199 215 -211 -212 -213 -214 -216 -217 -218 -219 222 -221 -223 -224 -225 -226 -227 -228 -229 237 -231 -232 -233 -234 -235 -236 -238 -239 241 -242 -243 -244 -245 -246 -247 -248 -249 256 -251 -252 -253 -254 -255 -257 -258 -259 263 -261 -262 -264 -265 -266 -267 -268 -269 278 -271 -272 -273 -274 -275 -276 -277 -279 284 -281 -282 -283 -285 -286 -287 -288 -289 299 -291 -292 -293 -294 -295 -296 -297 -298 316 -311 -312 -313 -314 -315 -317 -318 -319 321 -322 -323 -324 -325 -326 -327 -328 -329 333 -331 -332 -334 -335 -336 -337 -338 -339 348 -341 -342 -343 -344 -345 -346 -347 -349 359 -351 -352 -353 -354 -355 -356 -357 -358 364 -361 -362 -363 -365 -366 -367 -368 -369 377 -371 -372 -373 -374 -375 -376 -378 -379 385 -381 -382 -383 -384 -386 -387 -388 -389 392 -391 -393 -394 -395 -396 -397 -398 -399 411 -412 -413 -414 -415 -416 -417 -418 -419 426 -421 -422 -423 -424 -425 -427 -428 -429 432 -431 -433 -434 -435 -436 -437 -438 -439 449 -441 -442 -443 -444 -445 -446 -447 -448 454 -451 -452 -453 -455 -456 -457 -458 -459 468 -461 -462 -463 -464 -465 -466 -467 -469 475 -471 -472 -473 -474 -476 -477 -478 -479 483 -481 -482 -484 -485 -486 -487 -488 -489 497 -491 -492 -493 -494 -495 -496 -498 -499 517 -511 -512 -513 -514 -515 -516 -518 -519 525 -521 -522 -523 -524 -526 -527 -528 -529 538 -531 -532 -533 -534 -535 -536 -537 -539 543 -541 -542 -544 -545 -546 -547 -548 -549 551 -552 -553 -554 -555 -556 -557 -558 -559 566 -561 -562 -563 -564 -565 -567 -568 -569 572 -571 -573 -574 -575 -576 -577 -578 -579 589 -581 -582 -583 -584 -585 -586 -587 -588 594 -591 -592 -593 -595 -596 -597 -598 -599 613 -611 -612 -614 -615 -616 -617 -618 -619 624 -621 -622 -623 -625 -626 -627 -628 -629 639 -631 -632 -633 -634 -635 -636 -637 -638 647 -641 -642 -643 -644 -645 -646 -648 -649 655 -651 -652 -653 -654 -656 -657 -658 -659 662 -661 -663 -664 -665 -666 -667 -668 -669 676 -671 -672 -673 -674 -675 -677 -678 -679 688 -681 -682 -683 -684 -685 -686 -687 -689 691 -692 -693 -694 -695 -696 -697 -698 -699 729 -721 -722 -723 -724 -725 -726 -727 -728 731 -732 -733 -734 -735 -736 -737 -738 -739 742 -741 -743 -744 -745 -746 -747 -748 -749 757 -751 -752 -753 -754 -755 -756 -758 -759 765 -761 -762 -763 -764 -766 -767 -768 -769 774 -771 -772 -773 -775 -776 -777 -778 -779 786 -781 -782 -783 -784 -785 -787 -788 -789 793 -791 -792 -794 -795 -796 -797 -798 -799 814 -811 -812 -813 -815 -816 -817 -818 -819 827 -821 -822 -823 -824 -825 -826 -828 -829 835 -831 -832 -833 -834 -836 -837 -838 -839 846 -841 -842 -843 -844 -845 -847 -848 -849 853 -851 -852 -854 -855 -856 -857 -858 -859 869 -861 -862 -863 -864 -865 -866 -867 -868 871 -872 -873 -874 -875 -876 -877 -878 -879 882 -881 -883 -884 -885 -886 -887 -888 -889 898 -891 -892 -893 -894 -895 -896 -897 -899 912 -911 -913 -914 -915 -916 -917 -918 -919 923 -921 -922 -924 -925 -926 -927 -928 -929 936 -931 -932 -933 -934 -935 -937 -938 -939 944 -941 -942 -943 -945 -946 -947 -948 -949 958 -951 -952 -953 -954 -955 -956 -957 -959 961 -962 -963 -964 -965 -966 -967 -968 -969 979 -971 -972 -973 -974 -975 -976 -977 -978 987 -981 -982 -983 -984 -985 -986 -988 -989 995 -991 -992 -993 -994 -996 -997 -998 -999 -711 712 713 714 715 716 717 718 \n",
      "None\n",
      "Start DPLL [0, 711, -712, -713, -714, -715, -716, -717, -718, 719]\n",
      "119 -111 -112 -113 -114 -115 -116 -117 -118 128 -121 -122 -123 -124 -125 -126 -127 -129 134 -131 -132 -133 -135 -136 -137 -138 -139 145 -141 -142 -143 -144 -146 -147 -148 -149 152 -151 -153 -154 -155 -156 -157 -158 -159 167 -161 -162 -163 -164 -165 -166 -168 -169 173 -171 -172 -174 -175 -176 -177 -178 -179 181 -182 -183 -184 -185 -186 -187 -188 -189 196 -191 -192 -193 -194 -195 -197 -198 -199 215 -211 -212 -213 -214 -216 -217 -218 -219 222 -221 -223 -224 -225 -226 -227 -228 -229 237 -231 -232 -233 -234 -235 -236 -238 -239 241 -242 -243 -244 -245 -246 -247 -248 -249 256 -251 -252 -253 -254 -255 -257 -258 -259 263 -261 -262 -264 -265 -266 -267 -268 -269 278 -271 -272 -273 -274 -275 -276 -277 -279 284 -281 -282 -283 -285 -286 -287 -288 -289 299 -291 -292 -293 -294 -295 -296 -297 -298 316 -311 -312 -313 -314 -315 -317 -318 -319 321 -322 -323 -324 -325 -326 -327 -328 -329 333 -331 -332 -334 -335 -336 -337 -338 -339 348 -341 -342 -343 -344 -345 -346 -347 -349 359 -351 -352 -353 -354 -355 -356 -357 -358 364 -361 -362 -363 -365 -366 -367 -368 -369 377 -371 -372 -373 -374 -375 -376 -378 -379 385 -381 -382 -383 -384 -386 -387 -388 -389 392 -391 -393 -394 -395 -396 -397 -398 -399 411 -412 -413 -414 -415 -416 -417 -418 -419 426 -421 -422 -423 -424 -425 -427 -428 -429 432 -431 -433 -434 -435 -436 -437 -438 -439 449 -441 -442 -443 -444 -445 -446 -447 -448 454 -451 -452 -453 -455 -456 -457 -458 -459 468 -461 -462 -463 -464 -465 -466 -467 -469 475 -471 -472 -473 -474 -476 -477 -478 -479 483 -481 -482 -484 -485 -486 -487 -488 -489 497 -491 -492 -493 -494 -495 -496 -498 -499 517 -511 -512 -513 -514 -515 -516 -518 -519 525 -521 -522 -523 -524 -526 -527 -528 -529 538 -531 -532 -533 -534 -535 -536 -537 -539 543 -541 -542 -544 -545 -546 -547 -548 -549 551 -552 -553 -554 -555 -556 -557 -558 -559 566 -561 -562 -563 -564 -565 -567 -568 -569 572 -571 -573 -574 -575 -576 -577 -578 -579 589 -581 -582 -583 -584 -585 -586 -587 -588 594 -591 -592 -593 -595 -596 -597 -598 -599 613 -611 -612 -614 -615 -616 -617 -618 -619 624 -621 -622 -623 -625 -626 -627 -628 -629 639 -631 -632 -633 -634 -635 -636 -637 -638 647 -641 -642 -643 -644 -645 -646 -648 -649 655 -651 -652 -653 -654 -656 -657 -658 -659 662 -661 -663 -664 -665 -666 -667 -668 -669 676 -671 -672 -673 -674 -675 -677 -678 -679 688 -681 -682 -683 -684 -685 -686 -687 -689 691 -692 -693 -694 -695 -696 -697 -698 -699 729 -721 -722 -723 -724 -725 -726 -727 -728 731 -732 -733 -734 -735 -736 -737 -738 -739 742 -741 -743 -744 -745 -746 -747 -748 -749 757 -751 -752 -753 -754 -755 -756 -758 -759 765 -761 -762 -763 -764 -766 -767 -768 -769 774 -771 -772 -773 -775 -776 -777 -778 -779 786 -781 -782 -783 -784 -785 -787 -788 -789 793 -791 -792 -794 -795 -796 -797 -798 -799 814 -811 -812 -813 -815 -816 -817 -818 -819 827 -821 -822 -823 -824 -825 -826 -828 -829 835 -831 -832 -833 -834 -836 -837 -838 -839 846 -841 -842 -843 -844 -845 -847 -848 -849 853 -851 -852 -854 -855 -856 -857 -858 -859 869 -861 -862 -863 -864 -865 -866 -867 -868 871 -872 -873 -874 -875 -876 -877 -878 -879 882 -881 -883 -884 -885 -886 -887 -888 -889 898 -891 -892 -893 -894 -895 -896 -897 -899 912 -911 -913 -914 -915 -916 -917 -918 -919 923 -921 -922 -924 -925 -926 -927 -928 -929 936 -931 -932 -933 -934 -935 -937 -938 -939 944 -941 -942 -943 -945 -946 -947 -948 -949 958 -951 -952 -953 -954 -955 -956 -957 -959 961 -962 -963 -964 -965 -966 -967 -968 -969 979 -971 -972 -973 -974 -975 -976 -977 -978 987 -981 -982 -983 -984 -985 -986 -988 -989 995 -991 -992 -993 -994 -996 -997 -998 -999 -711 712 713 714 715 716 717 718 719 \n",
      "None\n",
      "puzzle:      [[9, 8, 4, 5, 2, 7, 3, 1, 6], [5, 2, 7, 1, 6, 3, 8, 4, 9], [6, 1, 3, 8, 9, 4, 7, 5, 2], [1, 6, 2, 9, 4, 8, 5, 3, 7], [7, 5, 8, 3, 1, 6, 2, 9, 4], [3, 4, 9, 7, 5, 2, 6, 8, 1], [0, 9, 1, 2, 7, 5, 4, 6, 3], [4, 7, 5, 6, 3, 9, 1, 2, 8], [2, 3, 6, 4, 8, 1, 9, 7, 5]]\n",
      "solution:    [[9, 8, 4, 5, 2, 7, 3, 1, 6], [5, 2, 7, 1, 6, 3, 8, 4, 9], [6, 1, 3, 8, 9, 4, 7, 5, 2], [1, 6, 2, 9, 4, 8, 5, 3, 7], [7, 5, 8, 3, 1, 6, 2, 9, 4], [3, 4, 9, 7, 5, 2, 6, 8, 1], [8, 9, 1, 2, 7, 5, 4, 6, 3], [4, 7, 5, 6, 3, 9, 1, 2, 8], [2, 3, 6, 4, 8, 1, 9, 7, 5]]\n",
      "rightpuzzle: [[9, 8, 4, 5, 2, 7, 3, 1, 6], [5, 2, 7, 1, 6, 3, 8, 4, 9], [6, 1, 3, 8, 9, 4, 7, 5, 2], [1, 6, 2, 9, 4, 8, 5, 3, 7], [7, 5, 8, 3, 1, 6, 2, 9, 4], [3, 4, 9, 7, 5, 2, 6, 8, 1], [8, 9, 1, 2, 7, 5, 4, 6, 3], [4, 7, 5, 6, 3, 9, 1, 2, 8], [2, 3, 6, 4, 8, 1, 9, 7, 5]]\n",
      "True\n",
      "[9, 8, 4, 5, 2, 7, 3, 1, 6]\n",
      "[5, 2, 7, 1, 6, 3, 8, 4, 9]\n",
      "[6, 1, 3, 8, 9, 4, 7, 5, 2]\n",
      "[1, 6, 2, 9, 4, 8, 5, 3, 7]\n",
      "[7, 5, 8, 3, 1, 6, 2, 9, 4]\n",
      "[3, 4, 9, 7, 5, 2, 6, 8, 1]\n",
      "[8, 9, 1, 2, 7, 5, 4, 6, 3]\n",
      "[4, 7, 5, 6, 3, 9, 1, 2, 8]\n",
      "[2, 3, 6, 4, 8, 1, 9, 7, 5]\n"
     ]
    },
    {
     "name": "stderr",
     "output_type": "stream",
     "text": [
      "\n"
     ]
    }
   ],
   "source": [
    "# Load the Sudoku rules and the puzzle\n",
    "filename = './sudoku-rules-9x9.txt'\n",
    "rules = load_rules(filename)\n",
    "\n",
    "# Load the puzzles from the file and select the second puzzle (index 1)\n",
    "puzzle = load_sudoku('./veryeasy.txt')[0]\n",
    "rightpuzzle = load_sudoku('./veryeasy.txt')[-1]\n",
    "print(puzzle)\n",
    "\n",
    "size = 9  # Size of the grid (4x4 Sudoku)\n",
    "\n",
    "# Solve the Sudoku puzzle\n",
    "solution = solve_sudoku(rules, puzzle, size)\n",
    "\n",
    "print('puzzle:     ', puzzle)\n",
    "print('solution:   ', solution)\n",
    "print('rightpuzzle:', rightpuzzle)\n",
    "print(solution == rightpuzzle)\n",
    "# If a solution is found, print the solved Sudoku grid\n",
    "if solution:\n",
    "    for row in solution:\n",
    "        print(row)\n",
    "        if 0 in row:\n",
    "            print(\"PANIEK\")\n",
    "else:\n",
    "    print(\"No solution found\")\n",
    "    # 263 385 517 566 647"
   ]
  }
 ],
 "metadata": {
  "kernelspec": {
   "display_name": "CUT",
   "language": "python",
   "name": "python3"
  },
  "language_info": {
   "codemirror_mode": {
    "name": "ipython",
    "version": 3
   },
   "file_extension": ".py",
   "mimetype": "text/x-python",
   "name": "python",
   "nbconvert_exporter": "python",
   "pygments_lexer": "ipython3",
   "version": "3.12.3"
  }
 },
 "nbformat": 4,
 "nbformat_minor": 2
}
