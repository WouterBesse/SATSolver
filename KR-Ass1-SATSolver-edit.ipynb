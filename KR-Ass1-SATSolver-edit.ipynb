{
 "cells": [
  {
   "cell_type": "markdown",
   "metadata": {},
   "source": [
    "# SAT Solver Assignment\n",
    "Group 69<br>\n",
    "**Knowledge Representation**<br>\n",
    "November 2024"
   ]
  },
  {
   "cell_type": "markdown",
   "metadata": {},
   "source": [
    "****\n",
    "\n",
    "## Preperations\n",
    "\n",
    "*Everything we need to have before we can build the SAT Solver.*\n",
    "\n",
    "**Imports** - Use this cell for all imports."
   ]
  },
  {
   "cell_type": "code",
   "execution_count": 1,
   "metadata": {},
   "outputs": [
    {
     "name": "stderr",
     "output_type": "stream",
     "text": [
      "C:\\Users\\woute\\AppData\\Local\\Temp\\ipykernel_7052\\964927310.py:3: TqdmExperimentalWarning: Using `tqdm.autonotebook.tqdm` in notebook mode. Use `tqdm.tqdm` instead to force console mode (e.g. in jupyter console)\n",
      "  from tqdm.autonotebook import tqdm\n"
     ]
    }
   ],
   "source": [
    "# import modules\n",
    "import math\n",
    "from tqdm.autonotebook import tqdm\n",
    "from collections import Counter\n"
   ]
  },
  {
   "cell_type": "markdown",
   "metadata": {},
   "source": [
    "**Data** - Import the needed data. The data needs to be in DIMACS format. Each clause in DIMACS CNF consists of:\n",
    "\n",
    "- A series of positive or negative literals (numbers) that represent a Boolean variable or its negation.\n",
    "- Each clause ends with 0.\n",
    "- Each variable in DIMACS CNF is a positive integer, with unique integers representing each Boolean variable.\n",
    "\n",
    "For Sudoku, we use a triplet `(r, c, n)`:\n",
    "- `r` for the row (1 to 9)\n",
    "- `c` for the column (1 to 9)\n",
    "- `n` for the number (1 to 9)"
   ]
  },
  {
   "cell_type": "code",
   "execution_count": 2,
   "metadata": {},
   "outputs": [],
   "source": [
    "# Geeft een file met 91 sudoku's terug, sudokus[0] is de eerste sudoku met len(sudokus[0]) == 81 (9x9=81 karakters)\n",
    "with open('./top91.sdk.txt') as f:\n",
    "    sudokus = f.read().splitlines()"
   ]
  },
  {
   "cell_type": "markdown",
   "metadata": {},
   "source": [
    "*You are free to choose any programming language you fancy, but we must be able to run your SAT solver with the command SAT -Sn inputfile , for example: SAT -S2 sudoku_nr_10 , where SAT is the (compulsory) name of your program, n=1 for the basic DP and n=2 or 3 for your two other strategies, and the input file is the concatenation of all required input clauses (in your case: sudoku rules + given puzzle).*"
   ]
  },
  {
   "cell_type": "markdown",
   "metadata": {},
   "source": [
    "****\n",
    "\n",
    "## Part 1 - Building the SAT Solver"
   ]
  },
  {
   "cell_type": "markdown",
   "metadata": {},
   "source": [
    "**The Rules of Sudoku**\n",
    "1. Each number (1-9) must appear exactly once in each row.\n",
    "2. Each number must appear exactly once in each column.\n",
    "3. Each number must appear exactly once in each 3x3 subgrid.\n",
    "\n",
    "**The Data of Sudoku in DIMACS**"
   ]
  },
  {
   "cell_type": "code",
   "execution_count": 3,
   "metadata": {},
   "outputs": [],
   "source": [
    "def load_rules(filename: str) -> list[list[int]]:\n",
    "    with open(filename) as f:\n",
    "        raw_rules = f.read().splitlines()\n",
    "\n",
    "    rules = [list(map(int, clause.split()))[:-1] for clause in raw_rules[1:]]\n",
    "    return rules\n",
    "\n",
    "def load_sudoku(filename: str) -> tuple[list[list[list[int | str]]], int]:\n",
    "    with open(filename) as f:\n",
    "        sudoku = f.read().splitlines()\n",
    "\n",
    "    puzzles: list[list[list[int | str]]] = []\n",
    "    \n",
    "    puzzledim: int = math.sqrt(len(sudoku[0]))\n",
    "    assert puzzledim.is_integer(), \"The sudoku is not square\"\n",
    "    puzzledim = int(puzzledim)\n",
    "    print(f\"puzzledim: {puzzledim}\")\n",
    "\n",
    "    for puzzle in sudoku:\n",
    "        newpuzzle = []\n",
    "        for r in range(puzzledim):\n",
    "            row = []\n",
    "            for c in range(puzzledim):\n",
    "                val = puzzle[r * puzzledim + c]\n",
    "                if val == '.': \n",
    "                    val = 0\n",
    "                elif puzzledim == 16 and val.isalpha():\n",
    "                    # encode 1 to g values to 1 to 16\n",
    "                    val = int(ord(val) - 55)\n",
    "                else:\n",
    "                    val = int(val)\n",
    "                row.append(val)\n",
    "            newpuzzle.append(row)\n",
    "        puzzles.append(newpuzzle)\n",
    "    return puzzles, puzzledim"
   ]
  },
  {
   "cell_type": "markdown",
   "metadata": {},
   "source": [
    "**Functions to Assign Obvious Values** - Fill in the single and pure literal clauses."
   ]
  },
  {
   "cell_type": "code",
   "execution_count": 4,
   "metadata": {},
   "outputs": [],
   "source": [
    "def printinclause(clauses: list[list[int]], literal: int, extra: str) -> None:\n",
    "    for clause in clauses:\n",
    "        for lit in clause:\n",
    "            if lit//10 == literal:\n",
    "                print('In clause!', end=extra + '\\n')\n",
    "                return\n",
    "\n",
    "def propagate(clauses: list[list[int]], literal: int) -> list[list[int]]:\n",
    "    \"\"\"Propagates a literal and simplifies the clauses.\"\"\"\n",
    "    new_clauses = []\n",
    "    for clause in clauses:\n",
    "        if literal in clause:\n",
    "            continue  # Clause is satisfied, so skip it\n",
    "        new_clause = [l for l in clause if l != -literal]\n",
    "        # If new_clause is empty, we should add it as an empty clause to signal unsatisfiability.\n",
    "        new_clauses.append(new_clause)\n",
    "    return new_clauses\n",
    "\n",
    "def single_literal(clauses: list[list[int]], assignment: dict[int, bool]) -> list[list[int]] | None:\n",
    "    \"\"\"Check for clauses that have only one literal in them, if so we can assign that literal to True and remove the clause.\n",
    "\n",
    "    Args:\n",
    "        clauses (list[list[int]]): List of clauses in dimacs format\n",
    "        assignment (dict[int, bool]): Dictionary of assignments\n",
    "\n",
    "    Returns:\n",
    "        list[list[int]] | None: Simplified clauses\n",
    "    \"\"\"\n",
    "    changed = True\n",
    "    while changed:\n",
    "        changed = False\n",
    "        unit_clauses = [c for c in clauses if len(c) == 1]\n",
    "        for unit in unit_clauses:\n",
    "            literal = unit[0]\n",
    "            assignment[abs(literal)] = literal > 0\n",
    "            clauses = propagate(clauses, literal)\n",
    "            changed = True\n",
    "    return clauses\n",
    "\n",
    "def pure_literal(clauses: list[list[int]], assignment: dict[int, bool]) -> list[list[int]]:\n",
    "    \"\"\"Check for pure literals, meaning that if one literal is in the clauses but it's negative is never we can assign it.\n",
    "    Turns out this isn't used often for sudoku and mainly slows down the solver.\n",
    "\n",
    "    Args:\n",
    "        clauses (list[list[int]]): Lists of clauses in dimacs format\n",
    "        assignment (dict[int, bool]): Dictionary of assignments\n",
    "\n",
    "    Returns:\n",
    "        list[list[int]]: Simplified clauses\n",
    "    \"\"\"\n",
    "    while True:\n",
    "        literals = {lit for clause in clauses for lit in clause}\n",
    "        pure_literals = [l for l in literals if -l not in literals]\n",
    "        if not pure_literals:\n",
    "            break\n",
    "        for literal in pure_literals:\n",
    "            assignment[abs(literal)] = literal > 0\n",
    "            # Remove all clauses containing this pure literal\n",
    "            clauses = [clause for clause in clauses if literal not in clause]\n",
    "    return clauses\n",
    "\n",
    "\n",
    "def choose_literal(clauses: list[list[int]], assignment: dict[int, bool], heuristic) -> int | None:\n",
    "    \"\"\"\n",
    "    Chooses the next literal to assign based on the given heuristic.\n",
    "\n",
    "    Args:\n",
    "        clauses (list[list[int]]): List of clauses in DIMACS format.\n",
    "        assignment (dict[int, bool]): Dictionary of current variable assignments.\n",
    "        heuristic (function): Function to apply the heuristic logic.\n",
    "\n",
    "    Returns:\n",
    "        int | None: The chosen literal, or None if no unassigned literals remain.\n",
    "    \"\"\"\n",
    "    unassigned = {abs(lit) for clause in clauses for lit in clause if abs(lit) not in assignment}\n",
    "    if not unassigned:\n",
    "        return None\n",
    "    return heuristic(clauses, unassigned)\n"
   ]
  },
  {
   "cell_type": "markdown",
   "metadata": {},
   "source": [
    "**Heuristics** - Two different heuristics of our choice"
   ]
  },
  {
   "cell_type": "code",
   "execution_count": 5,
   "metadata": {},
   "outputs": [],
   "source": [
    "# Most frequent literal\n",
    "import random\n",
    "\n",
    "def random_literal(clauses: list[list[int]], unassigned: set[int]) -> int:\n",
    "    return random.choice(list(unassigned))"
   ]
  },
  {
   "cell_type": "code",
   "execution_count": null,
   "metadata": {},
   "outputs": [],
   "source": [
    "import heapq\n",
    "\n",
    "# heuristic two\n",
    "class VSIDS:\n",
    "    def __init__(self, clauses: list[list[int]], alpha: float = 0.95) -> None:\n",
    "        self.activities = {}\n",
    "        self.literals = set()\n",
    "        self.alpha = alpha\n",
    "        self.decay_factor = 1.0\n",
    "\n",
    "        # Initialize the counts\n",
    "        for clause in clauses:\n",
    "            for lit in clause:\n",
    "                if lit not in self.activities:\n",
    "                    self.activities[lit] = 0\n",
    "                    self.literals.add(lit)\n",
    "\n",
    "    def __call__(self, clauses: list[list[int]], unassigned: set[int]) -> int:\n",
    "        # Check the available literals still in the clauses\n",
    "        available = {lit for clause in clauses for lit in clause}\n",
    "        \n",
    "        # Choose the literal with the highest activity\n",
    "        max_activity = -1\n",
    "        best_literal = None\n",
    "        for lit in available:\n",
    "            if self.activities[lit] > max_activity:\n",
    "                max_activity = self.activities[lit]\n",
    "                best_literal = lit\n",
    "        \n",
    "        return best_literal\n",
    "\n",
    "    def update(self, literal: int) -> None:\n",
    "        # Increase the activity of the literal\n",
    "        self.activities[literal] += self.decay_factor\n",
    "\n",
    "    def decay(self) -> None:\n",
    "        # Decay all activities, not used currently as it seemed to slow down the program\n",
    "        self.decay_factor *= self.alpha\n",
    "        for lit in self.activities:\n",
    "            self.activities[lit] *= self.alpha\n",
    "            "
   ]
  },
  {
   "cell_type": "markdown",
   "metadata": {},
   "source": [
    "**DPLL Algorithm** - DPLL recursive algorithm function,  without heuristics, to perform the fucntions above and recursively gives values to literals."
   ]
  },
  {
   "cell_type": "code",
   "execution_count": 7,
   "metadata": {},
   "outputs": [],
   "source": [
    "def print_ass(assignment: dict) -> None:\n",
    "    for key in assignment.keys():\n",
    "        dimac = key if assignment[key] else -key\n",
    "        print(dimac, end=' ')\n",
    "    print('')\n",
    "\n",
    "def dpll(clauses: list[list[int]], assignment: dict[int, bool], heuristic: callable, pbar: tqdm, history: list[int] = [0]) -> dict[int, bool] | None:\n",
    "    \"\"\"DPLL algorithm to solve logic problems and stuff.\n",
    "\n",
    "    Args:\n",
    "        clauses (list[list[int]]): List of clauses in dimacs format\n",
    "        assignment (dict[int, bool]): Dictionary with variables that have a value assigned to them\n",
    "        pbar (tqdm): Tqdm progress bar, to keep track of brrrrrr\n",
    "        history (list[int], optional): What variables it has checked. Defaults to [0].\n",
    "\n",
    "    Returns:\n",
    "        dict[int, bool] | None: Returns solution if possible, else None\n",
    "    \"\"\"\n",
    "    # print(\"DPLL Call with History:\", history)\n",
    "    # Apply single literal rule\n",
    "\n",
    "    clauses = single_literal(clauses, assignment)\n",
    "\n",
    "    if clauses is None:\n",
    "        # if using vsids update activities\n",
    "        if type(heuristic) == VSIDS:\n",
    "            heuristic.update(history[-1])\n",
    "        return None  # conflict\n",
    "    if not clauses:\n",
    "        return assignment  # all clauses satisfied\n",
    "\n",
    "    # Apply pure literal rule\n",
    "    clauses = pure_literal(clauses, assignment)\n",
    "    if not clauses:\n",
    "        return assignment  # all clauses satisfied\n",
    "\n",
    "    # Select an unassigned literal -> old part before heuristics\n",
    "    # literal = next((lit for clause in clauses for lit in clause if abs(lit) not in assignment), None)\n",
    "    # if literal is None:\n",
    "    #     return None  # assignment is complete\n",
    "    # literal = abs(literal)\n",
    "\n",
    "    #new for heuristics\n",
    "    literal = choose_literal(clauses, assignment, heuristic=heuristic)\n",
    "    if literal is None: # conflict\n",
    "        if type(heuristic) == VSIDS:\n",
    "            heuristic.update(history[-1])\n",
    "        return None\n",
    "    literal = abs(literal)\n",
    "    \n",
    "    pbar.update(1)\n",
    "    # Check both true and false assignments\n",
    "    for booly in [True, False]:\n",
    "        updated_assignment = assignment.copy()\n",
    "        updated_assignment[abs(literal)] = booly\n",
    "        updated_clauses = propagate(clauses, literal if booly else -literal)\n",
    "        \n",
    "        result = dpll(updated_clauses, updated_assignment, heuristic, pbar, history + [literal if booly else -literal])\n",
    "        if result:  # If a satisfying assignment is found\n",
    "            return result\n",
    "        \n",
    "    # conflict\n",
    "    if type(heuristic) == VSIDS:\n",
    "            heuristic.update(history[-1])\n",
    "    return None  # backtrack"
   ]
  },
  {
   "cell_type": "markdown",
   "metadata": {},
   "source": [
    "*give (2)+(3) as input to (1) and return the solution to the given puzzle. This output should again be a DIMACS file, but containing only the truth assignment to all variables (729 for Sudoku, different for other SAT problems). If your input file is called 'filename', then make sure your outputfile is called 'filename.out'. If there is no solution (inconsistent problem), the output can be an empty file. If there are multiple solutions (eg. non-proper Sudoku) you only need to return a single solution.*"
   ]
  },
  {
   "cell_type": "markdown",
   "metadata": {},
   "source": [
    "**SAT Solver** - Solves the Sudoku\n",
    "\n",
    "Extra information about the code:\n",
    "Each cell in a Sudoku puzzle can be represented by a unique variable based on its row, column, and possible number. The encoding formula for each variable is:\n",
    "\n",
    "`variable=(i+1)×100+(j+1)×10+value`<br>\n",
    "\n",
    "where:<br>\n",
    "\n",
    "`i is the row index (0 to 8)`<br>\n",
    "`j is the column index (0 to 8)`<br>\n",
    "`value is the number in the cell (1 to 9)`<br>\n",
    "\n",
    "This formula converts each cell and its possible values into unique numbers by combining the row, column, and value in a single integer. For example, if a cell at row 0, column 0 can be a 5, the encoded variable would be:<br>\n",
    "\n",
    "`variable=(0+1)×100+(0+1)×10+5=115`<br>"
   ]
  },
  {
   "cell_type": "code",
   "execution_count": null,
   "metadata": {},
   "outputs": [],
   "source": [
    "def solve_sudoku(rules: list[list[int]], puzzle: list[list[int]], size: int, vsids: bool = False) -> list[list[int]] | None:\n",
    "    \"\"\"\n",
    "    Solves a Sudoku puzzle using given rules and an initial puzzle setup.\n",
    "\n",
    "    Args:\n",
    "        rules (list[list[int]]): A list of rules in CNF dimacs form for Sudoku constraints.\n",
    "        puzzle (list[list[int]]): A 9x9 grid representing the puzzle, with `0` for empty cells.\n",
    "        size (int): The size of the Sudoku puzzle (e.g. 9 for a 9x9 puzzle).\n",
    "\n",
    "    Returns:\n",
    "        list[list[int]] | None: A solved 9x9 Sudoku grid if a solution exists, otherwise None.\n",
    "    \"\"\"\n",
    "    assignment = {} # the sudoku\n",
    "    amt_unknown = 0\n",
    "    rcmult = 17 if size == 16 else 10\n",
    "    for i, row in enumerate(puzzle):\n",
    "        for j, value in enumerate(row):\n",
    "            if value != 0:  # if 0, cell is empty, if not 0, it is a pre-filled cell\n",
    "                # Make the value in row i, column j True if it is the value from the sudoku, all other numbers in that place False\n",
    "                varnum = (i + 1) * (rcmult**2) + (j + 1) * rcmult + value\n",
    "                assignment[varnum] = True\n",
    "                rules = propagate(rules, varnum)\n",
    "                for k in range(1, size+1):\n",
    "                    if k != value:\n",
    "                        assignment[(i + 1) * 100 + (j + 1) * 10 + k] = False\n",
    "            else:\n",
    "                amt_unknown += 1\n",
    "    \n",
    "    if vsids:\n",
    "        heuristic = VSIDS(rules)\n",
    "    \n",
    "    with tqdm(total=amt_unknown * size,desc='Trying to find logic solution') as pbar:\n",
    "        solution = dpll(rules, assignment, heuristic if vsids else random_literal, pbar)\n",
    "    if not solution:\n",
    "        return None\n",
    "     \n",
    "    # parse the solution back to a 9x9 grid\n",
    "    result = [[0] * 9 for _ in range(9)]\n",
    "    for var, value in solution.items():\n",
    "        if value:  # Ensure var corresponds to a Sudoku cell (1-9 for each row, column)\n",
    "            i = (var // 100) - 1\n",
    "            j = ((var // 10) % 10) - 1\n",
    "            num = var % 10\n",
    "            result[i][j] = num\n",
    "    return result"
   ]
  },
  {
   "cell_type": "markdown",
   "metadata": {},
   "source": [
    "**Test Sudoku** - Try and see if it works"
   ]
  },
  {
   "cell_type": "code",
   "execution_count": 9,
   "metadata": {},
   "outputs": [
    {
     "name": "stdout",
     "output_type": "stream",
     "text": [
      "puzzledim: 4\n"
     ]
    },
    {
     "data": {
      "text/plain": [
       "4"
      ]
     },
     "execution_count": 9,
     "metadata": {},
     "output_type": "execute_result"
    }
   ],
   "source": [
    "load_sudoku('./4x4_easy.txt')[1]"
   ]
  },
  {
   "cell_type": "code",
   "execution_count": 10,
   "metadata": {},
   "outputs": [
    {
     "name": "stdout",
     "output_type": "stream",
     "text": [
      "puzzledim: 16\n",
      "[[1, 0, 13, 0, 0, 0, 0, 4, 0, 10, 5, 8, 0, 0, 0, 0], [0, 14, 0, 0, 0, 0, 0, 0, 0, 0, 0, 12, 0, 0, 0, 16], [0, 2, 0, 7, 6, 0, 16, 11, 15, 0, 0, 4, 0, 0, 0, 0], [3, 9, 15, 0, 1, 10, 0, 13, 7, 0, 0, 0, 0, 0, 0, 0], [0, 4, 0, 6, 0, 3, 1, 0, 0, 0, 11, 0, 5, 8, 0, 12], [8, 12, 7, 14, 0, 6, 9, 0, 0, 15, 0, 0, 0, 0, 0, 13], [0, 0, 0, 13, 0, 0, 0, 0, 0, 0, 0, 0, 0, 0, 2, 0], [0, 0, 10, 0, 16, 8, 12, 0, 0, 0, 0, 7, 14, 0, 1, 4], [2, 6, 0, 16, 4, 0, 0, 0, 0, 5, 7, 15, 0, 10, 0, 0], [0, 11, 0, 0, 0, 0, 0, 0, 0, 0, 0, 0, 8, 0, 0, 0], [15, 0, 0, 0, 0, 0, 11, 0, 0, 3, 10, 0, 4, 2, 14, 1], [10, 0, 4, 12, 0, 5, 0, 0, 0, 14, 6, 0, 7, 0, 3, 0], [0, 0, 0, 0, 0, 0, 0, 3, 13, 0, 12, 5, 0, 7, 11, 2], [0, 0, 0, 0, 9, 0, 0, 1, 16, 11, 0, 6, 3, 0, 4, 0], [12, 0, 0, 0, 2, 0, 0, 0, 0, 0, 0, 0, 0, 0, 6, 0], [0, 0, 0, 0, 8, 15, 13, 0, 3, 0, 0, 0, 0, 9, 0, 14]]\n"
     ]
    },
    {
     "data": {
      "application/vnd.jupyter.widget-view+json": {
       "model_id": "c36a9989c34c4fd3b2bbe5118fa6ed2b",
       "version_major": 2,
       "version_minor": 0
      },
      "text/plain": [
       "Trying to find logic solution:   0%|          | 0/2528 [00:00<?, ?it/s]"
      ]
     },
     "metadata": {},
     "output_type": "display_data"
    },
    {
     "name": "stdout",
     "output_type": "stream",
     "text": [
      "puzzle:      [[1, 0, 13, 0, 0, 0, 0, 4, 0, 10, 5, 8, 0, 0, 0, 0], [0, 14, 0, 0, 0, 0, 0, 0, 0, 0, 0, 12, 0, 0, 0, 16], [0, 2, 0, 7, 6, 0, 16, 11, 15, 0, 0, 4, 0, 0, 0, 0], [3, 9, 15, 0, 1, 10, 0, 13, 7, 0, 0, 0, 0, 0, 0, 0], [0, 4, 0, 6, 0, 3, 1, 0, 0, 0, 11, 0, 5, 8, 0, 12], [8, 12, 7, 14, 0, 6, 9, 0, 0, 15, 0, 0, 0, 0, 0, 13], [0, 0, 0, 13, 0, 0, 0, 0, 0, 0, 0, 0, 0, 0, 2, 0], [0, 0, 10, 0, 16, 8, 12, 0, 0, 0, 0, 7, 14, 0, 1, 4], [2, 6, 0, 16, 4, 0, 0, 0, 0, 5, 7, 15, 0, 10, 0, 0], [0, 11, 0, 0, 0, 0, 0, 0, 0, 0, 0, 0, 8, 0, 0, 0], [15, 0, 0, 0, 0, 0, 11, 0, 0, 3, 10, 0, 4, 2, 14, 1], [10, 0, 4, 12, 0, 5, 0, 0, 0, 14, 6, 0, 7, 0, 3, 0], [0, 0, 0, 0, 0, 0, 0, 3, 13, 0, 12, 5, 0, 7, 11, 2], [0, 0, 0, 0, 9, 0, 0, 1, 16, 11, 0, 6, 3, 0, 4, 0], [12, 0, 0, 0, 2, 0, 0, 0, 0, 0, 0, 0, 0, 0, 6, 0], [0, 0, 0, 0, 8, 15, 13, 0, 3, 0, 0, 0, 0, 9, 0, 14]]\n",
      "solution:    [[0, 0, 0, 0, 0, 0, 0, 0, 0], [0, 0, 0, 0, 0, 0, 0, 0, 0], [0, 0, 9, 0, 0, 8, 0, 6, 3], [1, 0, 0, 0, 1, 0, 0, 0, 0], [6, 0, 0, 1, 9, 8, 0, 0, 9], [0, 0, 5, 0, 6, 8, 0, 7, 0], [2, 2, 2, 0, 0, 8, 0, 0, 4], [0, 9, 0, 2, 0, 0, 0, 9, 0], [0, 0, 0, 0, 0, 0, 8, 0, 3]]\n",
      "[0, 0, 0, 0, 0, 0, 0, 0, 0]\n",
      "PANIEK\n",
      "[0, 0, 0, 0, 0, 0, 0, 0, 0]\n",
      "PANIEK\n",
      "[0, 0, 9, 0, 0, 8, 0, 6, 3]\n",
      "PANIEK\n",
      "[1, 0, 0, 0, 1, 0, 0, 0, 0]\n",
      "PANIEK\n",
      "[6, 0, 0, 1, 9, 8, 0, 0, 9]\n",
      "PANIEK\n",
      "[0, 0, 5, 0, 6, 8, 0, 7, 0]\n",
      "PANIEK\n",
      "[2, 2, 2, 0, 0, 8, 0, 0, 4]\n",
      "PANIEK\n",
      "[0, 9, 0, 2, 0, 0, 0, 9, 0]\n",
      "PANIEK\n",
      "[0, 0, 0, 0, 0, 0, 8, 0, 3]\n",
      "PANIEK\n"
     ]
    }
   ],
   "source": [
    "# Load the Sudoku rules and the puzzle\n",
    "filename = './sudoku-rules-16x16.txt'\n",
    "rules = load_rules(filename)\n",
    "# print(rules)\n",
    "\n",
    "# Load the puzzles from the file and select the second puzzle (index 1)\n",
    "puzzles, size = load_sudoku('./16x16.txt')\n",
    "puzzle = puzzles[0]\n",
    "print(puzzle)\n",
    "\n",
    "heuristic = random_literal\n",
    "\n",
    "# Solve the Sudoku puzzle\n",
    "solution = solve_sudoku(rules, puzzle, size, vsids=True)\n",
    "\n",
    "print('puzzle:     ', puzzle)\n",
    "print('solution:   ', solution)\n",
    "\n",
    "# If a solution is found, print the solved Sudoku grid\n",
    "if solution:\n",
    "    for row in solution:\n",
    "        print(row)\n",
    "        if 0 in row:\n",
    "            print(\"PANIEK\")\n",
    "else:\n",
    "    print(\"No solution found\")\n",
    "    # 263 385 517 566 647"
   ]
  }
 ],
 "metadata": {
  "kernelspec": {
   "display_name": "Python 3 (ipykernel)",
   "language": "python",
   "name": "python3"
  },
  "language_info": {
   "codemirror_mode": {
    "name": "ipython",
    "version": 3
   },
   "file_extension": ".py",
   "mimetype": "text/x-python",
   "name": "python",
   "nbconvert_exporter": "python",
   "pygments_lexer": "ipython3",
   "version": "3.12.3"
  }
 },
 "nbformat": 4,
 "nbformat_minor": 4
}
